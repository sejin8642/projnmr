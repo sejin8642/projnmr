{
 "cells": [
  {
   "cell_type": "markdown",
   "id": "d60e768f-e826-429c-976d-3fbb93865c1b",
   "metadata": {
    "tags": []
   },
   "source": [
    "## initial configuration"
   ]
  },
  {
   "cell_type": "code",
   "execution_count": 1,
   "id": "9e876ad7-4aee-471a-a033-491035f3b92e",
   "metadata": {},
   "outputs": [],
   "source": [
    "import sys\n",
    "from pathlib import Path\n",
    "from importlib import reload"
   ]
  },
  {
   "cell_type": "code",
   "execution_count": 2,
   "id": "2cfb2951-fc40-425e-8a9b-b3d5e8c01fe1",
   "metadata": {},
   "outputs": [],
   "source": [
    "project_path = str(Path.home()/'gd'/'projects')\n",
    "\n",
    "sys.path.insert(0, project_path + '/ftnmr/scripts')\n",
    "sys.path.insert(0, project_path + '/projnmr/scripts')\n",
    "sys.path.insert(0, project_path + '/handson/scripts/part2')\n",
    "sys.path.insert(0, project_path + '/mods/scripts')"
   ]
  },
  {
   "cell_type": "code",
   "execution_count": 3,
   "id": "edcee921-6af7-4b79-b9ee-71ce1676e1fe",
   "metadata": {},
   "outputs": [],
   "source": [
    "import ftnmr\n",
    "import projnmr\n",
    "import handson\n",
    "import mods\n",
    "from projnmr import metaboliteGenerator as mg\n",
    "from string import ascii_letters as al"
   ]
  },
  {
   "cell_type": "code",
   "execution_count": 4,
   "id": "c1131cc7-2c85-4887-bc41-3a27cc5aca95",
   "metadata": {},
   "outputs": [],
   "source": [
    "import os\n",
    "# for error \"not creating xla devices tf_xla_enable_xla_devices not set\"\n",
    "os.environ['TF_XLA_FLAGS'] = '--tf_xla_enable_xla_devices'\n",
    "#TF_XLA_FLAGS is an environment variable used by TensorFlow's XLA \n",
    "#compiler to control its behavior. In this case, setting TF_XLA_FLAGS to \n",
    "#--tf_xla_enable_xla_devices enables the XLA compiler to use all available XLA devices, \n",
    "#such as GPUs or TPUs, for faster execution of TensorFlow computations.\n",
    "\n",
    "# for error \"Successfully opened dynamic library libcudart.so.10.1\"\n",
    "os.environ['TF_CPP_MIN_LOG_LEVEL'] = '2'"
   ]
  },
  {
   "cell_type": "code",
   "execution_count": 5,
   "id": "811d66ff-27dc-409b-b241-2943739396af",
   "metadata": {
    "scrolled": true
   },
   "outputs": [],
   "source": [
    "import inspect\n",
    "import random\n",
    "import psutil\n",
    "import gc\n",
    "\n",
    "from functools import partial\n",
    "\n",
    "import numpy as np\n",
    "import matplotlib.pyplot as plt\n",
    "import pandas as pd\n",
    "import h5py\n",
    "\n",
    "import tensorflow as tf\n",
    "from tensorflow import keras"
   ]
  },
  {
   "cell_type": "code",
   "execution_count": 6,
   "id": "ec33189b-a8ac-480a-88b8-db055dd1ef62",
   "metadata": {},
   "outputs": [
    {
     "data": {
      "text/plain": [
       "'2.11.1'"
      ]
     },
     "execution_count": 6,
     "metadata": {},
     "output_type": "execute_result"
    }
   ],
   "source": [
    "# similar to os.environ['TF_XLA_FLAGS'], but preferred way to enable XLA\n",
    "tf.config.optimizer.set_jit(True) \n",
    "\n",
    "tf.__version__ # TF version"
   ]
  },
  {
   "cell_type": "code",
   "execution_count": 7,
   "id": "2876b85d-bd5a-4ac6-bead-eef5f1a781ca",
   "metadata": {},
   "outputs": [
    {
     "name": "stdout",
     "output_type": "stream",
     "text": [
      "/physical_device:CPU:0\n",
      "/physical_device:XLA_CPU:0\n",
      "/physical_device:GPU:0\n",
      "/physical_device:GPU:1\n",
      "/physical_device:XLA_GPU:0\n",
      "/physical_device:XLA_GPU:1\n"
     ]
    }
   ],
   "source": [
    "devices = tf.config.get_visible_devices()\n",
    "for dev in devices:\n",
    "    print(dev.name)"
   ]
  },
  {
   "cell_type": "code",
   "execution_count": 8,
   "id": "a1b1d3c0-11fa-4b65-a93c-c017397e26d5",
   "metadata": {},
   "outputs": [
    {
     "data": {
      "text/plain": [
       "True"
      ]
     },
     "execution_count": 8,
     "metadata": {},
     "output_type": "execute_result"
    }
   ],
   "source": [
    "tf.test.is_built_with_cuda()"
   ]
  },
  {
   "cell_type": "code",
   "execution_count": 9,
   "id": "444c8ab6-8efa-4928-91bf-1547225d9933",
   "metadata": {},
   "outputs": [
    {
     "name": "stdout",
     "output_type": "stream",
     "text": [
      "GPU 0: Total memory: 11264.0 MB\n",
      "       Free memory: 11007.5625 MB\n",
      "GPU 1: Total memory: 11264.0 MB\n",
      "       Free memory: 11007.5625 MB\n"
     ]
    }
   ],
   "source": [
    "import pynvml\n",
    "pynvml.nvmlInit()\n",
    "\n",
    "gpus = pynvml.nvmlDeviceGetCount()\n",
    "for i in range(gpus):\n",
    "    handle = pynvml.nvmlDeviceGetHandleByIndex(i)\n",
    "    info = pynvml.nvmlDeviceGetMemoryInfo(handle)\n",
    "    print(f\"GPU {i}: Total memory: {info.total / (1024**2)} MB\")\n",
    "    print(f\"       Free memory: {info.free / (1024**2)} MB\")\n",
    "\n",
    "pynvml.nvmlShutdown()"
   ]
  },
  {
   "cell_type": "code",
   "execution_count": 10,
   "id": "dbe0251d-f01f-4d4e-9fb6-4e67ff4b6246",
   "metadata": {},
   "outputs": [
    {
     "name": "stdout",
     "output_type": "stream",
     "text": [
      "Jupyter Lab memory usage: 104.01171875MB\n"
     ]
    }
   ],
   "source": [
    "# Get the Jupyter Lab process ID\n",
    "jupyter_pid = !pgrep jupyter-lab\n",
    "jupyter_pid = int(jupyter_pid[0])\n",
    "\n",
    "# get memory usage of jupyter lab\n",
    "process = psutil.Process(jupyter_pid)\n",
    "memory_info = process.memory_info()\n",
    "print(f\"Jupyter Lab memory usage: {memory_info.rss/(1024**2)}MB\")"
   ]
  },
  {
   "cell_type": "markdown",
   "id": "aa4c7fe7-8fb1-4a62-b99f-8440bfd8f074",
   "metadata": {
    "jp-MarkdownHeadingCollapsed": true,
    "tags": []
   },
   "source": [
    "## tf.data.Dataset for memory management and randomization"
   ]
  },
  {
   "cell_type": "code",
   "execution_count": 9,
   "id": "513d2aa7-6aaf-4503-bc30-08fc799fec22",
   "metadata": {},
   "outputs": [
    {
     "data": {
      "text/plain": [
       "array([  0,   1,   2,   3,   4,   5,   6,   7,   8,   9,  10,  11,  12,\n",
       "        13,  14,  15,  16,  17,  18,  19,  20,  21,  22,  23,  24,  25,\n",
       "        26,  27,  28,  29,  30,  31,  32,  33,  34,  35,  36,  37,  38,\n",
       "        39,  40,  41,  42,  43,  44,  45,  46,  47,  48,  49,  50,  51,\n",
       "        52,  53,  54,  55,  56,  57,  58,  59,  60,  61,  62,  63,  64,\n",
       "        65,  66,  67,  68,  69,  70,  71,  72,  73,  74,  75,  76,  77,\n",
       "        78,  79,  80,  81,  82,  83,  84,  85,  86,  87,  88,  89,  90,\n",
       "        91,  92,  93,  94,  95,  96,  97,  98,  99, 100, 101, 102, 103,\n",
       "       104, 105, 106, 107, 108, 109, 110, 111, 112, 113, 114, 115, 116,\n",
       "       117, 118, 119, 120, 121, 122, 123, 124, 125, 126, 127], dtype=int32)"
      ]
     },
     "execution_count": 9,
     "metadata": {},
     "output_type": "execute_result"
    }
   ],
   "source": [
    "np.linspace(0, 128, 128, endpoint=False, dtype=np.int32)"
   ]
  },
  {
   "cell_type": "code",
   "execution_count": null,
   "id": "5d4d7223-904e-428f-baaa-26217a491ff2",
   "metadata": {},
   "outputs": [],
   "source": [
    "X = np.linspace(0, 128, 128, endpoint=False, dtype=np.int32)\n",
    "display(type(X))\n",
    "\n",
    "y = np.linspace(0, 1, 128, endpoint=False, dtype=np.float32)\n",
    "display(type(y))\n",
    "\n",
    "B = tf.constant(X)\n",
    "display(type(B))\n",
    "\n",
    "B = tf.Variable(X)\n",
    "display(type(B))\n",
    "\n",
    "C = tf.data.Dataset.from_tensor_slices(B)\n",
    "display(type(C))\n",
    "\n",
    "D = tf.data.Dataset.from_tensor_slices(A)\n",
    "display(type(D))\n",
    "\n",
    "E = tf.data.Dataset.from_tensor_slices(A).batch(32)\n",
    "display(type(E))\n",
    "\n",
    "F = tf.data.Dataset.from_tensor_slices(A).shuffle(buffer_size=128, seed=42).batch(32)\n",
    "display(type(F))\n",
    "\n",
    "G = E.shuffle(buffer_size=4, seed=42)\n",
    "display(type(G))\n",
    "\n",
    "H = G.prefetch(tf.data.AUTOTUNE)\n",
    "display(type(H))"
   ]
  },
  {
   "cell_type": "code",
   "execution_count": null,
   "id": "44266fc1-9986-475c-a847-2e4aedc2512a",
   "metadata": {},
   "outputs": [],
   "source": [
    "X = np.linspace(0, 1, 32, endpoint=False, dtype=np.float32)\n",
    "X = np.around(X, decimals=2)\n",
    "X"
   ]
  },
  {
   "cell_type": "code",
   "execution_count": null,
   "id": "0bf2310c-8ed8-4cc3-a6fe-f225ee3453c7",
   "metadata": {},
   "outputs": [],
   "source": [
    "X = np.linspace(0, 32, 32, endpoint=False, dtype=np.int32)\n",
    "X"
   ]
  },
  {
   "cell_type": "code",
   "execution_count": null,
   "id": "21bb4d76-9e64-45ea-b689-93fbc3e1ba60",
   "metadata": {},
   "outputs": [],
   "source": [
    "dataset = tf.data.Dataset \\\n",
    "    .from_tensor_slices(X) \\\n",
    "    .shuffle(buffer_size=128, seed=42) \\\n",
    "    .batch(8) \\\n",
    "    .prefetch(tf.data.AUTOTUNE)"
   ]
  },
  {
   "cell_type": "code",
   "execution_count": null,
   "id": "c437a22a-9292-4a75-ac9e-057fa9e792e7",
   "metadata": {},
   "outputs": [],
   "source": [
    "for item in dataset:\n",
    "    print(item)\n",
    "    print()"
   ]
  },
  {
   "cell_type": "code",
   "execution_count": null,
   "id": "cb57e586-dfe6-46f8-ab04-224bb6cf988a",
   "metadata": {},
   "outputs": [],
   "source": []
  },
  {
   "cell_type": "markdown",
   "id": "374b967c-4cc2-4d51-b755-0ce070fe1181",
   "metadata": {
    "jp-MarkdownHeadingCollapsed": true,
    "tags": []
   },
   "source": [
    "## creating dataset (VRAM is not taken up for this)"
   ]
  },
  {
   "cell_type": "code",
   "execution_count": 12,
   "id": "5f70c4d2-19c0-4809-b265-e943a6363ca3",
   "metadata": {
    "tags": []
   },
   "outputs": [
    {
     "data": {
      "text/plain": [
       "['data.00a34a1b/baseline08.hdf5',\n",
       " 'data.00a34a1b/baseline11.hdf5',\n",
       " 'data.00a34a1b/baseline09.hdf5',\n",
       " 'data.00a34a1b/baseline10.hdf5',\n",
       " 'data.00a34a1b/baseline04.hdf5',\n",
       " 'data.00a34a1b/baseline15.hdf5',\n",
       " 'data.00a34a1b/baseline01.hdf5',\n",
       " 'data.00a34a1b/baseline00.hdf5',\n",
       " 'data.00a34a1b/baseline02.hdf5',\n",
       " 'data.00a34a1b/baseline14.hdf5',\n",
       " 'data.00a34a1b/baseline12.hdf5',\n",
       " 'data.00a34a1b/baseline13.hdf5',\n",
       " 'data.00a34a1b/baseline06.hdf5',\n",
       " 'data.00a34a1b/baseline03.hdf5',\n",
       " 'data.00a34a1b/baseline05.hdf5',\n",
       " 'data.00a34a1b/baseline07.hdf5']"
      ]
     },
     "execution_count": 12,
     "metadata": {},
     "output_type": "execute_result"
    }
   ],
   "source": [
    "# use the glob() method to find all HDF5 files in subdirectories of the current directory\n",
    "hdf5_files = Path('./').glob('data*/*.hdf5')\n",
    "\n",
    "# transform PosixPath type into string type\n",
    "hdf5_files = [str(file) for file in hdf5_files if 'baseline' in str(file)]\n",
    "random.shuffle(hdf5_files)\n",
    "hdf5_files"
   ]
  },
  {
   "cell_type": "code",
   "execution_count": 13,
   "id": "e6a63dfd-5449-47d8-8a99-b7f13500f84f",
   "metadata": {},
   "outputs": [
    {
     "data": {
      "text/plain": [
       "(32768, 1024)"
      ]
     },
     "metadata": {},
     "output_type": "display_data"
    },
    {
     "data": {
      "text/plain": [
       "<Closed HDF5 dataset>"
      ]
     },
     "execution_count": 13,
     "metadata": {},
     "output_type": "execute_result"
    }
   ],
   "source": [
    "with h5py.File(hdf5_files[0], 'r') as f:\n",
    "    dataset = f['data'][:]\n",
    "    target = f['target']\n",
    "\n",
    "display(dataset.shape)\n",
    "num_samples = dataset.shape[0]\n",
    "len_input = dataset.shape[1]\n",
    "target"
   ]
  },
  {
   "cell_type": "code",
   "execution_count": 14,
   "id": "15429e13-297a-477e-8e1d-b33ec29313ee",
   "metadata": {},
   "outputs": [],
   "source": [
    "hdf5_files = hdf5_files[:8]"
   ]
  },
  {
   "cell_type": "code",
   "execution_count": 15,
   "id": "310b2acc-9f46-4e9f-8495-307030403c97",
   "metadata": {},
   "outputs": [
    {
     "data": {
      "text/plain": [
       "262144"
      ]
     },
     "execution_count": 15,
     "metadata": {},
     "output_type": "execute_result"
    }
   ],
   "source": [
    "total_num_samples = len(hdf5_files)*num_samples\n",
    "total_num_samples"
   ]
  },
  {
   "cell_type": "code",
   "execution_count": 16,
   "id": "48cf660e-d4c3-4731-9db8-6a919831aed7",
   "metadata": {},
   "outputs": [
    {
     "data": {
      "text/plain": [
       "array([0.0000000e+00, 1.5625000e-02, 3.1250000e-02, ..., 1.5953125e+01,\n",
       "       1.5968750e+01, 1.5984375e+01], dtype=float32)"
      ]
     },
     "execution_count": 16,
     "metadata": {},
     "output_type": "execute_result"
    }
   ],
   "source": [
    "with h5py.File('chemical_shift.hdf5', 'r') as f:\n",
    "    shift_range = f['shift'][:]\n",
    "\n",
    "shift_range"
   ]
  },
  {
   "cell_type": "code",
   "execution_count": 17,
   "id": "79655e56-f7fc-44bb-aa3a-445c7b3e599c",
   "metadata": {},
   "outputs": [
    {
     "data": {
      "text/plain": [
       "32768"
      ]
     },
     "execution_count": 17,
     "metadata": {},
     "output_type": "execute_result"
    }
   ],
   "source": [
    "sample_chunk = int(total_num_samples/8)\n",
    "sample_chunk"
   ]
  },
  {
   "cell_type": "code",
   "execution_count": 18,
   "id": "e9ddaf58-2eaf-45af-93ab-ef69635520b0",
   "metadata": {},
   "outputs": [],
   "source": [
    "X_train = np.zeros((sample_chunk*6, len_input))\n",
    "y_train = np.zeros((sample_chunk*6, len_input))\n",
    "\n",
    "X_valid = np.zeros((sample_chunk, len_input))\n",
    "y_valid = np.zeros((sample_chunk, len_input))\n",
    "\n",
    "X_test = np.zeros((sample_chunk, len_input))\n",
    "y_test = np.zeros((sample_chunk, len_input))"
   ]
  },
  {
   "cell_type": "code",
   "execution_count": 19,
   "id": "de9273fe-13d6-40f5-95ea-b67507cf544c",
   "metadata": {},
   "outputs": [
    {
     "data": {
      "text/plain": [
       "['data.00a34a1b/baseline00.hdf5']"
      ]
     },
     "execution_count": 19,
     "metadata": {},
     "output_type": "execute_result"
    }
   ],
   "source": [
    "hdf5_files_train = hdf5_files[:6]\n",
    "hdf5_files_valid = hdf5_files[6:7]\n",
    "hdf5_files_test = hdf5_files[7:]\n",
    "hdf5_files_test"
   ]
  },
  {
   "cell_type": "code",
   "execution_count": 20,
   "id": "0cb60c20-96b5-450a-b807-a39fd2152318",
   "metadata": {},
   "outputs": [
    {
     "data": {
      "text/plain": [
       "(196608, 1024)"
      ]
     },
     "execution_count": 20,
     "metadata": {},
     "output_type": "execute_result"
    }
   ],
   "source": [
    "for index, file_path in enumerate(hdf5_files_train):\n",
    "    start = num_samples*index\n",
    "    with h5py.File(file_path, 'r') as f:\n",
    "        X_train[start:start+num_samples] = f['data'][:]\n",
    "        y_train[start:start+num_samples] = f['target'][:]\n",
    "\n",
    "X_train.shape"
   ]
  },
  {
   "cell_type": "code",
   "execution_count": 21,
   "id": "121e19d4-e7a0-4ace-9c21-d9ca71d93bf6",
   "metadata": {},
   "outputs": [
    {
     "data": {
      "text/plain": [
       "(32768, 1024)"
      ]
     },
     "execution_count": 21,
     "metadata": {},
     "output_type": "execute_result"
    }
   ],
   "source": [
    "for index, file_path in enumerate(hdf5_files_valid):\n",
    "    start = num_samples*index\n",
    "    with h5py.File(file_path, 'r') as f:\n",
    "        X_valid[start:start+num_samples] = f['data'][:]\n",
    "        y_valid[start:start+num_samples] = f['target'][:]\n",
    "\n",
    "for index, file_path in enumerate(hdf5_files_test):\n",
    "    start = num_samples*index\n",
    "    with h5py.File(file_path, 'r') as f:\n",
    "        X_test[start:start+num_samples] = f['data'][:]\n",
    "        y_test[start:start+num_samples] = f['target'][:]\n",
    "\n",
    "X_test.shape"
   ]
  },
  {
   "cell_type": "code",
   "execution_count": 22,
   "id": "bc1ccdbe-9123-49e1-abab-a33846f32de9",
   "metadata": {},
   "outputs": [
    {
     "data": {
      "image/png": "[encoded data removed]",
      "text/plain": [
       "<Figure size 640x480 with 1 Axes>"
      ]
     },
     "metadata": {},
     "output_type": "display_data"
    }
   ],
   "source": [
    "plt.plot(shift_range, X_train[14])\n",
    "plt.show()"
   ]
  },
  {
   "cell_type": "code",
   "execution_count": 24,
   "id": "fb0cbaf0-64dd-404c-b28d-0b7ad4946994",
   "metadata": {},
   "outputs": [
    {
     "data": {
      "image/png": "[encoded data removed]",
      "text/plain": [
       "<Figure size 640x480 with 1 Axes>"
      ]
     },
     "metadata": {},
     "output_type": "display_data"
    }
   ],
   "source": [
    "plt.plot(shift_range, y_train[14])\n",
    "plt.show()"
   ]
  },
  {
   "cell_type": "code",
   "execution_count": 25,
   "id": "cd8ec630-68db-49fd-9354-17dac1c03637",
   "metadata": {},
   "outputs": [
    {
     "data": {
      "text/plain": [
       "4096"
      ]
     },
     "execution_count": 25,
     "metadata": {},
     "output_type": "execute_result"
    }
   ],
   "source": [
    "buffer_size = int(X_valid.shape[0]/8)\n",
    "buffer_size"
   ]
  },
  {
   "cell_type": "code",
   "execution_count": 26,
   "id": "8c1acb38-e629-45cb-b8a3-5c1107a2bfbd",
   "metadata": {},
   "outputs": [],
   "source": [
    "dataset_train = tf.data.Dataset \\\n",
    "    .from_tensor_slices((X_train, y_train)) \\\n",
    "    .shuffle(buffer_size=buffer_size, seed=42) \\\n",
    "    .batch(32) \\\n",
    "    .prefetch(tf.data.AUTOTUNE)\n",
    "\n",
    "dataset_valid = tf.data.Dataset \\\n",
    "    .from_tensor_slices((X_valid, y_valid)) \\\n",
    "    .shuffle(buffer_size=buffer_size, seed=42) \\\n",
    "    .batch(32) \\\n",
    "    .prefetch(tf.data.AUTOTUNE)"
   ]
  },
  {
   "cell_type": "markdown",
   "id": "4da0ba4c-679f-4eb1-9a30-e235c49cdc91",
   "metadata": {
    "jp-MarkdownHeadingCollapsed": true,
    "tags": []
   },
   "source": [
    "## testing MaxPool1D"
   ]
  },
  {
   "cell_type": "code",
   "execution_count": null,
   "id": "01e0b68b-6015-4c40-b667-805f70d29f9a",
   "metadata": {},
   "outputs": [],
   "source": [
    "with h5py.File('chemical_shift.hdf5', 'r') as f:\n",
    "    # Access the dataset\n",
    "    dataset = f['shift']\n",
    "    # Load the dataset into memory as a NumPy array\n",
    "    shift = dataset[:]\n",
    "\n",
    "shift.shape\n",
    "\n",
    "with h5py.File('data.2022-03-06~01:42PM/baseline00.hdf5', 'r') as f:\n",
    "    X = f['data'][:]\n",
    "    y = f['target'][:]\n",
    "\n",
    "X.shape"
   ]
  },
  {
   "cell_type": "code",
   "execution_count": null,
   "id": "fa4b14e8-3e7b-4e1e-8f15-c0034fe8282b",
   "metadata": {},
   "outputs": [],
   "source": [
    "plt.plot(shift, X[4])\n",
    "plt.show()"
   ]
  },
  {
   "cell_type": "code",
   "execution_count": null,
   "id": "33d22c9a-4fe5-4536-b14c-2af2d3a19b39",
   "metadata": {},
   "outputs": [],
   "source": [
    "test_intput = np.expand_dims(X[4], axis=-1)\n",
    "print(test_intput.shape)\n",
    "\n",
    "test_intput = np.expand_dims(test_intput, axis=0)\n",
    "print(test_intput.shape)\n",
    "\n",
    "input_tensor = tf.convert_to_tensor(test_intput, dtype=tf.float32)\n",
    "input_tensor"
   ]
  },
  {
   "cell_type": "code",
   "execution_count": null,
   "id": "0140b45a-1564-4ea3-abb5-e3330321eb25",
   "metadata": {},
   "outputs": [],
   "source": [
    "input_vector = keras.layers.Input([65536, 1])\n",
    "input_vector"
   ]
  },
  {
   "cell_type": "code",
   "execution_count": null,
   "id": "0aac3b3b-7b04-44e4-a51a-4e4c4d4b2da4",
   "metadata": {},
   "outputs": [],
   "source": [
    "pool_output = keras.layers.MaxPool1D(16)(input_vector)\n",
    "pool_output"
   ]
  },
  {
   "cell_type": "code",
   "execution_count": null,
   "id": "55034444-4790-4979-9081-f7cadf02d0a7",
   "metadata": {},
   "outputs": [],
   "source": [
    "test_output = keras.layers.MaxPool1D(32)(input_tensor)\n",
    "test_output"
   ]
  },
  {
   "cell_type": "code",
   "execution_count": null,
   "id": "842e26cb-2136-488c-9dc6-994c1a681334",
   "metadata": {},
   "outputs": [],
   "source": [
    "reduced_shift = shift[::32]\n",
    "reduced_shift.shape"
   ]
  },
  {
   "cell_type": "code",
   "execution_count": null,
   "id": "578a2b18-b5c8-4f62-8809-6ea0c02fecb3",
   "metadata": {},
   "outputs": [],
   "source": [
    "numpy_output = test_output.numpy()\n",
    "numpy_output.shape"
   ]
  },
  {
   "cell_type": "code",
   "execution_count": null,
   "id": "daf6fc89-6c04-480c-8eb8-b208cf955c09",
   "metadata": {},
   "outputs": [],
   "source": [
    "reshape_output = numpy_output.reshape(2048)\n",
    "reshape_output.shape"
   ]
  },
  {
   "cell_type": "code",
   "execution_count": null,
   "id": "f034aca9-ea12-4b57-8e40-5ece66fc0c3c",
   "metadata": {
    "tags": []
   },
   "outputs": [],
   "source": [
    "plt.plot(reduced_shift, reshape_output)\n",
    "plt.show()"
   ]
  },
  {
   "cell_type": "markdown",
   "id": "22bc4895-1263-458f-8928-88e3b9399357",
   "metadata": {
    "jp-MarkdownHeadingCollapsed": true,
    "tags": []
   },
   "source": [
    "## getting file paths"
   ]
  },
  {
   "cell_type": "code",
   "execution_count": null,
   "id": "dda0709b-0730-4c0f-a1e2-ffd35357a09b",
   "metadata": {},
   "outputs": [],
   "source": [
    "# use the glob() method to find all HDF5 files in subdirectories of the current directory\n",
    "hdf5_files = Path('.').glob('**/*.hdf5')\n",
    "\n",
    "# transform PosixPath type into string type\n",
    "hdf5_files = [str(file) for file in hdf5_files if 'baseline' in str(file)]\n",
    "hdf5_files"
   ]
  },
  {
   "cell_type": "code",
   "execution_count": null,
   "id": "1515906d-c19a-4e3f-8215-0d2f0ab86f35",
   "metadata": {
    "tags": []
   },
   "outputs": [],
   "source": [
    "# split the datasets into train, valid, test\n",
    "files_train = hdf5_files[:-2]\n",
    "files_valid = hdf5_files[-2:-1]\n",
    "files_test = hdf5_files[-1:]\n",
    "\n",
    "files_train"
   ]
  },
  {
   "cell_type": "code",
   "execution_count": null,
   "id": "818f29c2-36dd-4726-9a5a-0497f572c757",
   "metadata": {},
   "outputs": [],
   "source": [
    "def data_generator(file_paths, num_samples=512, batch_size=64):\n",
    "    np.random.shuffle(file_paths)\n",
    "    for file_path in file_paths:\n",
    "        with h5py.File(file_path, 'r') as f:\n",
    "            idx = np.random.permutation(num_samples)\n",
    "            data = f['data'][:][idx]\n",
    "            target = f['target'][:][idx]\n",
    "            \n",
    "            for i in range(0, num_samples, batch_size):\n",
    "                data = f['data'][i:i+batch_size]\n",
    "                target = f['target'][i:i+batch_size]\n",
    "                yield f['data'][i:i+batch_size], f['target'][i:i+batch_size]"
   ]
  },
  {
   "cell_type": "markdown",
   "id": "f6c25a15-d0a8-46b3-b385-47ac45aab8c8",
   "metadata": {
    "jp-MarkdownHeadingCollapsed": true,
    "tags": []
   },
   "source": [
    "## transposed convolution layer"
   ]
  },
  {
   "cell_type": "code",
   "execution_count": null,
   "id": "924bc122-5a11-4037-ac02-359abe0f59ea",
   "metadata": {},
   "outputs": [],
   "source": [
    "input_shape = (2, 2)\n",
    "kernel_size = (2, 2)\n",
    "stride = 1\n",
    "num_filters = 1\n",
    "\n",
    "sqm = lambda n: np.expand_dims(np.arange(n**2).reshape(n, n), axis=-1)\n",
    "lins = lambda n: np.array([np.expand_dims(np.linspace(0, n-1, n), axis=-1)])"
   ]
  },
  {
   "cell_type": "code",
   "execution_count": null,
   "id": "7c804f05-b580-44a3-a7db-2b0ef3019e1b",
   "metadata": {},
   "outputs": [],
   "source": [
    "input_tensor = tf.constant([lins(4)], dtype=tf.float32)\n",
    "matd(input_tensor[0][:, :, 0].numpy())"
   ]
  },
  {
   "cell_type": "code",
   "execution_count": null,
   "id": "e9db5567-f441-42db-affe-14437f6df39d",
   "metadata": {},
   "outputs": [],
   "source": [
    "input_tensor = tf.constant([sqm(3)], dtype=tf.float32)\n",
    "matd(input_tensor[0][:, :, 0].numpy())"
   ]
  },
  {
   "cell_type": "code",
   "execution_count": null,
   "id": "b960e744-2703-4d03-9b94-6c7f5e3feb08",
   "metadata": {},
   "outputs": [],
   "source": [
    "kernel_weights = sqm(4)[:1, :, 0]\n",
    "matd(kernel_weights)\n",
    "print('kernel_weights')"
   ]
  },
  {
   "cell_type": "code",
   "execution_count": null,
   "id": "5effd449-0866-4907-a19c-274be9a3ef28",
   "metadata": {
    "tags": []
   },
   "outputs": [],
   "source": [
    "?keras.layers.Conv2DTranspose"
   ]
  },
  {
   "cell_type": "code",
   "execution_count": null,
   "id": "361e157b-4678-4c83-ae53-4ef34786c106",
   "metadata": {},
   "outputs": [],
   "source": [
    "output_shape = (None, 3, 3, 1)\n",
    "\n",
    "# Define the transposed Conv2D layer\n",
    "tc2_layer = tf.keras.layers.Conv2DTranspose(\n",
    "    filters=num_filters,\n",
    "    kernel_size=kernel_weights.shape,\n",
    "    strides=(1, 2),\n",
    "    padding='valid',\n",
    "    kernel_initializer=tf.constant_initializer(kernel_weights),\n",
    "    #output_padding=\n",
    ")\n",
    "\n",
    "# Apply tc2_layer to the input tensor\n",
    "output_tensor = tc2_layer(input_tensor)\n",
    "matd(output_tensor[0][:, :, 0].numpy())"
   ]
  },
  {
   "cell_type": "markdown",
   "id": "e2eb6a2e-0c67-4b9e-a11d-4c10acdaedbd",
   "metadata": {},
   "source": [
    "## Dynamic Data Generation"
   ]
  },
  {
   "cell_type": "code",
   "execution_count": 11,
   "id": "1a8ca13a-e03d-4c5b-9847-3ffec422f12c",
   "metadata": {},
   "outputs": [
    {
     "name": "stdout",
     "output_type": "stream",
     "text": [
      "065.5k    0006.8    002.4k    0213.0\n",
      "\n",
      "103.9μ    131.1k    018.3m    0054.5    0019.0    0003.0\n"
     ]
    }
   ],
   "source": [
    "spec = ftnmr.spectrometer(shift_maximum=128.0)\n",
    "\n",
    "mods.print_formatted(spec.nf, spec.nf*spec.df, spec.t[-1], 213)\n",
    "print()\n",
    "mods.print_formatted(spec.df, spec.ns, spec.dt, spec.f_s, spec.p, spec.p_l)"
   ]
  },
  {
   "cell_type": "code",
   "execution_count": 12,
   "id": "4bfb6da7-8066-404c-8f1d-6c103f1d032f",
   "metadata": {},
   "outputs": [
    {
     "data": {
      "text/plain": [
       "{'A': (<ftnmr.molecule at 0x145d876be7a0>, 27.81845244751182),\n",
       " 'B': (<ftnmr.molecule at 0x145d876bd420>, 20.25406249158919),\n",
       " 'C': (<ftnmr.molecule at 0x145d876bea40>, 8.637391488576467),\n",
       " 'D': (<ftnmr.molecule at 0x145d876be2c0>, 1.930780209028904),\n",
       " 'E': (<ftnmr.molecule at 0x145d876be290>, 14.059843493229913),\n",
       " 'F': (<ftnmr.molecule at 0x145d876bdf30>, 24.852932532850936),\n",
       " 'G': (<ftnmr.molecule at 0x145d876be470>, 7.535995961231007)}"
      ]
     },
     "execution_count": 12,
     "metadata": {},
     "output_type": "execute_result"
    }
   ],
   "source": [
    "ru = np.random.uniform\n",
    "rr = np.random.randint\n",
    "moles = {al[26+k]:(mg(), ru(0, 50)) for k in range(0, rr(1, 15))}\n",
    "moles"
   ]
  },
  {
   "cell_type": "code",
   "execution_count": 13,
   "id": "56883cc3-83ce-414f-8f75-705080c8b569",
   "metadata": {},
   "outputs": [],
   "source": [
    "spec.artifact(baseline=True)\n",
    "spec.measure(moles=moles)"
   ]
  },
  {
   "cell_type": "code",
   "execution_count": 15,
   "id": "cac460a8-79bd-44b6-b210-298cadb79393",
   "metadata": {},
   "outputs": [
    {
     "data": {
      "image/png": "[encoded data removed]",
      "text/plain": [
       "<Figure size 640x480 with 1 Axes>"
      ]
     },
     "metadata": {},
     "output_type": "display_data"
    }
   ],
   "source": [
    "plt.plot(spec.shift, spec.spectra)\n",
    "plt.show()"
   ]
  },
  {
   "cell_type": "code",
   "execution_count": 16,
   "id": "88061f7d-14a4-430e-8b04-b0e4967f11de",
   "metadata": {},
   "outputs": [
    {
     "data": {
      "image/png": "[encoded data removed]",
      "text/plain": [
       "<Figure size 640x480 with 1 Axes>"
      ]
     },
     "metadata": {},
     "output_type": "display_data"
    }
   ],
   "source": [
    "plt.plot(spec.t[:spec.nf], spec.signal.real[:spec.nf])\n",
    "plt.show()"
   ]
  },
  {
   "cell_type": "code",
   "execution_count": 17,
   "id": "7a5af3c3-cce0-441e-ae6f-babfa3c1c72f",
   "metadata": {},
   "outputs": [
    {
     "name": "stdout",
     "output_type": "stream",
     "text": [
      "input size: 1024\n"
     ]
    }
   ],
   "source": [
    "input_size = 2**10\n",
    "print(f\"input size: {input_size}\")\n",
    "rescale_ratio = int(spec.nf/input_size)\n",
    "target = np.reshape(spec.target, (input_size, rescale_ratio))\n",
    "spectra = np.reshape(spec.spectra, (input_size, rescale_ratio))\n",
    "\n",
    "max_target = np.max(target, axis=1)\n",
    "mean_target = np.mean(target, axis=1)\n",
    "max_spectra = np.max(spectra, axis=1)\n",
    "mean_spectra = np.mean(spectra, axis=1)\n",
    "\n",
    "rescaled_shift = spec.shift[::rescale_ratio]"
   ]
  },
  {
   "cell_type": "code",
   "execution_count": 19,
   "id": "5402b8b7-d39b-4c4d-af42-fe6891e9f753",
   "metadata": {},
   "outputs": [
    {
     "data": {
      "image/png": "[encoded data removed]",
      "text/plain": [
       "<Figure size 640x480 with 1 Axes>"
      ]
     },
     "metadata": {},
     "output_type": "display_data"
    }
   ],
   "source": [
    "plt.plot(rescaled_shift, max_target)\n",
    "plt.show()"
   ]
  },
  {
   "cell_type": "code",
   "execution_count": 20,
   "id": "c2729981-367f-4b1a-9386-6079f6c27d3c",
   "metadata": {},
   "outputs": [
    {
     "data": {
      "image/png": "[encoded data removed]",
      "text/plain": [
       "<Figure size 640x480 with 1 Axes>"
      ]
     },
     "metadata": {},
     "output_type": "display_data"
    }
   ],
   "source": [
    "plt.plot(rescaled_shift, max_spectra)\n",
    "plt.show()"
   ]
  },
  {
   "cell_type": "code",
   "execution_count": 43,
   "id": "f51ed2d0-f15f-4191-9cd1-9b9750e6f18b",
   "metadata": {},
   "outputs": [
    {
     "data": {
      "text/plain": [
       "(array([0.02332669, 0.03691237, 0.03685878, ..., 0.10540522, 0.10804985,\n",
       "        0.1149232 ], dtype=float32),\n",
       " array([0.01653114, 0.01653155, 0.01653214, ..., 0.01598398, 0.01598387,\n",
       "        0.01598382], dtype=float32))"
      ]
     },
     "execution_count": 43,
     "metadata": {},
     "output_type": "execute_result"
    }
   ],
   "source": [
    "# initialize spectrometer with random number of molecules\n",
    "spec = ftnmr.spectrometer(shift_maximum=128.0)\n",
    "num_of_moles = np.random.randint(1, 15)\n",
    "\n",
    "# data generator arguments as tf.Tensors that are fed into tf.data.Dataset.from_generator\n",
    "baseline=True\n",
    "phase_shift=False\n",
    "smoothness=False\n",
    "moles = {al[26+k]:(mg(), np.random.uniform(0, 50)) for k in range(0, num_of_moles)}\n",
    "\n",
    "# set artifact and measure the signal\n",
    "spec.artifact(baseline=baseline, phase_shift=phase_shift, smoothness=smoothness)\n",
    "spec.measure(moles=moles)\n",
    "\n",
    "# sample output\n",
    "output = spec()\n",
    "output"
   ]
  },
  {
   "cell_type": "code",
   "execution_count": 10,
   "id": "142f7e47-f838-459e-8041-41d2b678665e",
   "metadata": {},
   "outputs": [],
   "source": [
    "# data generator internal parameters\n",
    "spec = ftnmr.spectrometer(shift_maximum=128.0)\n",
    "input_size = 2**10\n",
    "rescale_ratio = int(spec.nf/input_size)\n",
    "\n",
    "def data_generator(baseline, phase_shift, smoothness):\n",
    "    while True:\n",
    "        # get number of different types of molecules\n",
    "        rr = np.random.randint\n",
    "        ru = np.random.uniform\n",
    "        num_of_moles = rr(1, 15)\n",
    "        moles = {al[26+k]:(mg(), ru(0, 50)) for k in range(0, num_of_moles)}\n",
    "    \n",
    "        # measure the signal with artifact\n",
    "        spec.artifact(\n",
    "            baseline=baseline, \n",
    "            phase_shift=phase_shift, \n",
    "            smoothness=smoothness)\n",
    "        spec.measure(moles=moles)\n",
    "    \n",
    "        # reshape the output for memory management using reshape and max\n",
    "        spectra = np.reshape(spec.spectra, (input_size, rescale_ratio))\n",
    "        target = np.reshape(spec.target, (input_size, rescale_ratio))\n",
    "        max_spectra = np.max(spectra, axis=1)\n",
    "        max_target = np.max(target, axis=1)\n",
    "    \n",
    "        yield max_spectra, max_target"
   ]
  },
  {
   "cell_type": "code",
   "execution_count": 12,
   "id": "7059a828-1b7e-4a42-a1d7-63a0dbbb7d80",
   "metadata": {},
   "outputs": [
    {
     "data": {
      "text/plain": [
       "(<tf.Tensor: shape=(), dtype=bool, numpy=True>,\n",
       " <tf.Tensor: shape=(), dtype=bool, numpy=False>,\n",
       " <tf.Tensor: shape=(), dtype=bool, numpy=False>)"
      ]
     },
     "execution_count": 12,
     "metadata": {},
     "output_type": "execute_result"
    }
   ],
   "source": [
    "# data generator arguments as tf.Tensors that are fed into tf.data.Dataset.from_generator\n",
    "baseline=True\n",
    "phase_shift=False\n",
    "smoothness=False\n",
    "\n",
    "args = [baseline, phase_shift, smoothness]\n",
    "args = tuple(tf.constant(x) for x in args)\n",
    "args"
   ]
  },
  {
   "cell_type": "code",
   "execution_count": 13,
   "id": "c4ef575a-38fd-4a58-ac10-d3b279831f91",
   "metadata": {},
   "outputs": [
    {
     "data": {
      "text/plain": [
       "<generator object data_generator at 0x145a6429ad50>"
      ]
     },
     "execution_count": 13,
     "metadata": {},
     "output_type": "execute_result"
    }
   ],
   "source": [
    "data_gen_output = data_generator(baseline, phase_shift, smoothness)\n",
    "data_gen_output"
   ]
  },
  {
   "cell_type": "code",
   "execution_count": 14,
   "id": "58859cbd-1eef-40d7-b625-909a2250397c",
   "metadata": {},
   "outputs": [],
   "source": [
    "# dataset from generator\n",
    "size = input_size\n",
    "batch_size = 8\n",
    "\n",
    "dataset = tf.data.Dataset.from_generator(\n",
    "    data_generator,\n",
    "    args=args,\n",
    "    output_signature=(\n",
    "        tf.TensorSpec(shape=(size,), dtype=tf.float32),\n",
    "        tf.TensorSpec(shape=(size,), dtype=tf.float32)))\n",
    "\n",
    "dataset = dataset.batch(batch_size).prefetch(tf.data.AUTOTUNE)\n",
    "\n",
    "validation_dataset = tf.data.Dataset.from_generator(\n",
    "    data_generator,\n",
    "    args=args,\n",
    "    output_signature=(\n",
    "        tf.TensorSpec(shape=(size,), dtype=tf.float32),\n",
    "        tf.TensorSpec(shape=(size,), dtype=tf.float32)))\n",
    "\n",
    "validation_dataset = validation_dataset.batch(batch_size).prefetch(tf.data.AUTOTUNE)"
   ]
  },
  {
   "cell_type": "code",
   "execution_count": 15,
   "id": "7d9e2e76-af08-460a-a24a-65f9f62479de",
   "metadata": {},
   "outputs": [
    {
     "data": {
      "text/plain": [
       "<PrefetchDataset element_spec=(TensorSpec(shape=(None, 1024), dtype=tf.float32, name=None), TensorSpec(shape=(None, 1024), dtype=tf.float32, name=None))>"
      ]
     },
     "execution_count": 15,
     "metadata": {},
     "output_type": "execute_result"
    }
   ],
   "source": [
    "dataset"
   ]
  },
  {
   "cell_type": "markdown",
   "id": "0c2ff9fc-4218-4db9-ad84-d87a7eb071be",
   "metadata": {
    "tags": []
   },
   "source": [
    "## Testing Model"
   ]
  },
  {
   "cell_type": "markdown",
   "id": "1898857c-f057-4e14-9db5-5cc22022a9f0",
   "metadata": {
    "jp-MarkdownHeadingCollapsed": true
   },
   "source": [
    "### recurrent NN structures in multiple cells"
   ]
  },
  {
   "cell_type": "code",
   "execution_count": 65,
   "id": "9d3fb89b-74a3-4f20-be12-c83515aa9399",
   "metadata": {},
   "outputs": [],
   "source": [
    "# configuration\n",
    "input_length = input_size\n",
    "expand_layer = keras.layers.Lambda(lambda x: tf.expand_dims(x, axis=-1))\n",
    "GRU_unit = 16\n",
    "first_filter_num = 128\n",
    "transpose_layer = keras.layers.Lambda(lambda x: tf.transpose(x, perm=[0, 1, 3, 2]))\n",
    "second_filter_num = 64"
   ]
  },
  {
   "cell_type": "code",
   "execution_count": null,
   "id": "45800155-0655-4e1e-a72c-d083fe2f7892",
   "metadata": {},
   "outputs": [],
   "source": [
    "seq_input = keras.layers.Input(shape=[input_length])\n",
    "seq_input"
   ]
  },
  {
   "cell_type": "code",
   "execution_count": null,
   "id": "33583f94-8382-4900-9785-7e156ccbfede",
   "metadata": {},
   "outputs": [],
   "source": [
    "expand_output = expand_layer(seq_input)\n",
    "expand_output"
   ]
  },
  {
   "cell_type": "code",
   "execution_count": null,
   "id": "9e6d2b29-f85f-406a-9020-56543ce551ca",
   "metadata": {},
   "outputs": [],
   "source": [
    "#skip\n",
    "pool_output = keras.layers.MaxPool1D(pool_size)(expand_output)\n",
    "pool_output"
   ]
  },
  {
   "cell_type": "code",
   "execution_count": null,
   "id": "13ae4588-206d-445f-8e08-2822b478e55b",
   "metadata": {},
   "outputs": [],
   "source": [
    "GRU_output = keras.layers.Bidirectional(\n",
    "    keras.layers.GRU(GRU_unit, return_sequences=True))(expand_output)\n",
    "GRU_output"
   ]
  },
  {
   "cell_type": "code",
   "execution_count": null,
   "id": "ea884c8c-580a-42d5-b294-e026551a0653",
   "metadata": {},
   "outputs": [],
   "source": [
    "expand_output2 = expand_layer(GRU_output)\n",
    "expand_output2"
   ]
  },
  {
   "cell_type": "code",
   "execution_count": null,
   "id": "e56738c5-3fff-4e39-ac21-45f489aaa018",
   "metadata": {},
   "outputs": [],
   "source": [
    "cnn_layer1 = keras.layers.Conv2D(\n",
    "    filters=first_filter_num, \n",
    "    kernel_size=(1, 2*GRU_unit), \n",
    "    activation='elu')\n",
    "cnn_output1 = cnn_layer1(expand_output2)\n",
    "cnn_output1"
   ]
  },
  {
   "cell_type": "code",
   "execution_count": null,
   "id": "53eac180-f5dc-4170-b0b0-f781a4629602",
   "metadata": {},
   "outputs": [],
   "source": [
    "transpose_output = transpose_layer(cnn_output1)\n",
    "transpose_output"
   ]
  },
  {
   "cell_type": "code",
   "execution_count": null,
   "id": "db9b3294-8e83-4e7f-914b-806b3a9bb844",
   "metadata": {},
   "outputs": [],
   "source": [
    "cnn_layer2 = keras.layers.Conv2D(\n",
    "    filters=second_filter_num, \n",
    "    kernel_size=(1, first_filter_num),\n",
    "    activation='selu')\n",
    "cnn2_output = cnn_layer2(transpose_output)\n",
    "cnn2_output"
   ]
  },
  {
   "cell_type": "code",
   "execution_count": null,
   "id": "2fb447e6-99d2-491d-940c-9e263492559e",
   "metadata": {},
   "outputs": [],
   "source": [
    "transpose2_output = transpose_layer(cnn2_output)\n",
    "transpose2_output"
   ]
  },
  {
   "cell_type": "code",
   "execution_count": null,
   "id": "add74df9-b6f8-4e27-a51f-be2af7eb4597",
   "metadata": {},
   "outputs": [],
   "source": [
    "cnn_layer3 = keras.layers.Conv2D(\n",
    "    filters=1, \n",
    "    kernel_size=(1, second_filter_num),\n",
    "    activation='selu')\n",
    "cnn3_output = cnn_layer3(transpose2_output)\n",
    "cnn3_output"
   ]
  },
  {
   "cell_type": "code",
   "execution_count": null,
   "id": "f4f5a391-0fe3-4dbc-a6da-0c9c1dee29aa",
   "metadata": {},
   "outputs": [],
   "source": [
    "#skip\n",
    "upscale_output = keras.layers.UpSampling2D(\n",
    "    size=(pool_size, 1), \n",
    "    interpolation='bicubic')(cnn3_output)\n",
    "upscale_output"
   ]
  },
  {
   "cell_type": "code",
   "execution_count": null,
   "id": "dc049c1c-cfbb-4f52-a318-ba0a0a85f024",
   "metadata": {},
   "outputs": [],
   "source": [
    "flat_output = keras.layers.Flatten()(cnn3_output)\n",
    "flat_output"
   ]
  },
  {
   "cell_type": "code",
   "execution_count": null,
   "id": "1399c744-3ecb-4f2f-bd87-6febfbcf1d3c",
   "metadata": {},
   "outputs": [],
   "source": [
    "model_output = keras.layers.Add()([seq_input, flat_output])\n",
    "model_output"
   ]
  },
  {
   "cell_type": "code",
   "execution_count": 51,
   "id": "7905c0f9-6866-4343-bcad-a607960267ba",
   "metadata": {},
   "outputs": [
    {
     "data": {
      "text/plain": [
       "<KerasTensor: shape=(None, 512, 1) dtype=float32 (created by layer 'lambda_2')>"
      ]
     },
     "execution_count": 51,
     "metadata": {},
     "output_type": "execute_result"
    }
   ],
   "source": [
    "expand_output"
   ]
  },
  {
   "cell_type": "markdown",
   "id": "46ba91b0-f7f9-44ed-8229-073b71556cd5",
   "metadata": {},
   "source": [
    "### continue..."
   ]
  },
  {
   "cell_type": "code",
   "execution_count": 17,
   "id": "52f950f0-0d03-46d5-b404-ab5344f5042a",
   "metadata": {},
   "outputs": [],
   "source": [
    "# configuration\n",
    "input_length = input_size\n",
    "expand_layer = keras.layers.Lambda(lambda x: tf.expand_dims(x, axis=-1))\n",
    "GRU_unit = 16\n",
    "first_filter_num = 128\n",
    "transpose_layer = keras.layers.Lambda(lambda x: tf.transpose(x, perm=[0, 1, 3, 2]))\n",
    "second_filter_num = 64\n",
    "\n",
    "# same as above execution of cells, but all the cells are merged\n",
    "seq_input = keras.layers.Input(shape=[input_length])\n",
    "\n",
    "expand_output = expand_layer(seq_input)\n",
    "\n",
    "GRU_output = keras.layers.Bidirectional(\n",
    "    keras.layers.GRU(GRU_unit, return_sequences=True))(expand_output)\n",
    "\n",
    "expand_output2 = expand_layer(GRU_output)\n",
    "\n",
    "cnn_layer1 = keras.layers.Conv2D(\n",
    "    filters=first_filter_num, \n",
    "    kernel_size=(1, 2*GRU_unit), \n",
    "    activation='elu')\n",
    "cnn_output1 = cnn_layer1(expand_output2)\n",
    "\n",
    "transpose_output = transpose_layer(cnn_output1)\n",
    "\n",
    "cnn_layer2 = keras.layers.Conv2D(\n",
    "    filters=second_filter_num, \n",
    "    kernel_size=(1, first_filter_num),\n",
    "    activation='selu')\n",
    "cnn2_output = cnn_layer2(transpose_output)\n",
    "\n",
    "transpose2_output = transpose_layer(cnn2_output)\n",
    "\n",
    "cnn_layer3 = keras.layers.Conv2D(\n",
    "    filters=1, \n",
    "    kernel_size=(1, second_filter_num),\n",
    "    activation='selu')\n",
    "cnn3_output = cnn_layer3(transpose2_output)\n",
    "\n",
    "flat_output = keras.layers.Flatten()(cnn3_output)\n",
    "\n",
    "model_output = keras.layers.Add()([seq_input, flat_output])"
   ]
  },
  {
   "cell_type": "code",
   "execution_count": 18,
   "id": "a7c65e83-d10f-4487-9373-5618f504b161",
   "metadata": {},
   "outputs": [],
   "source": [
    "model = keras.Model(inputs=[seq_input], outputs=[model_output])"
   ]
  },
  {
   "cell_type": "code",
   "execution_count": 19,
   "id": "56050bd6-8e13-446e-b3a7-13a092f4e542",
   "metadata": {},
   "outputs": [],
   "source": [
    "early_stopping = tf.keras.callbacks.EarlyStopping(\n",
    "    monitor='val_mse',\n",
    "    min_delta=0.01,\n",
    "    patience=10,\n",
    "    verbose=1,\n",
    "    mode='auto',\n",
    "    restore_best_weights=True\n",
    ")"
   ]
  },
  {
   "cell_type": "code",
   "execution_count": 20,
   "id": "8d19830d-931f-4a2f-a0a7-2b9722c51817",
   "metadata": {},
   "outputs": [],
   "source": [
    "model.compile(\n",
    "    loss=\"mse\", \n",
    "    optimizer=keras.optimizers.Nadam(),\n",
    "    metrics=['mse'])"
   ]
  },
  {
   "cell_type": "code",
   "execution_count": 21,
   "id": "55fa7fbd-4d60-4013-9d3a-4981aa8c6563",
   "metadata": {
    "scrolled": true
   },
   "outputs": [
    {
     "name": "stdout",
     "output_type": "stream",
     "text": [
      "Epoch 1/4\n",
      " 2/16 [==>...........................] - ETA: 5:08 - loss: 1.7672 - mse: 1.7672"
     ]
    },
    {
     "ename": "KeyboardInterrupt",
     "evalue": "",
     "output_type": "error",
     "traceback": [
      "\u001b[0;31m---------------------------------------------------------------------------\u001b[0m",
      "\u001b[0;31mKeyboardInterrupt\u001b[0m                         Traceback (most recent call last)",
      "Cell \u001b[0;32mIn[21], line 1\u001b[0m\n\u001b[0;32m----> 1\u001b[0m history \u001b[38;5;241m=\u001b[39m \u001b[43mmodel\u001b[49m\u001b[38;5;241;43m.\u001b[39;49m\u001b[43mfit\u001b[49m\u001b[43m(\u001b[49m\n\u001b[1;32m      2\u001b[0m \u001b[43m    \u001b[49m\u001b[43mdataset\u001b[49m\u001b[43m,\u001b[49m\n\u001b[1;32m      3\u001b[0m \u001b[43m    \u001b[49m\u001b[43mvalidation_data\u001b[49m\u001b[38;5;241;43m=\u001b[39;49m\u001b[43mvalidation_dataset\u001b[49m\u001b[43m,\u001b[49m\n\u001b[1;32m      4\u001b[0m \u001b[43m    \u001b[49m\u001b[43mepochs\u001b[49m\u001b[38;5;241;43m=\u001b[39;49m\u001b[38;5;241;43m4\u001b[39;49m\u001b[43m,\u001b[49m\n\u001b[1;32m      5\u001b[0m \u001b[43m    \u001b[49m\u001b[43msteps_per_epoch\u001b[49m\u001b[38;5;241;43m=\u001b[39;49m\u001b[38;5;241;43m16\u001b[39;49m\u001b[43m,\u001b[49m\n\u001b[1;32m      6\u001b[0m \u001b[43m    \u001b[49m\u001b[43mvalidation_steps\u001b[49m\u001b[38;5;241;43m=\u001b[39;49m\u001b[38;5;241;43m4\u001b[39;49m\u001b[43m,\u001b[49m\n\u001b[1;32m      7\u001b[0m \u001b[43m    \u001b[49m\u001b[43mcallbacks\u001b[49m\u001b[38;5;241;43m=\u001b[39;49m\u001b[43m[\u001b[49m\u001b[43mearly_stopping\u001b[49m\u001b[43m]\u001b[49m\u001b[43m)\u001b[49m\n",
      "File \u001b[0;32m~/.conda/envs/TF/lib/python3.10/site-packages/keras/utils/traceback_utils.py:65\u001b[0m, in \u001b[0;36mfilter_traceback.<locals>.error_handler\u001b[0;34m(*args, **kwargs)\u001b[0m\n\u001b[1;32m     63\u001b[0m filtered_tb \u001b[38;5;241m=\u001b[39m \u001b[38;5;28;01mNone\u001b[39;00m\n\u001b[1;32m     64\u001b[0m \u001b[38;5;28;01mtry\u001b[39;00m:\n\u001b[0;32m---> 65\u001b[0m     \u001b[38;5;28;01mreturn\u001b[39;00m \u001b[43mfn\u001b[49m\u001b[43m(\u001b[49m\u001b[38;5;241;43m*\u001b[39;49m\u001b[43margs\u001b[49m\u001b[43m,\u001b[49m\u001b[43m \u001b[49m\u001b[38;5;241;43m*\u001b[39;49m\u001b[38;5;241;43m*\u001b[39;49m\u001b[43mkwargs\u001b[49m\u001b[43m)\u001b[49m\n\u001b[1;32m     66\u001b[0m \u001b[38;5;28;01mexcept\u001b[39;00m \u001b[38;5;167;01mException\u001b[39;00m \u001b[38;5;28;01mas\u001b[39;00m e:\n\u001b[1;32m     67\u001b[0m     filtered_tb \u001b[38;5;241m=\u001b[39m _process_traceback_frames(e\u001b[38;5;241m.\u001b[39m__traceback__)\n",
      "File \u001b[0;32m~/.conda/envs/TF/lib/python3.10/site-packages/keras/engine/training.py:1650\u001b[0m, in \u001b[0;36mModel.fit\u001b[0;34m(self, x, y, batch_size, epochs, verbose, callbacks, validation_split, validation_data, shuffle, class_weight, sample_weight, initial_epoch, steps_per_epoch, validation_steps, validation_batch_size, validation_freq, max_queue_size, workers, use_multiprocessing)\u001b[0m\n\u001b[1;32m   1642\u001b[0m \u001b[38;5;28;01mwith\u001b[39;00m tf\u001b[38;5;241m.\u001b[39mprofiler\u001b[38;5;241m.\u001b[39mexperimental\u001b[38;5;241m.\u001b[39mTrace(\n\u001b[1;32m   1643\u001b[0m     \u001b[38;5;124m\"\u001b[39m\u001b[38;5;124mtrain\u001b[39m\u001b[38;5;124m\"\u001b[39m,\n\u001b[1;32m   1644\u001b[0m     epoch_num\u001b[38;5;241m=\u001b[39mepoch,\n\u001b[0;32m   (...)\u001b[0m\n\u001b[1;32m   1647\u001b[0m     _r\u001b[38;5;241m=\u001b[39m\u001b[38;5;241m1\u001b[39m,\n\u001b[1;32m   1648\u001b[0m ):\n\u001b[1;32m   1649\u001b[0m     callbacks\u001b[38;5;241m.\u001b[39mon_train_batch_begin(step)\n\u001b[0;32m-> 1650\u001b[0m     tmp_logs \u001b[38;5;241m=\u001b[39m \u001b[38;5;28;43mself\u001b[39;49m\u001b[38;5;241;43m.\u001b[39;49m\u001b[43mtrain_function\u001b[49m\u001b[43m(\u001b[49m\u001b[43miterator\u001b[49m\u001b[43m)\u001b[49m\n\u001b[1;32m   1651\u001b[0m     \u001b[38;5;28;01mif\u001b[39;00m data_handler\u001b[38;5;241m.\u001b[39mshould_sync:\n\u001b[1;32m   1652\u001b[0m         context\u001b[38;5;241m.\u001b[39masync_wait()\n",
      "File \u001b[0;32m~/.conda/envs/TF/lib/python3.10/site-packages/tensorflow/python/util/traceback_utils.py:150\u001b[0m, in \u001b[0;36mfilter_traceback.<locals>.error_handler\u001b[0;34m(*args, **kwargs)\u001b[0m\n\u001b[1;32m    148\u001b[0m filtered_tb \u001b[38;5;241m=\u001b[39m \u001b[38;5;28;01mNone\u001b[39;00m\n\u001b[1;32m    149\u001b[0m \u001b[38;5;28;01mtry\u001b[39;00m:\n\u001b[0;32m--> 150\u001b[0m   \u001b[38;5;28;01mreturn\u001b[39;00m \u001b[43mfn\u001b[49m\u001b[43m(\u001b[49m\u001b[38;5;241;43m*\u001b[39;49m\u001b[43margs\u001b[49m\u001b[43m,\u001b[49m\u001b[43m \u001b[49m\u001b[38;5;241;43m*\u001b[39;49m\u001b[38;5;241;43m*\u001b[39;49m\u001b[43mkwargs\u001b[49m\u001b[43m)\u001b[49m\n\u001b[1;32m    151\u001b[0m \u001b[38;5;28;01mexcept\u001b[39;00m \u001b[38;5;167;01mException\u001b[39;00m \u001b[38;5;28;01mas\u001b[39;00m e:\n\u001b[1;32m    152\u001b[0m   filtered_tb \u001b[38;5;241m=\u001b[39m _process_traceback_frames(e\u001b[38;5;241m.\u001b[39m__traceback__)\n",
      "File \u001b[0;32m~/.conda/envs/TF/lib/python3.10/site-packages/tensorflow/python/eager/polymorphic_function/polymorphic_function.py:880\u001b[0m, in \u001b[0;36mFunction.__call__\u001b[0;34m(self, *args, **kwds)\u001b[0m\n\u001b[1;32m    877\u001b[0m compiler \u001b[38;5;241m=\u001b[39m \u001b[38;5;124m\"\u001b[39m\u001b[38;5;124mxla\u001b[39m\u001b[38;5;124m\"\u001b[39m \u001b[38;5;28;01mif\u001b[39;00m \u001b[38;5;28mself\u001b[39m\u001b[38;5;241m.\u001b[39m_jit_compile \u001b[38;5;28;01melse\u001b[39;00m \u001b[38;5;124m\"\u001b[39m\u001b[38;5;124mnonXla\u001b[39m\u001b[38;5;124m\"\u001b[39m\n\u001b[1;32m    879\u001b[0m \u001b[38;5;28;01mwith\u001b[39;00m OptionalXlaContext(\u001b[38;5;28mself\u001b[39m\u001b[38;5;241m.\u001b[39m_jit_compile):\n\u001b[0;32m--> 880\u001b[0m   result \u001b[38;5;241m=\u001b[39m \u001b[38;5;28;43mself\u001b[39;49m\u001b[38;5;241;43m.\u001b[39;49m\u001b[43m_call\u001b[49m\u001b[43m(\u001b[49m\u001b[38;5;241;43m*\u001b[39;49m\u001b[43margs\u001b[49m\u001b[43m,\u001b[49m\u001b[43m \u001b[49m\u001b[38;5;241;43m*\u001b[39;49m\u001b[38;5;241;43m*\u001b[39;49m\u001b[43mkwds\u001b[49m\u001b[43m)\u001b[49m\n\u001b[1;32m    882\u001b[0m new_tracing_count \u001b[38;5;241m=\u001b[39m \u001b[38;5;28mself\u001b[39m\u001b[38;5;241m.\u001b[39mexperimental_get_tracing_count()\n\u001b[1;32m    883\u001b[0m without_tracing \u001b[38;5;241m=\u001b[39m (tracing_count \u001b[38;5;241m==\u001b[39m new_tracing_count)\n",
      "File \u001b[0;32m~/.conda/envs/TF/lib/python3.10/site-packages/tensorflow/python/eager/polymorphic_function/polymorphic_function.py:912\u001b[0m, in \u001b[0;36mFunction._call\u001b[0;34m(self, *args, **kwds)\u001b[0m\n\u001b[1;32m    909\u001b[0m   \u001b[38;5;28mself\u001b[39m\u001b[38;5;241m.\u001b[39m_lock\u001b[38;5;241m.\u001b[39mrelease()\n\u001b[1;32m    910\u001b[0m   \u001b[38;5;66;03m# In this case we have created variables on the first call, so we run the\u001b[39;00m\n\u001b[1;32m    911\u001b[0m   \u001b[38;5;66;03m# defunned version which is guaranteed to never create variables.\u001b[39;00m\n\u001b[0;32m--> 912\u001b[0m   \u001b[38;5;28;01mreturn\u001b[39;00m \u001b[38;5;28;43mself\u001b[39;49m\u001b[38;5;241;43m.\u001b[39;49m\u001b[43m_no_variable_creation_fn\u001b[49m\u001b[43m(\u001b[49m\u001b[38;5;241;43m*\u001b[39;49m\u001b[43margs\u001b[49m\u001b[43m,\u001b[49m\u001b[43m \u001b[49m\u001b[38;5;241;43m*\u001b[39;49m\u001b[38;5;241;43m*\u001b[39;49m\u001b[43mkwds\u001b[49m\u001b[43m)\u001b[49m  \u001b[38;5;66;03m# pylint: disable=not-callable\u001b[39;00m\n\u001b[1;32m    913\u001b[0m \u001b[38;5;28;01melif\u001b[39;00m \u001b[38;5;28mself\u001b[39m\u001b[38;5;241m.\u001b[39m_variable_creation_fn \u001b[38;5;129;01mis\u001b[39;00m \u001b[38;5;129;01mnot\u001b[39;00m \u001b[38;5;28;01mNone\u001b[39;00m:\n\u001b[1;32m    914\u001b[0m   \u001b[38;5;66;03m# Release the lock early so that multiple threads can perform the call\u001b[39;00m\n\u001b[1;32m    915\u001b[0m   \u001b[38;5;66;03m# in parallel.\u001b[39;00m\n\u001b[1;32m    916\u001b[0m   \u001b[38;5;28mself\u001b[39m\u001b[38;5;241m.\u001b[39m_lock\u001b[38;5;241m.\u001b[39mrelease()\n",
      "File \u001b[0;32m~/.conda/envs/TF/lib/python3.10/site-packages/tensorflow/python/eager/polymorphic_function/tracing_compiler.py:134\u001b[0m, in \u001b[0;36mTracingCompiler.__call__\u001b[0;34m(self, *args, **kwargs)\u001b[0m\n\u001b[1;32m    131\u001b[0m \u001b[38;5;28;01mwith\u001b[39;00m \u001b[38;5;28mself\u001b[39m\u001b[38;5;241m.\u001b[39m_lock:\n\u001b[1;32m    132\u001b[0m   (concrete_function,\n\u001b[1;32m    133\u001b[0m    filtered_flat_args) \u001b[38;5;241m=\u001b[39m \u001b[38;5;28mself\u001b[39m\u001b[38;5;241m.\u001b[39m_maybe_define_function(args, kwargs)\n\u001b[0;32m--> 134\u001b[0m \u001b[38;5;28;01mreturn\u001b[39;00m \u001b[43mconcrete_function\u001b[49m\u001b[38;5;241;43m.\u001b[39;49m\u001b[43m_call_flat\u001b[49m\u001b[43m(\u001b[49m\n\u001b[1;32m    135\u001b[0m \u001b[43m    \u001b[49m\u001b[43mfiltered_flat_args\u001b[49m\u001b[43m,\u001b[49m\u001b[43m \u001b[49m\u001b[43mcaptured_inputs\u001b[49m\u001b[38;5;241;43m=\u001b[39;49m\u001b[43mconcrete_function\u001b[49m\u001b[38;5;241;43m.\u001b[39;49m\u001b[43mcaptured_inputs\u001b[49m\u001b[43m)\u001b[49m\n",
      "File \u001b[0;32m~/.conda/envs/TF/lib/python3.10/site-packages/tensorflow/python/eager/polymorphic_function/monomorphic_function.py:1745\u001b[0m, in \u001b[0;36mConcreteFunction._call_flat\u001b[0;34m(self, args, captured_inputs, cancellation_manager)\u001b[0m\n\u001b[1;32m   1741\u001b[0m possible_gradient_type \u001b[38;5;241m=\u001b[39m gradients_util\u001b[38;5;241m.\u001b[39mPossibleTapeGradientTypes(args)\n\u001b[1;32m   1742\u001b[0m \u001b[38;5;28;01mif\u001b[39;00m (possible_gradient_type \u001b[38;5;241m==\u001b[39m gradients_util\u001b[38;5;241m.\u001b[39mPOSSIBLE_GRADIENT_TYPES_NONE\n\u001b[1;32m   1743\u001b[0m     \u001b[38;5;129;01mand\u001b[39;00m executing_eagerly):\n\u001b[1;32m   1744\u001b[0m   \u001b[38;5;66;03m# No tape is watching; skip to running the function.\u001b[39;00m\n\u001b[0;32m-> 1745\u001b[0m   \u001b[38;5;28;01mreturn\u001b[39;00m \u001b[38;5;28mself\u001b[39m\u001b[38;5;241m.\u001b[39m_build_call_outputs(\u001b[38;5;28;43mself\u001b[39;49m\u001b[38;5;241;43m.\u001b[39;49m\u001b[43m_inference_function\u001b[49m\u001b[38;5;241;43m.\u001b[39;49m\u001b[43mcall\u001b[49m\u001b[43m(\u001b[49m\n\u001b[1;32m   1746\u001b[0m \u001b[43m      \u001b[49m\u001b[43mctx\u001b[49m\u001b[43m,\u001b[49m\u001b[43m \u001b[49m\u001b[43margs\u001b[49m\u001b[43m,\u001b[49m\u001b[43m \u001b[49m\u001b[43mcancellation_manager\u001b[49m\u001b[38;5;241;43m=\u001b[39;49m\u001b[43mcancellation_manager\u001b[49m\u001b[43m)\u001b[49m)\n\u001b[1;32m   1747\u001b[0m forward_backward \u001b[38;5;241m=\u001b[39m \u001b[38;5;28mself\u001b[39m\u001b[38;5;241m.\u001b[39m_select_forward_and_backward_functions(\n\u001b[1;32m   1748\u001b[0m     args,\n\u001b[1;32m   1749\u001b[0m     possible_gradient_type,\n\u001b[1;32m   1750\u001b[0m     executing_eagerly)\n\u001b[1;32m   1751\u001b[0m forward_function, args_with_tangents \u001b[38;5;241m=\u001b[39m forward_backward\u001b[38;5;241m.\u001b[39mforward()\n",
      "File \u001b[0;32m~/.conda/envs/TF/lib/python3.10/site-packages/tensorflow/python/eager/polymorphic_function/monomorphic_function.py:378\u001b[0m, in \u001b[0;36m_EagerDefinedFunction.call\u001b[0;34m(self, ctx, args, cancellation_manager)\u001b[0m\n\u001b[1;32m    376\u001b[0m \u001b[38;5;28;01mwith\u001b[39;00m _InterpolateFunctionError(\u001b[38;5;28mself\u001b[39m):\n\u001b[1;32m    377\u001b[0m   \u001b[38;5;28;01mif\u001b[39;00m cancellation_manager \u001b[38;5;129;01mis\u001b[39;00m \u001b[38;5;28;01mNone\u001b[39;00m:\n\u001b[0;32m--> 378\u001b[0m     outputs \u001b[38;5;241m=\u001b[39m \u001b[43mexecute\u001b[49m\u001b[38;5;241;43m.\u001b[39;49m\u001b[43mexecute\u001b[49m\u001b[43m(\u001b[49m\n\u001b[1;32m    379\u001b[0m \u001b[43m        \u001b[49m\u001b[38;5;28;43mstr\u001b[39;49m\u001b[43m(\u001b[49m\u001b[38;5;28;43mself\u001b[39;49m\u001b[38;5;241;43m.\u001b[39;49m\u001b[43msignature\u001b[49m\u001b[38;5;241;43m.\u001b[39;49m\u001b[43mname\u001b[49m\u001b[43m)\u001b[49m\u001b[43m,\u001b[49m\n\u001b[1;32m    380\u001b[0m \u001b[43m        \u001b[49m\u001b[43mnum_outputs\u001b[49m\u001b[38;5;241;43m=\u001b[39;49m\u001b[38;5;28;43mself\u001b[39;49m\u001b[38;5;241;43m.\u001b[39;49m\u001b[43m_num_outputs\u001b[49m\u001b[43m,\u001b[49m\n\u001b[1;32m    381\u001b[0m \u001b[43m        \u001b[49m\u001b[43minputs\u001b[49m\u001b[38;5;241;43m=\u001b[39;49m\u001b[43margs\u001b[49m\u001b[43m,\u001b[49m\n\u001b[1;32m    382\u001b[0m \u001b[43m        \u001b[49m\u001b[43mattrs\u001b[49m\u001b[38;5;241;43m=\u001b[39;49m\u001b[43mattrs\u001b[49m\u001b[43m,\u001b[49m\n\u001b[1;32m    383\u001b[0m \u001b[43m        \u001b[49m\u001b[43mctx\u001b[49m\u001b[38;5;241;43m=\u001b[39;49m\u001b[43mctx\u001b[49m\u001b[43m)\u001b[49m\n\u001b[1;32m    384\u001b[0m   \u001b[38;5;28;01melse\u001b[39;00m:\n\u001b[1;32m    385\u001b[0m     outputs \u001b[38;5;241m=\u001b[39m execute\u001b[38;5;241m.\u001b[39mexecute_with_cancellation(\n\u001b[1;32m    386\u001b[0m         \u001b[38;5;28mstr\u001b[39m(\u001b[38;5;28mself\u001b[39m\u001b[38;5;241m.\u001b[39msignature\u001b[38;5;241m.\u001b[39mname),\n\u001b[1;32m    387\u001b[0m         num_outputs\u001b[38;5;241m=\u001b[39m\u001b[38;5;28mself\u001b[39m\u001b[38;5;241m.\u001b[39m_num_outputs,\n\u001b[0;32m   (...)\u001b[0m\n\u001b[1;32m    390\u001b[0m         ctx\u001b[38;5;241m=\u001b[39mctx,\n\u001b[1;32m    391\u001b[0m         cancellation_manager\u001b[38;5;241m=\u001b[39mcancellation_manager)\n",
      "File \u001b[0;32m~/.conda/envs/TF/lib/python3.10/site-packages/tensorflow/python/eager/execute.py:52\u001b[0m, in \u001b[0;36mquick_execute\u001b[0;34m(op_name, num_outputs, inputs, attrs, ctx, name)\u001b[0m\n\u001b[1;32m     50\u001b[0m \u001b[38;5;28;01mtry\u001b[39;00m:\n\u001b[1;32m     51\u001b[0m   ctx\u001b[38;5;241m.\u001b[39mensure_initialized()\n\u001b[0;32m---> 52\u001b[0m   tensors \u001b[38;5;241m=\u001b[39m \u001b[43mpywrap_tfe\u001b[49m\u001b[38;5;241;43m.\u001b[39;49m\u001b[43mTFE_Py_Execute\u001b[49m\u001b[43m(\u001b[49m\u001b[43mctx\u001b[49m\u001b[38;5;241;43m.\u001b[39;49m\u001b[43m_handle\u001b[49m\u001b[43m,\u001b[49m\u001b[43m \u001b[49m\u001b[43mdevice_name\u001b[49m\u001b[43m,\u001b[49m\u001b[43m \u001b[49m\u001b[43mop_name\u001b[49m\u001b[43m,\u001b[49m\n\u001b[1;32m     53\u001b[0m \u001b[43m                                      \u001b[49m\u001b[43minputs\u001b[49m\u001b[43m,\u001b[49m\u001b[43m \u001b[49m\u001b[43mattrs\u001b[49m\u001b[43m,\u001b[49m\u001b[43m \u001b[49m\u001b[43mnum_outputs\u001b[49m\u001b[43m)\u001b[49m\n\u001b[1;32m     54\u001b[0m \u001b[38;5;28;01mexcept\u001b[39;00m core\u001b[38;5;241m.\u001b[39m_NotOkStatusException \u001b[38;5;28;01mas\u001b[39;00m e:\n\u001b[1;32m     55\u001b[0m   \u001b[38;5;28;01mif\u001b[39;00m name \u001b[38;5;129;01mis\u001b[39;00m \u001b[38;5;129;01mnot\u001b[39;00m \u001b[38;5;28;01mNone\u001b[39;00m:\n",
      "\u001b[0;31mKeyboardInterrupt\u001b[0m: "
     ]
    }
   ],
   "source": [
    "history = model.fit(\n",
    "    dataset,\n",
    "    validation_data=validation_dataset,\n",
    "    epochs=4,\n",
    "    steps_per_epoch=16,\n",
    "    validation_steps=4,\n",
    "    callbacks=[early_stopping])"
   ]
  },
  {
   "cell_type": "code",
   "execution_count": 38,
   "id": "4ca32477-b308-434f-ab78-e630bf51d820",
   "metadata": {
    "collapsed": true,
    "jupyter": {
     "outputs_hidden": true
    }
   },
   "outputs": [
    {
     "name": "stdout",
     "output_type": "stream",
     "text": [
      "Model: \"model\"\n",
      "__________________________________________________________________________________________________\n",
      " Layer (type)                   Output Shape         Param #     Connected to                     \n",
      "==================================================================================================\n",
      " input_1 (InputLayer)           [(None, 1024)]       0           []                               \n",
      "                                                                                                  \n",
      " lambda (Lambda)                multiple             0           ['input_1[0][0]',                \n",
      "                                                                  'bidirectional[0][0]']          \n",
      "                                                                                                  \n",
      " bidirectional (Bidirectional)  (None, 1024, 32)     1824        ['lambda[0][0]']                 \n",
      "                                                                                                  \n",
      " conv2d (Conv2D)                (None, 1024, 1, 128  4224        ['lambda[1][0]']                 \n",
      "                                )                                                                 \n",
      "                                                                                                  \n",
      " lambda_1 (Lambda)              multiple             0           ['conv2d[0][0]',                 \n",
      "                                                                  'conv2d_1[0][0]']               \n",
      "                                                                                                  \n",
      " conv2d_1 (Conv2D)              (None, 1024, 1, 64)  8256        ['lambda_1[0][0]']               \n",
      "                                                                                                  \n",
      " conv2d_2 (Conv2D)              (None, 1024, 1, 1)   65          ['lambda_1[1][0]']               \n",
      "                                                                                                  \n",
      " flatten (Flatten)              (None, 1024)         0           ['conv2d_2[0][0]']               \n",
      "                                                                                                  \n",
      " add (Add)                      (None, 1024)         0           ['input_1[0][0]',                \n",
      "                                                                  'flatten[0][0]']                \n",
      "                                                                                                  \n",
      "==================================================================================================\n",
      "Total params: 14,369\n",
      "Trainable params: 14,369\n",
      "Non-trainable params: 0\n",
      "__________________________________________________________________________________________________\n"
     ]
    }
   ],
   "source": [
    "model.summary()"
   ]
  },
  {
   "cell_type": "code",
   "execution_count": 39,
   "id": "51f9f601-3448-4bba-86cb-85baa2e302df",
   "metadata": {},
   "outputs": [],
   "source": [
    "model.save('prototype01.hdf5')"
   ]
  },
  {
   "cell_type": "code",
   "execution_count": 22,
   "id": "36000879-a577-4f33-97b6-f165ce683f28",
   "metadata": {},
   "outputs": [],
   "source": [
    "loaded_model = keras.models.load_model('prototype01.hdf5', compile=False)"
   ]
  },
  {
   "cell_type": "code",
   "execution_count": 23,
   "id": "6fb70bad-5bd0-4009-96be-d61a2616ea73",
   "metadata": {
    "scrolled": true
   },
   "outputs": [
    {
     "ename": "NameError",
     "evalue": "name 'X_test' is not defined",
     "output_type": "error",
     "traceback": [
      "\u001b[0;31m---------------------------------------------------------------------------\u001b[0m",
      "\u001b[0;31mNameError\u001b[0m                                 Traceback (most recent call last)",
      "Cell \u001b[0;32mIn[23], line 1\u001b[0m\n\u001b[0;32m----> 1\u001b[0m y_pred \u001b[38;5;241m=\u001b[39m loaded_model\u001b[38;5;241m.\u001b[39mpredict(\u001b[43mX_test\u001b[49m)\n",
      "\u001b[0;31mNameError\u001b[0m: name 'X_test' is not defined"
     ]
    }
   ],
   "source": [
    "y_pred = loaded_model.predict(X_test)"
   ]
  },
  {
   "cell_type": "code",
   "execution_count": 43,
   "id": "73e5af8b-370b-4bcc-9ab6-30d0bdf9149f",
   "metadata": {},
   "outputs": [
    {
     "name": "stdout",
     "output_type": "stream",
     "text": [
      "25948\n"
     ]
    },
    {
     "data": {
      "image/png": "[encoded data removed]",
      "text/plain": [
       "<Figure size 640x480 with 1 Axes>"
      ]
     },
     "metadata": {},
     "output_type": "display_data"
    }
   ],
   "source": [
    "ind = np.random.choice(range(len(y_pred)))\n",
    "x_t = X_test[ind]\n",
    "y_true = y_test[ind]\n",
    "y_p = y_pred[ind]\n",
    "print(ind)\n",
    "\n",
    "# Plot the first graph\n",
    "plt.plot(shift_range, y_true, label='y_true', color='red')\n",
    "\n",
    "# Plot the second graph\n",
    "plt.plot(shift_range, y_p, label='y_pred', color='yellow', alpha=0.50)\n",
    "\n",
    "# Plot the third graph\n",
    "plt.plot(shift_range, x_t, label='X_test', color='grey', alpha=0.75)\n",
    "\n",
    "# Set the labels and title\n",
    "plt.xlabel('chemical shift range')\n",
    "plt.ylabel('abundance')\n",
    "plt.title('true and predicted signal')\n",
    "plt.grid(True)\n",
    "\n",
    "# Add a legend\n",
    "plt.legend()\n",
    "\n",
    "# Show the plot\n",
    "plt.show()"
   ]
  },
  {
   "cell_type": "code",
   "execution_count": 44,
   "id": "0e2f3e3f-a19f-4da8-be44-197db514282d",
   "metadata": {},
   "outputs": [
    {
     "data": {
      "image/png": "[encoded data removed]",
      "text/plain": [
       "<Figure size 640x480 with 1 Axes>"
      ]
     },
     "metadata": {},
     "output_type": "display_data"
    }
   ],
   "source": [
    "# Plot the first graph\n",
    "plt.plot(shift_range, y_true, label='y_true')\n",
    "plt.show()"
   ]
  },
  {
   "cell_type": "code",
   "execution_count": 45,
   "id": "ba886668-bbfc-44c9-b128-12b07b44e226",
   "metadata": {},
   "outputs": [
    {
     "data": {
      "image/png": "[encoded data removed]",
      "text/plain": [
       "<Figure size 640x480 with 1 Axes>"
      ]
     },
     "metadata": {},
     "output_type": "display_data"
    }
   ],
   "source": [
    "# Plot the second graph\n",
    "plt.plot(shift_range, y_p, label='y_pred', color='orange')\n",
    "plt.show()"
   ]
  },
  {
   "cell_type": "code",
   "execution_count": 46,
   "id": "c5edf0c4-afa6-4c5f-ba70-9698b07abd90",
   "metadata": {},
   "outputs": [
    {
     "data": {
      "image/png": "[encoded data removed]",
      "text/plain": [
       "<Figure size 640x480 with 1 Axes>"
      ]
     },
     "metadata": {},
     "output_type": "display_data"
    }
   ],
   "source": [
    "# Plot the third graph\n",
    "plt.plot(shift_range, x_t, label='X_test', color='green')\n",
    "plt.show()"
   ]
  },
  {
   "cell_type": "code",
   "execution_count": null,
   "id": "218a2e95-57a4-4487-b758-82f18aa6c9f6",
   "metadata": {},
   "outputs": [],
   "source": []
  }
 ],
 "metadata": {
  "kernelspec": {
   "display_name": "Python 3 (ipykernel)",
   "language": "python",
   "name": "python3"
  },
  "language_info": {
   "codemirror_mode": {
    "name": "ipython",
    "version": 3
   },
   "file_extension": ".py",
   "mimetype": "text/x-python",
   "name": "python",
   "nbconvert_exporter": "python",
   "pygments_lexer": "ipython3",
   "version": "3.10.12"
  }
 },
 "nbformat": 4,
 "nbformat_minor": 5
}
