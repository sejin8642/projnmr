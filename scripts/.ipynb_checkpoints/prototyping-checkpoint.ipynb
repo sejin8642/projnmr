{
 "cells": [
  {
   "cell_type": "markdown",
   "id": "d60e768f-e826-429c-976d-3fbb93865c1b",
   "metadata": {
    "jp-MarkdownHeadingCollapsed": true,
    "tags": []
   },
   "source": [
    "## initial configuration"
   ]
  },
  {
   "cell_type": "code",
   "execution_count": 1,
   "id": "9e876ad7-4aee-471a-a033-491035f3b92e",
   "metadata": {},
   "outputs": [],
   "source": [
    "import sys\n",
    "from pathlib import Path\n",
    "from importlib import reload"
   ]
  },
  {
   "cell_type": "code",
   "execution_count": 2,
   "id": "2cfb2951-fc40-425e-8a9b-b3d5e8c01fe1",
   "metadata": {},
   "outputs": [],
   "source": [
    "project_path = str(Path.home()/'gd'/'projects')\n",
    "\n",
    "sys.path.insert(0, project_path + '/ftnmr/scripts')\n",
    "sys.path.insert(0, project_path + '/projnmr/scripts')\n",
    "sys.path.insert(0, project_path + '/handson/scripts/part2')\n",
    "sys.path.insert(0, project_path + '/mods/scripts')"
   ]
  },
  {
   "cell_type": "code",
   "execution_count": 87,
   "id": "edcee921-6af7-4b79-b9ee-71ce1676e1fe",
   "metadata": {
    "scrolled": true
   },
   "outputs": [],
   "source": [
    "import ftnmr\n",
    "import projnmr\n",
    "import handson\n",
    "import mods\n",
    "import NN_models\n",
    "\n",
    "from projnmr import metaboliteGenerator as mg\n",
    "from string import ascii_letters as al\n",
    "from functools import partial"
   ]
  },
  {
   "cell_type": "code",
   "execution_count": 7,
   "id": "c1131cc7-2c85-4887-bc41-3a27cc5aca95",
   "metadata": {},
   "outputs": [],
   "source": [
    "import os\n",
    "# for error \"not creating xla devices tf_xla_enable_xla_devices not set\"\n",
    "os.environ['TF_XLA_FLAGS'] = '--tf_xla_enable_xla_devices'\n",
    "#TF_XLA_FLAGS is an environment variable used by TensorFlow's XLA \n",
    "#compiler to control its behavior. In this case, setting TF_XLA_FLAGS to \n",
    "#--tf_xla_enable_xla_devices enables the XLA compiler to use all available \n",
    "# XLA devices, such as GPUs or TPUs, for faster execution of TF.\n",
    "\n",
    "# for error \"Successfully opened dynamic library libcudart.so.10.1\"\n",
    "os.environ['TF_CPP_MIN_LOG_LEVEL'] = '2'"
   ]
  },
  {
   "cell_type": "code",
   "execution_count": 8,
   "id": "811d66ff-27dc-409b-b241-2943739396af",
   "metadata": {
    "scrolled": true
   },
   "outputs": [],
   "source": [
    "import inspect\n",
    "import random\n",
    "import psutil\n",
    "import gc\n",
    "\n",
    "from functools import partial\n",
    "from copy import deepcopy\n",
    "\n",
    "import numpy as np\n",
    "import matplotlib.pyplot as plt\n",
    "import pandas as pd\n",
    "import h5py\n",
    "\n",
    "import tensorflow as tf\n",
    "from tensorflow import keras"
   ]
  },
  {
   "cell_type": "code",
   "execution_count": 9,
   "id": "ec33189b-a8ac-480a-88b8-db055dd1ef62",
   "metadata": {},
   "outputs": [
    {
     "data": {
      "text/plain": [
       "'2.11.1'"
      ]
     },
     "execution_count": 9,
     "metadata": {},
     "output_type": "execute_result"
    }
   ],
   "source": [
    "# similar to os.environ['TF_XLA_FLAGS'], but preferred way to enable XLA\n",
    "tf.config.optimizer.set_jit(True) \n",
    "\n",
    "tf.__version__ # TF version"
   ]
  },
  {
   "cell_type": "code",
   "execution_count": 10,
   "id": "2876b85d-bd5a-4ac6-bead-eef5f1a781ca",
   "metadata": {},
   "outputs": [
    {
     "name": "stdout",
     "output_type": "stream",
     "text": [
      "/physical_device:CPU:0\n",
      "/physical_device:XLA_CPU:0\n",
      "/physical_device:GPU:0\n",
      "/physical_device:XLA_GPU:0\n"
     ]
    }
   ],
   "source": [
    "devices = tf.config.get_visible_devices()\n",
    "for dev in devices:\n",
    "    print(dev.name)"
   ]
  },
  {
   "cell_type": "code",
   "execution_count": 11,
   "id": "a1b1d3c0-11fa-4b65-a93c-c017397e26d5",
   "metadata": {},
   "outputs": [
    {
     "data": {
      "text/plain": [
       "True"
      ]
     },
     "execution_count": 11,
     "metadata": {},
     "output_type": "execute_result"
    }
   ],
   "source": [
    "tf.test.is_built_with_cuda()"
   ]
  },
  {
   "cell_type": "code",
   "execution_count": 12,
   "id": "444c8ab6-8efa-4928-91bf-1547225d9933",
   "metadata": {},
   "outputs": [
    {
     "name": "stdout",
     "output_type": "stream",
     "text": [
      "GPU 0: Total memory: 16384.0 MB\n",
      "       Free memory: 16113.4375 MB\n"
     ]
    }
   ],
   "source": [
    "import pynvml\n",
    "pynvml.nvmlInit()\n",
    "\n",
    "gpus = pynvml.nvmlDeviceGetCount()\n",
    "for i in range(gpus):\n",
    "    handle = pynvml.nvmlDeviceGetHandleByIndex(i)\n",
    "    info = pynvml.nvmlDeviceGetMemoryInfo(handle)\n",
    "    print(f\"GPU {i}: Total memory: {info.total / (1024**2)} MB\")\n",
    "    print(f\"       Free memory: {info.free / (1024**2)} MB\")\n",
    "\n",
    "pynvml.nvmlShutdown()"
   ]
  },
  {
   "cell_type": "code",
   "execution_count": 13,
   "id": "dbe0251d-f01f-4d4e-9fb6-4e67ff4b6246",
   "metadata": {},
   "outputs": [
    {
     "name": "stdout",
     "output_type": "stream",
     "text": [
      "Jupyter Lab memory usage: 103.94140625MB\n"
     ]
    }
   ],
   "source": [
    "# Get the Jupyter Lab process ID\n",
    "jupyter_pid = !pgrep jupyter-lab\n",
    "jupyter_pid = int(jupyter_pid[0])\n",
    "\n",
    "# get memory usage of jupyter lab\n",
    "process = psutil.Process(jupyter_pid)\n",
    "memory_info = process.memory_info()\n",
    "print(f\"Jupyter Lab memory usage: {memory_info.rss/(1024**2)}MB\")"
   ]
  },
  {
   "cell_type": "markdown",
   "id": "374b967c-4cc2-4d51-b755-0ce070fe1181",
   "metadata": {
    "jp-MarkdownHeadingCollapsed": true,
    "tags": []
   },
   "source": [
    "## creating dataset (VRAM is not taken up for this)"
   ]
  },
  {
   "cell_type": "code",
   "execution_count": 89,
   "id": "5f70c4d2-19c0-4809-b265-e943a6363ca3",
   "metadata": {
    "tags": []
   },
   "outputs": [
    {
     "data": {
      "text/plain": [
       "['/home/sejinnam/baseline/data/data.64MB.no_noise_target/baseline16.hdf5',\n",
       " '/home/sejinnam/baseline/data/data.64MB.no_noise_target/baseline05.hdf5',\n",
       " '/home/sejinnam/baseline/data/data.64MB.no_noise_target/baseline04.hdf5',\n",
       " '/home/sejinnam/baseline/data/data.64MB.no_noise_target/baseline06.hdf5',\n",
       " '/home/sejinnam/baseline/data/data.64MB.no_noise_target/baseline08.hdf5',\n",
       " '/home/sejinnam/baseline/data/data.64MB.no_noise_target/baseline07.hdf5',\n",
       " '/home/sejinnam/baseline/data/data.64MB.no_noise_target/baseline14.hdf5',\n",
       " '/home/sejinnam/baseline/data/data.64MB.no_noise_target/baseline09.hdf5',\n",
       " '/home/sejinnam/baseline/data/data.64MB.no_noise_target/baseline03.hdf5',\n",
       " '/home/sejinnam/baseline/data/data.64MB.no_noise_target/baseline18.hdf5',\n",
       " '/home/sejinnam/baseline/data/data.64MB.no_noise_target/baseline00.hdf5',\n",
       " '/home/sejinnam/baseline/data/data.64MB.no_noise_target/baseline02.hdf5',\n",
       " '/home/sejinnam/baseline/data/data.64MB.no_noise_target/baseline13.hdf5',\n",
       " '/home/sejinnam/baseline/data/data.64MB.no_noise_target/baseline17.hdf5',\n",
       " '/home/sejinnam/baseline/data/data.64MB.no_noise_target/baseline15.hdf5',\n",
       " '/home/sejinnam/baseline/data/data.64MB.no_noise_target/baseline12.hdf5',\n",
       " '/home/sejinnam/baseline/data/data.64MB.no_noise_target/baseline19.hdf5',\n",
       " '/home/sejinnam/baseline/data/data.64MB.no_noise_target/baseline10.hdf5',\n",
       " '/home/sejinnam/baseline/data/data.64MB.no_noise_target/baseline11.hdf5',\n",
       " '/home/sejinnam/baseline/data/data.64MB.no_noise_target/baseline01.hdf5']"
      ]
     },
     "execution_count": 89,
     "metadata": {},
     "output_type": "execute_result"
    }
   ],
   "source": [
    "# use the glob() method to find all HDF5 files in subdirectories of the current directory\n",
    "# hdf5_files = Path('./').glob('data*/*.hdf5')\n",
    "hdf5_files = Path.home().glob('baseline/data/data.64MB.no_noise_target/*.hdf5')\n",
    "\n",
    "# transform PosixPath type into string type\n",
    "hdf5_files = [str(file) for file in hdf5_files if 'baseline' in str(file)]\n",
    "random.shuffle(hdf5_files)\n",
    "num_of_files = len(hdf5_files)\n",
    "hdf5_files"
   ]
  },
  {
   "cell_type": "code",
   "execution_count": 86,
   "id": "b0b6e986-b561-43df-8e7e-ce44ffb96761",
   "metadata": {},
   "outputs": [
    {
     "data": {
      "text/plain": [
       "8192"
      ]
     },
     "metadata": {},
     "output_type": "display_data"
    },
    {
     "data": {
      "text/plain": [
       "1024"
      ]
     },
     "metadata": {},
     "output_type": "display_data"
    }
   ],
   "source": [
    "with h5py.File(hdf5_files[0], 'r') as f:\n",
    "    num_samples = f['data'].shape[0]\n",
    "    len_input = f['data'].shape[1]\n",
    "\n",
    "display(num_samples)\n",
    "display(len_input)"
   ]
  },
  {
   "cell_type": "code",
   "execution_count": 90,
   "id": "310b2acc-9f46-4e9f-8495-307030403c97",
   "metadata": {},
   "outputs": [
    {
     "data": {
      "text/plain": [
       "163840"
      ]
     },
     "execution_count": 90,
     "metadata": {},
     "output_type": "execute_result"
    }
   ],
   "source": [
    "total_num_samples = len(hdf5_files)*num_samples\n",
    "total_num_samples"
   ]
  },
  {
   "cell_type": "code",
   "execution_count": 135,
   "id": "48cf660e-d4c3-4731-9db8-6a919831aed7",
   "metadata": {},
   "outputs": [
    {
     "data": {
      "text/plain": [
       "array([0.0000000e+00, 1.5625000e-02, 3.1250000e-02, ..., 1.5953125e+01,\n",
       "       1.5968750e+01, 1.5984375e+01], dtype=float32)"
      ]
     },
     "execution_count": 135,
     "metadata": {},
     "output_type": "execute_result"
    }
   ],
   "source": [
    "shift_path = str(Path.home() / 'baseline/data/chemical_shift.hdf5')\n",
    "\n",
    "with h5py.File(shift_path, 'r') as f:\n",
    "    shift_range = f['shift'][:]\n",
    "\n",
    "shift_range"
   ]
  },
  {
   "cell_type": "code",
   "execution_count": 136,
   "id": "a4e224ec-ceb5-41bd-b26c-2fd9ca4696ac",
   "metadata": {},
   "outputs": [
    {
     "data": {
      "text/plain": [
       "dtype('float32')"
      ]
     },
     "execution_count": 136,
     "metadata": {},
     "output_type": "execute_result"
    }
   ],
   "source": [
    "shift_range.dtype"
   ]
  },
  {
   "cell_type": "code",
   "execution_count": 41,
   "id": "79655e56-f7fc-44bb-aa3a-445c7b3e599c",
   "metadata": {},
   "outputs": [
    {
     "data": {
      "text/plain": [
       "8192"
      ]
     },
     "execution_count": 41,
     "metadata": {},
     "output_type": "execute_result"
    }
   ],
   "source": [
    "sample_chunk = int(total_num_samples/num_of_files)\n",
    "sample_chunk"
   ]
  },
  {
   "cell_type": "code",
   "execution_count": 42,
   "id": "6872b310-cd8c-4d00-b481-86ae862596bd",
   "metadata": {},
   "outputs": [],
   "source": [
    "train_dataset_num = int(num_of_files*.8)\n",
    "valid_dataset_num =int(num_of_files*.1)"
   ]
  },
  {
   "cell_type": "code",
   "execution_count": 43,
   "id": "e9ddaf58-2eaf-45af-93ab-ef69635520b0",
   "metadata": {},
   "outputs": [],
   "source": [
    "X_train = np.zeros((sample_chunk*train_dataset_num, len_input))\n",
    "y_train = np.zeros((sample_chunk*train_dataset_num, len_input))\n",
    "\n",
    "X_valid = np.zeros((sample_chunk*valid_dataset_num, len_input))\n",
    "y_valid = np.zeros((sample_chunk*valid_dataset_num, len_input))\n",
    "\n",
    "X_test = np.zeros((sample_chunk*valid_dataset_num, len_input))\n",
    "y_test = np.zeros((sample_chunk*valid_dataset_num, len_input))"
   ]
  },
  {
   "cell_type": "code",
   "execution_count": 58,
   "id": "de9273fe-13d6-40f5-95ea-b67507cf544c",
   "metadata": {},
   "outputs": [
    {
     "data": {
      "text/plain": [
       "['/home/sejinnam/baseline/data/data.64MB.no_noise_target/baseline16.hdf5',\n",
       " '/home/sejinnam/baseline/data/data.64MB.no_noise_target/baseline11.hdf5',\n",
       " '/home/sejinnam/baseline/data/data.64MB.no_noise_target/baseline02.hdf5',\n",
       " '/home/sejinnam/baseline/data/data.64MB.no_noise_target/baseline15.hdf5',\n",
       " '/home/sejinnam/baseline/data/data.64MB.no_noise_target/baseline19.hdf5',\n",
       " '/home/sejinnam/baseline/data/data.64MB.no_noise_target/baseline05.hdf5',\n",
       " '/home/sejinnam/baseline/data/data.64MB.no_noise_target/baseline01.hdf5',\n",
       " '/home/sejinnam/baseline/data/data.64MB.no_noise_target/baseline03.hdf5',\n",
       " '/home/sejinnam/baseline/data/data.64MB.no_noise_target/baseline07.hdf5',\n",
       " '/home/sejinnam/baseline/data/data.64MB.no_noise_target/baseline14.hdf5',\n",
       " '/home/sejinnam/baseline/data/data.64MB.no_noise_target/baseline00.hdf5',\n",
       " '/home/sejinnam/baseline/data/data.64MB.no_noise_target/baseline04.hdf5',\n",
       " '/home/sejinnam/baseline/data/data.64MB.no_noise_target/baseline12.hdf5',\n",
       " '/home/sejinnam/baseline/data/data.64MB.no_noise_target/baseline17.hdf5',\n",
       " '/home/sejinnam/baseline/data/data.64MB.no_noise_target/baseline09.hdf5',\n",
       " '/home/sejinnam/baseline/data/data.64MB.no_noise_target/baseline06.hdf5']"
      ]
     },
     "metadata": {},
     "output_type": "display_data"
    },
    {
     "data": {
      "text/plain": [
       "['/home/sejinnam/baseline/data/data.64MB.no_noise_target/baseline08.hdf5']"
      ]
     },
     "metadata": {},
     "output_type": "display_data"
    },
    {
     "data": {
      "text/plain": [
       "['/home/sejinnam/baseline/data/data.64MB.no_noise_target/baseline13.hdf5']"
      ]
     },
     "execution_count": 58,
     "metadata": {},
     "output_type": "execute_result"
    }
   ],
   "source": [
    "hdf5_files_train = hdf5_files[:train_dataset_num]\n",
    "hdf5_files_valid = hdf5_files[train_dataset_num:train_dataset_num+1]\n",
    "hdf5_files_test = hdf5_files[-1:]\n",
    "\n",
    "display(hdf5_files_train)\n",
    "display(hdf5_files_valid)\n",
    "hdf5_files_test"
   ]
  },
  {
   "cell_type": "code",
   "execution_count": 45,
   "id": "0cb60c20-96b5-450a-b807-a39fd2152318",
   "metadata": {},
   "outputs": [
    {
     "data": {
      "text/plain": [
       "(131072, 1024)"
      ]
     },
     "execution_count": 45,
     "metadata": {},
     "output_type": "execute_result"
    }
   ],
   "source": [
    "for index, file_path in enumerate(hdf5_files_train):\n",
    "    start = num_samples*index\n",
    "    with h5py.File(file_path, 'r') as f:\n",
    "        X_train[start:start+num_samples] = f['data'][:]\n",
    "        y_train[start:start+num_samples] = f['target'][:]\n",
    "\n",
    "X_train.shape"
   ]
  },
  {
   "cell_type": "code",
   "execution_count": 49,
   "id": "70e13201-3481-4357-a611-85d0ce440af0",
   "metadata": {},
   "outputs": [
    {
     "data": {
      "text/plain": [
       "['/home/sejinnam/baseline/data/data.64MB.no_noise_target/baseline08.hdf5']"
      ]
     },
     "execution_count": 49,
     "metadata": {},
     "output_type": "execute_result"
    }
   ],
   "source": [
    "hdf5_files_valid"
   ]
  },
  {
   "cell_type": "code",
   "execution_count": 53,
   "id": "9bb91d70-b6a2-4f59-9671-8d3dcf623ca7",
   "metadata": {
    "collapsed": true,
    "jupyter": {
     "outputs_hidden": true
    }
   },
   "outputs": [
    {
     "name": "stdout",
     "output_type": "stream",
     "text": [
      "0 /\n",
      "1 h\n",
      "2 o\n",
      "3 m\n",
      "4 e\n",
      "5 /\n",
      "6 s\n",
      "7 e\n",
      "8 j\n",
      "9 i\n",
      "10 n\n",
      "11 n\n",
      "12 a\n",
      "13 m\n",
      "14 /\n",
      "15 b\n",
      "16 a\n",
      "17 s\n",
      "18 e\n",
      "19 l\n",
      "20 i\n",
      "21 n\n",
      "22 e\n",
      "23 /\n",
      "24 d\n",
      "25 a\n",
      "26 t\n",
      "27 a\n",
      "28 /\n",
      "29 d\n",
      "30 a\n",
      "31 t\n",
      "32 a\n",
      "33 .\n",
      "34 6\n",
      "35 4\n",
      "36 M\n",
      "37 B\n",
      "38 .\n",
      "39 n\n",
      "40 o\n",
      "41 _\n",
      "42 n\n",
      "43 o\n",
      "44 i\n",
      "45 s\n",
      "46 e\n",
      "47 _\n",
      "48 t\n",
      "49 a\n",
      "50 r\n",
      "51 g\n",
      "52 e\n",
      "53 t\n",
      "54 /\n",
      "55 b\n",
      "56 a\n",
      "57 s\n",
      "58 e\n",
      "59 l\n",
      "60 i\n",
      "61 n\n",
      "62 e\n",
      "63 1\n",
      "64 3\n",
      "65 .\n",
      "66 h\n",
      "67 d\n",
      "68 f\n",
      "69 5\n"
     ]
    }
   ],
   "source": [
    "for index, file_path in enumerate(hdf5_files_test):\n",
    "    print(index, file_path)"
   ]
  },
  {
   "cell_type": "code",
   "execution_count": 60,
   "id": "121e19d4-e7a0-4ace-9c21-d9ca71d93bf6",
   "metadata": {},
   "outputs": [
    {
     "data": {
      "text/plain": [
       "(16384, 1024)"
      ]
     },
     "execution_count": 60,
     "metadata": {},
     "output_type": "execute_result"
    }
   ],
   "source": [
    "for index, file_path in enumerate(hdf5_files_valid):\n",
    "    start = num_samples*index\n",
    "    with h5py.File(file_path, 'r') as f:\n",
    "        X_valid[start:start+num_samples] = f['data'][:]\n",
    "        y_valid[start:start+num_samples] = f['target'][:]\n",
    "\n",
    "for index, file_path in enumerate(hdf5_files_test):\n",
    "    start = num_samples*index\n",
    "    with h5py.File(file_path, 'r') as f:\n",
    "        X_test[start:start+num_samples] = f['data'][:]\n",
    "        y_test[start:start+num_samples] = f['target'][:]\n",
    "\n",
    "X_test.shape"
   ]
  },
  {
   "cell_type": "code",
   "execution_count": 61,
   "id": "bc1ccdbe-9123-49e1-abab-a33846f32de9",
   "metadata": {},
   "outputs": [
    {
     "data": {
      "image/png": "[encoded data removed]",
      "text/plain": [
       "<Figure size 640x480 with 1 Axes>"
      ]
     },
     "metadata": {},
     "output_type": "display_data"
    }
   ],
   "source": [
    "plt.plot(shift_range, X_train[14])\n",
    "plt.show()"
   ]
  },
  {
   "cell_type": "code",
   "execution_count": 62,
   "id": "fb0cbaf0-64dd-404c-b28d-0b7ad4946994",
   "metadata": {},
   "outputs": [
    {
     "data": {
      "image/png": "[encoded data removed]",
      "text/plain": [
       "<Figure size 640x480 with 1 Axes>"
      ]
     },
     "metadata": {},
     "output_type": "display_data"
    }
   ],
   "source": [
    "plt.plot(shift_range, y_train[14])\n",
    "plt.show()"
   ]
  },
  {
   "cell_type": "code",
   "execution_count": 63,
   "id": "cd8ec630-68db-49fd-9354-17dac1c03637",
   "metadata": {},
   "outputs": [
    {
     "data": {
      "text/plain": [
       "1024"
      ]
     },
     "execution_count": 63,
     "metadata": {},
     "output_type": "execute_result"
    }
   ],
   "source": [
    "buffer_size = int(X_valid.shape[0]/16)\n",
    "buffer_size"
   ]
  },
  {
   "cell_type": "code",
   "execution_count": 65,
   "id": "8c1acb38-e629-45cb-b8a3-5c1107a2bfbd",
   "metadata": {},
   "outputs": [],
   "source": [
    "dataset_train = tf.data.Dataset \\\n",
    "    .from_tensor_slices((X_train, y_train)) \\\n",
    "    .shuffle(buffer_size=buffer_size, seed=42) \\\n",
    "    .batch(32) \\\n",
    "    .prefetch(tf.data.AUTOTUNE)\n",
    "\n",
    "dataset_valid = tf.data.Dataset \\\n",
    "    .from_tensor_slices((X_valid, y_valid)) \\\n",
    "    .shuffle(buffer_size=buffer_size, seed=42) \\\n",
    "    .batch(32) \\\n",
    "    .prefetch(tf.data.AUTOTUNE)"
   ]
  },
  {
   "cell_type": "code",
   "execution_count": 103,
   "id": "4fb5eba9-dcbb-4c4e-9fef-862e80b60e44",
   "metadata": {},
   "outputs": [
    {
     "data": {
      "text/plain": [
       "PosixPath('/home/sejinnam/baseline/data/data.64MB.no_noise_target')"
      ]
     },
     "execution_count": 103,
     "metadata": {},
     "output_type": "execute_result"
    }
   ],
   "source": [
    "data_dir = Path.home() / Path('baseline/data/data.64MB.no_noise_target/')\n",
    "data_dir"
   ]
  },
  {
   "cell_type": "code",
   "execution_count": 140,
   "id": "332d7574-7d02-4259-a44e-c50e33400f62",
   "metadata": {},
   "outputs": [
    {
     "data": {
      "text/plain": [
       "(<PrefetchDataset element_spec=(TensorSpec(shape=(None, 1024), dtype=tf.float32, name=None), TensorSpec(shape=(None, 1024), dtype=tf.float32, name=None))>,\n",
       " <PrefetchDataset element_spec=(TensorSpec(shape=(None, 1024), dtype=tf.float32, name=None), TensorSpec(shape=(None, 1024), dtype=tf.float32, name=None))>,\n",
       " <PrefetchDataset element_spec=(TensorSpec(shape=(None, 1024), dtype=tf.float32, name=None), TensorSpec(shape=(None, 1024), dtype=tf.float32, name=None))>)"
      ]
     },
     "execution_count": 140,
     "metadata": {},
     "output_type": "execute_result"
    }
   ],
   "source": [
    "datasets = ftnmr.load_spec_data(data_dir, numpy_array=False)\n",
    "datasets"
   ]
  },
  {
   "cell_type": "markdown",
   "id": "4da0ba4c-679f-4eb1-9a30-e235c49cdc91",
   "metadata": {
    "jp-MarkdownHeadingCollapsed": true,
    "tags": []
   },
   "source": [
    "## testing MaxPool1D"
   ]
  },
  {
   "cell_type": "code",
   "execution_count": null,
   "id": "01e0b68b-6015-4c40-b667-805f70d29f9a",
   "metadata": {},
   "outputs": [],
   "source": [
    "with h5py.File('chemical_shift.hdf5', 'r') as f:\n",
    "    # Access the dataset\n",
    "    dataset = f['shift']\n",
    "    # Load the dataset into memory as a NumPy array\n",
    "    shift = dataset[:]\n",
    "\n",
    "shift.shape\n",
    "\n",
    "with h5py.File('data.2022-03-06~01:42PM/baseline00.hdf5', 'r') as f:\n",
    "    X = f['data'][:]\n",
    "    y = f['target'][:]\n",
    "\n",
    "X.shape"
   ]
  },
  {
   "cell_type": "code",
   "execution_count": null,
   "id": "fa4b14e8-3e7b-4e1e-8f15-c0034fe8282b",
   "metadata": {},
   "outputs": [],
   "source": [
    "plt.plot(shift, X[4])\n",
    "plt.show()"
   ]
  },
  {
   "cell_type": "code",
   "execution_count": null,
   "id": "33d22c9a-4fe5-4536-b14c-2af2d3a19b39",
   "metadata": {},
   "outputs": [],
   "source": [
    "test_intput = np.expand_dims(X[4], axis=-1)\n",
    "print(test_intput.shape)\n",
    "\n",
    "test_intput = np.expand_dims(test_intput, axis=0)\n",
    "print(test_intput.shape)\n",
    "\n",
    "input_tensor = tf.convert_to_tensor(test_intput, dtype=tf.float32)\n",
    "input_tensor"
   ]
  },
  {
   "cell_type": "code",
   "execution_count": null,
   "id": "0140b45a-1564-4ea3-abb5-e3330321eb25",
   "metadata": {},
   "outputs": [],
   "source": [
    "input_vector = keras.layers.Input([65536, 1])\n",
    "input_vector"
   ]
  },
  {
   "cell_type": "code",
   "execution_count": null,
   "id": "0aac3b3b-7b04-44e4-a51a-4e4c4d4b2da4",
   "metadata": {},
   "outputs": [],
   "source": [
    "pool_output = keras.layers.MaxPool1D(16)(input_vector)\n",
    "pool_output"
   ]
  },
  {
   "cell_type": "code",
   "execution_count": null,
   "id": "55034444-4790-4979-9081-f7cadf02d0a7",
   "metadata": {},
   "outputs": [],
   "source": [
    "test_output = keras.layers.MaxPool1D(32)(input_tensor)\n",
    "test_output"
   ]
  },
  {
   "cell_type": "code",
   "execution_count": null,
   "id": "842e26cb-2136-488c-9dc6-994c1a681334",
   "metadata": {},
   "outputs": [],
   "source": [
    "reduced_shift = shift[::32]\n",
    "reduced_shift.shape"
   ]
  },
  {
   "cell_type": "code",
   "execution_count": null,
   "id": "578a2b18-b5c8-4f62-8809-6ea0c02fecb3",
   "metadata": {},
   "outputs": [],
   "source": [
    "numpy_output = test_output.numpy()\n",
    "numpy_output.shape"
   ]
  },
  {
   "cell_type": "code",
   "execution_count": null,
   "id": "daf6fc89-6c04-480c-8eb8-b208cf955c09",
   "metadata": {},
   "outputs": [],
   "source": [
    "reshape_output = numpy_output.reshape(2048)\n",
    "reshape_output.shape"
   ]
  },
  {
   "cell_type": "code",
   "execution_count": null,
   "id": "f034aca9-ea12-4b57-8e40-5ece66fc0c3c",
   "metadata": {
    "tags": []
   },
   "outputs": [],
   "source": [
    "plt.plot(reduced_shift, reshape_output)\n",
    "plt.show()"
   ]
  },
  {
   "cell_type": "markdown",
   "id": "22bc4895-1263-458f-8928-88e3b9399357",
   "metadata": {
    "jp-MarkdownHeadingCollapsed": true,
    "tags": []
   },
   "source": [
    "## getting file paths"
   ]
  },
  {
   "cell_type": "code",
   "execution_count": null,
   "id": "dda0709b-0730-4c0f-a1e2-ffd35357a09b",
   "metadata": {},
   "outputs": [],
   "source": [
    "# use the glob() method to find all HDF5 files in subdirectories of the current directory\n",
    "hdf5_files = Path('.').glob('**/*.hdf5')\n",
    "\n",
    "# transform PosixPath type into string type\n",
    "hdf5_files = [str(file) for file in hdf5_files if 'baseline' in str(file)]\n",
    "hdf5_files"
   ]
  },
  {
   "cell_type": "code",
   "execution_count": null,
   "id": "1515906d-c19a-4e3f-8215-0d2f0ab86f35",
   "metadata": {
    "tags": []
   },
   "outputs": [],
   "source": [
    "# split the datasets into train, valid, test\n",
    "files_train = hdf5_files[:-2]\n",
    "files_valid = hdf5_files[-2:-1]\n",
    "files_test = hdf5_files[-1:]\n",
    "\n",
    "files_train"
   ]
  },
  {
   "cell_type": "code",
   "execution_count": null,
   "id": "818f29c2-36dd-4726-9a5a-0497f572c757",
   "metadata": {},
   "outputs": [],
   "source": [
    "def data_generator(file_paths, num_samples=512, batch_size=64):\n",
    "    np.random.shuffle(file_paths)\n",
    "    for file_path in file_paths:\n",
    "        with h5py.File(file_path, 'r') as f:\n",
    "            idx = np.random.permutation(num_samples)\n",
    "            data = f['data'][:][idx]\n",
    "            target = f['target'][:][idx]\n",
    "            \n",
    "            for i in range(0, num_samples, batch_size):\n",
    "                data = f['data'][i:i+batch_size]\n",
    "                target = f['target'][i:i+batch_size]\n",
    "                yield f['data'][i:i+batch_size], f['target'][i:i+batch_size]"
   ]
  },
  {
   "cell_type": "code",
   "execution_count": null,
   "id": "924bc122-5a11-4037-ac02-359abe0f59ea",
   "metadata": {},
   "outputs": [],
   "source": [
    "input_shape = (2, 2)\n",
    "kernel_size = (2, 2)\n",
    "stride = 1\n",
    "num_filters = 1\n",
    "\n",
    "sqm = lambda n: np.expand_dims(np.arange(n**2).reshape(n, n), axis=-1)\n",
    "lins = lambda n: np.array([np.expand_dims(np.linspace(0, n-1, n), axis=-1)])"
   ]
  },
  {
   "cell_type": "code",
   "execution_count": null,
   "id": "7c804f05-b580-44a3-a7db-2b0ef3019e1b",
   "metadata": {},
   "outputs": [],
   "source": [
    "input_tensor = tf.constant([lins(4)], dtype=tf.float32)\n",
    "matd(input_tensor[0][:, :, 0].numpy())"
   ]
  },
  {
   "cell_type": "code",
   "execution_count": null,
   "id": "e9db5567-f441-42db-affe-14437f6df39d",
   "metadata": {},
   "outputs": [],
   "source": [
    "input_tensor = tf.constant([sqm(3)], dtype=tf.float32)\n",
    "matd(input_tensor[0][:, :, 0].numpy())"
   ]
  },
  {
   "cell_type": "code",
   "execution_count": null,
   "id": "b960e744-2703-4d03-9b94-6c7f5e3feb08",
   "metadata": {},
   "outputs": [],
   "source": [
    "kernel_weights = sqm(4)[:1, :, 0]\n",
    "matd(kernel_weights)\n",
    "print('kernel_weights')"
   ]
  },
  {
   "cell_type": "code",
   "execution_count": null,
   "id": "5effd449-0866-4907-a19c-274be9a3ef28",
   "metadata": {
    "tags": []
   },
   "outputs": [],
   "source": [
    "?keras.layers.Conv2DTranspose"
   ]
  },
  {
   "cell_type": "code",
   "execution_count": null,
   "id": "361e157b-4678-4c83-ae53-4ef34786c106",
   "metadata": {},
   "outputs": [],
   "source": [
    "output_shape = (None, 3, 3, 1)\n",
    "\n",
    "# Define the transposed Conv2D layer\n",
    "tc2_layer = tf.keras.layers.Conv2DTranspose(\n",
    "    filters=num_filters,\n",
    "    kernel_size=kernel_weights.shape,\n",
    "    strides=(1, 2),\n",
    "    padding='valid',\n",
    "    kernel_initializer=tf.constant_initializer(kernel_weights),\n",
    "    #output_padding=\n",
    ")\n",
    "\n",
    "# Apply tc2_layer to the input tensor\n",
    "output_tensor = tc2_layer(input_tensor)\n",
    "matd(output_tensor[0][:, :, 0].numpy())"
   ]
  },
  {
   "cell_type": "markdown",
   "id": "e2eb6a2e-0c67-4b9e-a11d-4c10acdaedbd",
   "metadata": {
    "jp-MarkdownHeadingCollapsed": true
   },
   "source": [
    "## Dynamic Data Generation"
   ]
  },
  {
   "cell_type": "code",
   "execution_count": 67,
   "id": "1a8ca13a-e03d-4c5b-9847-3ffec422f12c",
   "metadata": {},
   "outputs": [
    {
     "name": "stdout",
     "output_type": "stream",
     "text": [
      "065.5k    0006.8    002.4k    0213.0\n",
      "\n",
      "103.9μ    131.1k    018.3m    0054.5    0019.0    0003.0\n"
     ]
    }
   ],
   "source": [
    "spec = ftnmr.spectrometer(shift_maximum=128.0)\n",
    "\n",
    "mods.print_formatted(spec.nf, spec.nf*spec.df, spec.t[-1], 213)\n",
    "print()\n",
    "mods.print_formatted(spec.df, spec.ns, spec.dt, spec.f_s, spec.p, spec.p_l)"
   ]
  },
  {
   "cell_type": "code",
   "execution_count": 68,
   "id": "4bfb6da7-8066-404c-8f1d-6c103f1d032f",
   "metadata": {},
   "outputs": [
    {
     "data": {
      "text/plain": [
       "{'A': (<ftnmr.molecule at 0x14d5c0e7dcf0>, 12.118136238112214)}"
      ]
     },
     "execution_count": 68,
     "metadata": {},
     "output_type": "execute_result"
    }
   ],
   "source": [
    "ru = np.random.uniform\n",
    "rr = np.random.randint\n",
    "moles = {al[26+k]:(mg(), ru(0, 50)) for k in range(0, rr(1, 15))}\n",
    "moles"
   ]
  },
  {
   "cell_type": "code",
   "execution_count": 69,
   "id": "56883cc3-83ce-414f-8f75-705080c8b569",
   "metadata": {},
   "outputs": [],
   "source": [
    "spec.artifact(baseline=True)\n",
    "spec.measure(moles=moles)"
   ]
  },
  {
   "cell_type": "code",
   "execution_count": 70,
   "id": "cac460a8-79bd-44b6-b210-298cadb79393",
   "metadata": {},
   "outputs": [
    {
     "data": {
      "image/png": "[encoded data removed]",
      "text/plain": [
       "<Figure size 640x480 with 1 Axes>"
      ]
     },
     "metadata": {},
     "output_type": "display_data"
    }
   ],
   "source": [
    "plt.plot(spec.shift, spec.spectra)\n",
    "plt.show()"
   ]
  },
  {
   "cell_type": "code",
   "execution_count": 71,
   "id": "88061f7d-14a4-430e-8b04-b0e4967f11de",
   "metadata": {},
   "outputs": [
    {
     "data": {
      "image/png": "[encoded data removed]",
      "text/plain": [
       "<Figure size 640x480 with 1 Axes>"
      ]
     },
     "metadata": {},
     "output_type": "display_data"
    }
   ],
   "source": [
    "plt.plot(spec.t[:spec.nf], spec.signal.real[:spec.nf])\n",
    "plt.show()"
   ]
  },
  {
   "cell_type": "code",
   "execution_count": 75,
   "id": "af33d048-3375-406d-a3e9-73619ba4ba2e",
   "metadata": {},
   "outputs": [
    {
     "data": {
      "text/plain": [
       "(65536,)"
      ]
     },
     "execution_count": 75,
     "metadata": {},
     "output_type": "execute_result"
    }
   ],
   "source": [
    "spec.shift.shape"
   ]
  },
  {
   "cell_type": "code",
   "execution_count": 102,
   "id": "e3b238aa-3fc7-4472-bddd-9bd62887e9ba",
   "metadata": {},
   "outputs": [
    {
     "data": {
      "text/plain": [
       "<module 'ftnmr' from '/home/sejinnam/gd/projects/ftnmr/scripts/ftnmr.py'>"
      ]
     },
     "execution_count": 102,
     "metadata": {},
     "output_type": "execute_result"
    }
   ],
   "source": [
    "reload(ftnmr)"
   ]
  },
  {
   "cell_type": "code",
   "execution_count": 76,
   "id": "7a5af3c3-cce0-441e-ae6f-babfa3c1c72f",
   "metadata": {},
   "outputs": [
    {
     "name": "stdout",
     "output_type": "stream",
     "text": [
      "input size: 1024\n"
     ]
    }
   ],
   "source": [
    "input_size = 2**10\n",
    "print(f\"input size: {input_size}\")\n",
    "rescale_ratio = int(spec.nf/input_size)\n",
    "target = np.reshape(spec.target, (input_size, rescale_ratio))\n",
    "spectra = np.reshape(spec.spectra, (input_size, rescale_ratio))\n",
    "\n",
    "max_target = np.max(target, axis=1)\n",
    "mean_target = np.mean(target, axis=1)\n",
    "max_spectra = np.max(spectra, axis=1)\n",
    "mean_spectra = np.mean(spectra, axis=1)\n",
    "\n",
    "rescaled_shift = spec.shift[::rescale_ratio]"
   ]
  },
  {
   "cell_type": "code",
   "execution_count": 104,
   "id": "5402b8b7-d39b-4c4d-af42-fe6891e9f753",
   "metadata": {},
   "outputs": [
    {
     "data": {
      "image/png": "[encoded data removed]",
      "text/plain": [
       "<Figure size 640x480 with 1 Axes>"
      ]
     },
     "metadata": {},
     "output_type": "display_data"
    }
   ],
   "source": [
    "plt.plot(rescaled_shift, max_target)\n",
    "plt.show()"
   ]
  },
  {
   "cell_type": "code",
   "execution_count": 105,
   "id": "c2729981-367f-4b1a-9386-6079f6c27d3c",
   "metadata": {},
   "outputs": [
    {
     "data": {
      "image/png": "[encoded data removed]",
      "text/plain": [
       "<Figure size 640x480 with 1 Axes>"
      ]
     },
     "metadata": {},
     "output_type": "display_data"
    }
   ],
   "source": [
    "plt.plot(rescaled_shift, max_spectra)\n",
    "plt.show()"
   ]
  },
  {
   "cell_type": "markdown",
   "id": "316b1036-3e6e-45e8-ad38-6aff52a3c783",
   "metadata": {
    "jp-MarkdownHeadingCollapsed": true
   },
   "source": [
    "## Phase Shift artifact"
   ]
  },
  {
   "cell_type": "code",
   "execution_count": 133,
   "id": "4433fdff-33ed-4f08-8990-b3f5f0a24f84",
   "metadata": {},
   "outputs": [],
   "source": [
    "## initialize spectrometer with random number of molecules\n",
    "spec = ftnmr.spectrometer(shift_maximum=128.0)\n",
    "num_of_moles = np.random.randint(1, 15)\n",
    "input_size = 2**10\n",
    "\n",
    "# data generator arguments as tf.Tensors that are fed into tf.data.Dataset.from_generator\n",
    "baseline=False\n",
    "phase_shift=True\n",
    "smoothness=False\n",
    "moles = {al[26+k]:(mg(), np.random.uniform(0, 50)) for k in range(0, num_of_moles)}\n",
    "\n",
    "# set artifact and measure the signal\n",
    "spec.artifact(baseline=baseline, phase_shift=phase_shift, smoothness=smoothness)\n",
    "spec.measure(moles=moles)\n",
    "input_size = 2**10"
   ]
  },
  {
   "cell_type": "code",
   "execution_count": 134,
   "id": "ab7e5dfe-ea8d-4721-9b47-211f9c6d8dc2",
   "metadata": {},
   "outputs": [],
   "source": [
    "max_spectra, max_target, rescaled_shift = ftnmr.max_reduction(spec, input_size)"
   ]
  },
  {
   "cell_type": "code",
   "execution_count": 135,
   "id": "f957f221-c554-4fb0-b02a-535f40bfa374",
   "metadata": {},
   "outputs": [
    {
     "data": {
      "image/png": "[encoded data removed]",
      "text/plain": [
       "<Figure size 640x480 with 1 Axes>"
      ]
     },
     "metadata": {},
     "output_type": "display_data"
    }
   ],
   "source": [
    "plt.plot(rescaled_shift, max_target)\n",
    "plt.show()"
   ]
  },
  {
   "cell_type": "code",
   "execution_count": 136,
   "id": "a2a07866-947c-4de3-a3cc-f65f9a3e8418",
   "metadata": {},
   "outputs": [
    {
     "data": {
      "image/png": "[encoded data removed]",
      "text/plain": [
       "<Figure size 640x480 with 1 Axes>"
      ]
     },
     "metadata": {},
     "output_type": "display_data"
    }
   ],
   "source": [
    "plt.plot(rescaled_shift, max_spectra)\n",
    "plt.show()"
   ]
  },
  {
   "cell_type": "code",
   "execution_count": 120,
   "id": "e1763e0d-2ae4-4ff8-89d2-0c498b57f589",
   "metadata": {},
   "outputs": [
    {
     "data": {
      "text/plain": [
       "1280"
      ]
     },
     "execution_count": 120,
     "metadata": {},
     "output_type": "execute_result"
    }
   ],
   "source": [
    "64*20"
   ]
  },
  {
   "cell_type": "markdown",
   "id": "70a9dd42-5e6b-414f-abe4-d05d822990bc",
   "metadata": {
    "jp-MarkdownHeadingCollapsed": true
   },
   "source": [
    "## Data Generator"
   ]
  },
  {
   "cell_type": "code",
   "execution_count": 80,
   "id": "f51ed2d0-f15f-4191-9cd1-9b9750e6f18b",
   "metadata": {},
   "outputs": [
    {
     "data": {
      "text/plain": [
       "(array([0.22286393, 0.21535394, 0.22055787, ..., 0.1459843 , 0.13912012,\n",
       "        0.13936812], dtype=float32),\n",
       " array([0.00871326, 0.00871332, 0.00871334, ..., 0.00848973, 0.00848981,\n",
       "        0.00848982], dtype=float32))"
      ]
     },
     "execution_count": 80,
     "metadata": {},
     "output_type": "execute_result"
    }
   ],
   "source": [
    "# initialize spectrometer with random number of molecules\n",
    "spec = ftnmr.spectrometer(shift_maximum=128.0)\n",
    "num_of_moles = np.random.randint(1, 15)\n",
    "\n",
    "# data generator arguments as tf.Tensors that are fed into tf.data.Dataset.from_generator\n",
    "baseline=True\n",
    "phase_shift=False\n",
    "smoothness=False\n",
    "moles = {al[26+k]:(mg(), np.random.uniform(0, 50)) for k in range(0, num_of_moles)}\n",
    "\n",
    "# set artifact and measure the signal\n",
    "spec.artifact(baseline=baseline, phase_shift=phase_shift, smoothness=smoothness)\n",
    "spec.measure(moles=moles)\n",
    "\n",
    "# sample output\n",
    "output = spec()\n",
    "output"
   ]
  },
  {
   "cell_type": "code",
   "execution_count": 56,
   "id": "142f7e47-f838-459e-8041-41d2b678665e",
   "metadata": {},
   "outputs": [],
   "source": [
    "# data generator internal parameters\n",
    "spec = ftnmr.spectrometer(shift_maximum=128.0)\n",
    "input_size = 2**10\n",
    "rescale_ratio = int(spec.nf/input_size)\n",
    "\n",
    "def data_generator(baseline, phase_shift, smoothness):\n",
    "    while True:\n",
    "        # get number of different types of molecules\n",
    "        rr = np.random.randint\n",
    "        ru = np.random.uniform\n",
    "        num_of_moles = rr(1, 15)\n",
    "        moles = {al[26+k]:(mg(), ru(0, 50)) for k in range(0, num_of_moles)}\n",
    "    \n",
    "        # measure the signal with artifact\n",
    "        spec.artifact(\n",
    "            baseline=baseline, \n",
    "            phase_shift=phase_shift, \n",
    "            smoothness=smoothness)\n",
    "        spec.measure(moles=moles)\n",
    "    \n",
    "        # reshape the output for memory management using reshape and max (or mean)\n",
    "        spectra = np.reshape(spec.spectra, (input_size, rescale_ratio))\n",
    "        target = np.reshape(spec.target, (input_size, rescale_ratio))\n",
    "        max_spectra = np.max(spectra, axis=1) # max or mean\n",
    "        max_target = np.max(target, axis=1) # max or mean\n",
    "    \n",
    "        yield max_spectra, max_target"
   ]
  },
  {
   "cell_type": "code",
   "execution_count": 57,
   "id": "7059a828-1b7e-4a42-a1d7-63a0dbbb7d80",
   "metadata": {},
   "outputs": [
    {
     "data": {
      "text/plain": [
       "(<tf.Tensor: shape=(), dtype=bool, numpy=True>,\n",
       " <tf.Tensor: shape=(), dtype=bool, numpy=False>,\n",
       " <tf.Tensor: shape=(), dtype=bool, numpy=False>)"
      ]
     },
     "metadata": {},
     "output_type": "display_data"
    },
    {
     "data": {
      "text/plain": [
       "<generator object data_generator at 0x154c1c14eb90>"
      ]
     },
     "execution_count": 57,
     "metadata": {},
     "output_type": "execute_result"
    }
   ],
   "source": [
    "# data generator arguments as tf.Tensors that are fed into tf.data.Dataset.from_generator\n",
    "baseline=True\n",
    "phase_shift=False\n",
    "smoothness=False\n",
    "\n",
    "args = [baseline, phase_shift, smoothness]\n",
    "args = tuple(tf.constant(x) for x in args)\n",
    "display(args)\n",
    "\n",
    "data_gen_output = data_generator(baseline, phase_shift, smoothness)\n",
    "data_gen_output"
   ]
  },
  {
   "cell_type": "code",
   "execution_count": 73,
   "id": "58859cbd-1eef-40d7-b625-909a2250397c",
   "metadata": {},
   "outputs": [
    {
     "data": {
      "text/plain": [
       "<PrefetchDataset element_spec=(TensorSpec(shape=(None, 1024), dtype=tf.float32, name=None), TensorSpec(shape=(None, 1024), dtype=tf.float32, name=None))>"
      ]
     },
     "metadata": {},
     "output_type": "display_data"
    },
    {
     "data": {
      "text/plain": [
       "(<tf.Tensor: shape=(8, 1024), dtype=float32, numpy=\n",
       " array([[45.098835, 45.108315, 45.050026, ..., 45.000366, 44.93574 ,\n",
       "         44.8526  ],\n",
       "        [45.473305, 45.439533, 45.429012, ..., 45.154842, 45.08999 ,\n",
       "         45.028805],\n",
       "        [45.564228, 45.557816, 45.514633, ..., 45.220005, 45.143497,\n",
       "         45.077328],\n",
       "        ...,\n",
       "        [46.017487, 45.94809 , 45.92479 , ..., 45.571323, 45.512283,\n",
       "         45.423103],\n",
       "        [46.264072, 46.23345 , 46.16962 , ..., 45.653385, 45.58164 ,\n",
       "         45.501972],\n",
       "        [46.400356, 46.336567, 46.299034, ..., 45.8601  , 45.80394 ,\n",
       "         45.72599 ]], dtype=float32)>,\n",
       " <tf.Tensor: shape=(8, 1024), dtype=float32, numpy=\n",
       " array([[0.01058638, 0.01059614, 0.01060649, ..., 0.01027915, 0.01027913,\n",
       "         0.01027912],\n",
       "        [0.00131609, 0.00131823, 0.00132052, ..., 0.00126396, 0.00126396,\n",
       "         0.00126396],\n",
       "        [0.01311748, 0.0131321 , 0.01314764, ..., 0.01271258, 0.01271256,\n",
       "         0.01271254],\n",
       "        ...,\n",
       "        [0.01516165, 0.01517743, 0.01519408, ..., 0.01465458, 0.01465455,\n",
       "         0.01465453],\n",
       "        [0.01709769, 0.01710832, 0.0171195 , ..., 0.01671783, 0.01671779,\n",
       "         0.01671776],\n",
       "        [0.00716753, 0.00717113, 0.0071749 , ..., 0.00702914, 0.00702913,\n",
       "         0.00702912]], dtype=float32)>)"
      ]
     },
     "execution_count": 73,
     "metadata": {},
     "output_type": "execute_result"
    }
   ],
   "source": [
    "# dataset from generator\n",
    "size = input_size\n",
    "batch_size = 8\n",
    "\n",
    "dataset = tf.data.Dataset.from_generator(\n",
    "    data_generator,\n",
    "    args=args,\n",
    "    output_signature=(\n",
    "        tf.TensorSpec(shape=(size,), dtype=tf.float32),\n",
    "        tf.TensorSpec(shape=(size,), dtype=tf.float32)))\n",
    "\n",
    "dataset = dataset.batch(batch_size).prefetch(tf.data.AUTOTUNE)\n",
    "\n",
    "validation_dataset = tf.data.Dataset.from_generator(\n",
    "    data_generator,\n",
    "    args=args,\n",
    "    output_signature=(\n",
    "        tf.TensorSpec(shape=(size,), dtype=tf.float32),\n",
    "        tf.TensorSpec(shape=(size,), dtype=tf.float32)))\n",
    "\n",
    "validation_dataset = validation_dataset.batch(batch_size).prefetch(tf.data.AUTOTUNE)\n",
    "\n",
    "display(dataset)\n",
    "\n",
    "first_output = next(iter(dataset))\n",
    "first_output"
   ]
  },
  {
   "cell_type": "markdown",
   "id": "6766e28d-efb5-44e1-bef1-6b54ed2ca24a",
   "metadata": {},
   "source": [
    "### from generator to data"
   ]
  },
  {
   "cell_type": "code",
   "execution_count": 71,
   "id": "6faed1fd-d29f-4dcd-b11f-1cbba4428c5b",
   "metadata": {},
   "outputs": [],
   "source": [
    "def data_from_generator(generator, num_val_power, batch_size_power):\n",
    "    \"\"\"\n",
    "    The generator must return both target and label data\n",
    "    \"\"\"\n",
    "    assert_info = \"batch_size_power is greater than num_val_power\"\n",
    "    assert batch_size_power < num_val_power, assert_info\n",
    "\n",
    "    # number of validation+train dataset and sample data, batch size\n",
    "    num_val = 2**num_val_power\n",
    "    num_tra = 8*num_val\n",
    "    sample_target, sample_label = next(iter(generator))\n",
    "    batch_size = 2**batch_size_power\n",
    "\n",
    "    # shapes for output tensors\n",
    "    train_target_shape = (num_tra, *sample_target.shape)\n",
    "    train_label_shape = (num_tra, *sample_label.shape)\n",
    "    valid_target_shape = (num_val, *sample_target.shape)\n",
    "    valid_label_shape = (num_val, *sample_label.shape)\n",
    "\n",
    "    # preallocate output tensors\n",
    "    target_tra = np.zeros(train_target_shape, dtype=sample_target.dtype)\n",
    "    label_tra = np.zeros(train_label_shape, dtype=sample_label.dtype)\n",
    "    target_val = np.zeros(valid_target_shape, dtype=sample_target.dtype)\n",
    "    label_val = np.zeros(valid_label_shape, dtype=sample_label.dtype)\n",
    "\n",
    "    # target dataset\n",
    "    for index, data in zip(range(num_tra), generator):\n",
    "        target_tra[index], label_tra[index] = data\n",
    "        \n",
    "    # validation dataset\n",
    "    for index, data in zip(range(num_val), generator):\n",
    "        target_val[index], label_val[index] = data\n",
    "\n",
    "    # obtain tf.data.Dataset\n",
    "    train_dataset = tf.data.Dataset.from_tensor_slices((train_images, label_tra))\n",
    "    train_dataset = train_dataset.batch(batch_size)\n",
    "    valid_dataset = tf.data.Dataset.from_tensor_slices((target_val, label_val))\n",
    "    valid_dataset = test_dataset.batch(batch_size)\n",
    "\n",
    "    return train_dataset, valid_dataset"
   ]
  },
  {
   "cell_type": "code",
   "execution_count": 66,
   "id": "0a561ebd-60c4-4afd-b1e4-21965237740f",
   "metadata": {},
   "outputs": [
    {
     "name": "stdout",
     "output_type": "stream",
     "text": [
      "065.5k    0006.8    002.4k    0213.0\n",
      "\n",
      "103.9μ    131.1k    018.3m    0054.5    0019.0    0003.0\n"
     ]
    }
   ],
   "source": [
    "spec = ftnmr.spectrometer(shift_maximum=128.0)\n",
    "\n",
    "mods.print_formatted(spec.nf, spec.nf*spec.df, spec.t[-1], 213)\n",
    "print()\n",
    "mods.print_formatted(spec.df, spec.ns, spec.dt, spec.f_s, spec.p, spec.p_l)"
   ]
  },
  {
   "cell_type": "code",
   "execution_count": null,
   "id": "f3d8ef96-2a24-4ea4-9126-32f9cd994e5f",
   "metadata": {},
   "outputs": [],
   "source": []
  },
  {
   "cell_type": "markdown",
   "id": "0c2ff9fc-4218-4db9-ad84-d87a7eb071be",
   "metadata": {
    "jp-MarkdownHeadingCollapsed": true,
    "tags": []
   },
   "source": [
    "## Testing Model"
   ]
  },
  {
   "cell_type": "code",
   "execution_count": 11,
   "id": "32524175-c53f-46a6-8dc4-d87d037bb2d0",
   "metadata": {},
   "outputs": [
    {
     "name": "stderr",
     "output_type": "stream",
     "text": [
      "2024-01-23 22:37:56.823395: I tensorflow/core/common_runtime/gpu/gpu_device.cc:1613] Created device /job:localhost/replica:0/task:0/device:GPU:0 with 14947 MB memory:  -> device: 0, name: Quadro RTX 5000, pci bus id: 0000:1b:00.0, compute capability: 7.5\n"
     ]
    },
    {
     "data": {
      "text/plain": [
       "TensorShape([128, 1024])"
      ]
     },
     "metadata": {},
     "output_type": "display_data"
    }
   ],
   "source": [
    "data_dir = Path.home() / Path('baseline/data/data.918708/')\n",
    "datasets = ftnmr.load_spec_data(data_dir, batch_size=128, numpy_array=False)\n",
    "data_shape = next(iter(datasets[0]))[0].shape\n",
    "display(data_shape)"
   ]
  },
  {
   "cell_type": "code",
   "execution_count": 12,
   "id": "8f1c9121-6171-44a9-ba6b-4a5fbc33dfc1",
   "metadata": {},
   "outputs": [],
   "source": [
    "dataset_train = datasets[0]\n",
    "dataset_valid = datasets[1]\n",
    "dataset_test = datasets[2]"
   ]
  },
  {
   "cell_type": "markdown",
   "id": "1898857c-f057-4e14-9db5-5cc22022a9f0",
   "metadata": {
    "jp-MarkdownHeadingCollapsed": true
   },
   "source": [
    "### recurrent NN structures in multiple cells"
   ]
  },
  {
   "cell_type": "code",
   "execution_count": 65,
   "id": "9d3fb89b-74a3-4f20-be12-c83515aa9399",
   "metadata": {},
   "outputs": [],
   "source": [
    "# configuration\n",
    "input_length = input_size\n",
    "expand_layer = keras.layers.Lambda(lambda x: tf.expand_dims(x, axis=-1))\n",
    "GRU_unit = 16\n",
    "first_filter_num = 128\n",
    "transpose_layer = keras.layers.Lambda(lambda x: tf.transpose(x, perm=[0, 1, 3, 2]))\n",
    "second_filter_num = 64"
   ]
  },
  {
   "cell_type": "code",
   "execution_count": null,
   "id": "45800155-0655-4e1e-a72c-d083fe2f7892",
   "metadata": {},
   "outputs": [],
   "source": [
    "seq_input = keras.layers.Input(shape=[input_length])\n",
    "seq_input"
   ]
  },
  {
   "cell_type": "code",
   "execution_count": null,
   "id": "33583f94-8382-4900-9785-7e156ccbfede",
   "metadata": {},
   "outputs": [],
   "source": [
    "expand_output = expand_layer(seq_input)\n",
    "expand_output"
   ]
  },
  {
   "cell_type": "code",
   "execution_count": null,
   "id": "9e6d2b29-f85f-406a-9020-56543ce551ca",
   "metadata": {},
   "outputs": [],
   "source": [
    "#skip\n",
    "pool_output = keras.layers.MaxPool1D(pool_size)(expand_output)\n",
    "pool_output"
   ]
  },
  {
   "cell_type": "code",
   "execution_count": null,
   "id": "13ae4588-206d-445f-8e08-2822b478e55b",
   "metadata": {},
   "outputs": [],
   "source": [
    "GRU_output = keras.layers.Bidirectional(\n",
    "    keras.layers.GRU(GRU_unit, return_sequences=True))(expand_output)\n",
    "GRU_output"
   ]
  },
  {
   "cell_type": "code",
   "execution_count": null,
   "id": "ea884c8c-580a-42d5-b294-e026551a0653",
   "metadata": {},
   "outputs": [],
   "source": [
    "expand_output2 = expand_layer(GRU_output)\n",
    "expand_output2"
   ]
  },
  {
   "cell_type": "code",
   "execution_count": null,
   "id": "e56738c5-3fff-4e39-ac21-45f489aaa018",
   "metadata": {},
   "outputs": [],
   "source": [
    "cnn_layer1 = keras.layers.Conv2D(\n",
    "    filters=first_filter_num, \n",
    "    kernel_size=(1, 2*GRU_unit), \n",
    "    activation='elu')\n",
    "cnn_output1 = cnn_layer1(expand_output2)\n",
    "cnn_output1"
   ]
  },
  {
   "cell_type": "code",
   "execution_count": null,
   "id": "53eac180-f5dc-4170-b0b0-f781a4629602",
   "metadata": {},
   "outputs": [],
   "source": [
    "transpose_output = transpose_layer(cnn_output1)\n",
    "transpose_output"
   ]
  },
  {
   "cell_type": "code",
   "execution_count": null,
   "id": "db9b3294-8e83-4e7f-914b-806b3a9bb844",
   "metadata": {},
   "outputs": [],
   "source": [
    "cnn_layer2 = keras.layers.Conv2D(\n",
    "    filters=second_filter_num, \n",
    "    kernel_size=(1, first_filter_num),\n",
    "    activation='selu')\n",
    "cnn2_output = cnn_layer2(transpose_output)\n",
    "cnn2_output"
   ]
  },
  {
   "cell_type": "code",
   "execution_count": null,
   "id": "2fb447e6-99d2-491d-940c-9e263492559e",
   "metadata": {},
   "outputs": [],
   "source": [
    "transpose2_output = transpose_layer(cnn2_output)\n",
    "transpose2_output"
   ]
  },
  {
   "cell_type": "code",
   "execution_count": null,
   "id": "add74df9-b6f8-4e27-a51f-be2af7eb4597",
   "metadata": {},
   "outputs": [],
   "source": [
    "cnn_layer3 = keras.layers.Conv2D(\n",
    "    filters=1, \n",
    "    kernel_size=(1, second_filter_num),\n",
    "    activation='selu')\n",
    "cnn3_output = cnn_layer3(transpose2_output)\n",
    "cnn3_output"
   ]
  },
  {
   "cell_type": "code",
   "execution_count": null,
   "id": "f4f5a391-0fe3-4dbc-a6da-0c9c1dee29aa",
   "metadata": {},
   "outputs": [],
   "source": [
    "#skip\n",
    "upscale_output = keras.layers.UpSampling2D(\n",
    "    size=(pool_size, 1), \n",
    "    interpolation='bicubic')(cnn3_output)\n",
    "upscale_output"
   ]
  },
  {
   "cell_type": "code",
   "execution_count": null,
   "id": "dc049c1c-cfbb-4f52-a318-ba0a0a85f024",
   "metadata": {},
   "outputs": [],
   "source": [
    "flat_output = keras.layers.Flatten()(cnn3_output)\n",
    "flat_output"
   ]
  },
  {
   "cell_type": "code",
   "execution_count": null,
   "id": "1399c744-3ecb-4f2f-bd87-6febfbcf1d3c",
   "metadata": {},
   "outputs": [],
   "source": [
    "model_output = keras.layers.Add()([seq_input, flat_output])\n",
    "model_output"
   ]
  },
  {
   "cell_type": "code",
   "execution_count": 51,
   "id": "7905c0f9-6866-4343-bcad-a607960267ba",
   "metadata": {},
   "outputs": [
    {
     "data": {
      "text/plain": [
       "<KerasTensor: shape=(None, 512, 1) dtype=float32 (created by layer 'lambda_2')>"
      ]
     },
     "execution_count": 51,
     "metadata": {},
     "output_type": "execute_result"
    }
   ],
   "source": [
    "expand_output"
   ]
  },
  {
   "cell_type": "markdown",
   "id": "46ba91b0-f7f9-44ed-8229-073b71556cd5",
   "metadata": {
    "jp-MarkdownHeadingCollapsed": true
   },
   "source": [
    "### continue..."
   ]
  },
  {
   "cell_type": "code",
   "execution_count": 13,
   "id": "52f950f0-0d03-46d5-b404-ab5344f5042a",
   "metadata": {},
   "outputs": [],
   "source": [
    "# configuration\n",
    "input_length = data_shape[1]\n",
    "expand_layer = keras.layers.Lambda(lambda x: tf.expand_dims(x, axis=-1))\n",
    "GRU_unit = 16\n",
    "first_filter_num = 128\n",
    "transpose_layer = keras.layers.Lambda(lambda x: tf.transpose(x, perm=[0, 1, 3, 2]))\n",
    "second_filter_num = 64\n",
    "\n",
    "# same as above execution of cells, but all the cells are merged\n",
    "seq_input = keras.layers.Input(shape=[input_length])\n",
    "\n",
    "expand_output = expand_layer(seq_input)\n",
    "\n",
    "GRU_output = keras.layers.Bidirectional(\n",
    "    keras.layers.GRU(GRU_unit, return_sequences=True))(expand_output)\n",
    "\n",
    "expand_output2 = expand_layer(GRU_output)\n",
    "\n",
    "cnn_layer1 = keras.layers.Conv2D(\n",
    "    filters=first_filter_num, \n",
    "    kernel_size=(1, 2*GRU_unit), \n",
    "    activation='elu') # elu\n",
    "cnn_output1 = cnn_layer1(expand_output2)\n",
    "\n",
    "transpose_output = transpose_layer(cnn_output1)\n",
    "\n",
    "cnn_layer2 = keras.layers.Conv2D(\n",
    "    filters=second_filter_num, \n",
    "    kernel_size=(1, first_filter_num),\n",
    "    activation='selu') # selu\n",
    "cnn2_output = cnn_layer2(transpose_output)\n",
    "\n",
    "transpose2_output = transpose_layer(cnn2_output)\n",
    "\n",
    "cnn_layer3 = keras.layers.Conv2D(\n",
    "    filters=1, \n",
    "    kernel_size=(1, second_filter_num),\n",
    "    activation='LeakyReLU') # selu\n",
    "cnn3_output = cnn_layer3(transpose2_output)\n",
    "\n",
    "flat_output = keras.layers.Flatten()(cnn3_output)\n",
    "\n",
    "model_output = keras.layers.Add()([seq_input, flat_output])"
   ]
  },
  {
   "cell_type": "markdown",
   "id": "d41af005-5e1a-4bf2-bdc2-d22f7bc433e5",
   "metadata": {},
   "source": [
    "### continue..."
   ]
  },
  {
   "cell_type": "code",
   "execution_count": 14,
   "id": "a7c65e83-d10f-4487-9373-5618f504b161",
   "metadata": {},
   "outputs": [],
   "source": [
    "model = keras.Model(inputs=[seq_input], outputs=[model_output])"
   ]
  },
  {
   "cell_type": "code",
   "execution_count": 21,
   "id": "56050bd6-8e13-446e-b3a7-13a092f4e542",
   "metadata": {},
   "outputs": [],
   "source": [
    "early_stopping = tf.keras.callbacks.EarlyStopping(\n",
    "    monitor='val_mse',\n",
    "    patience=10,\n",
    "    min_delta=0,\n",
    "    verbose=1,\n",
    "    mode='auto',\n",
    "    restore_best_weights=True\n",
    ")"
   ]
  },
  {
   "cell_type": "code",
   "execution_count": 22,
   "id": "8d19830d-931f-4a2f-a0a7-2b9722c51817",
   "metadata": {},
   "outputs": [],
   "source": [
    "model.compile(\n",
    "    loss=\"mse\", \n",
    "    optimizer=keras.optimizers.Nadam(learning_rate=0.00005),\n",
    "    metrics=['mse'])"
   ]
  },
  {
   "cell_type": "code",
   "execution_count": 25,
   "id": "55fa7fbd-4d60-4013-9d3a-4981aa8c6563",
   "metadata": {},
   "outputs": [
    {
     "name": "stdout",
     "output_type": "stream",
     "text": [
      "Epoch 1/16\n",
      "1024/1024 [==============================] - 50s 48ms/step - loss: 1.0169e-04 - mse: 1.0169e-04 - val_loss: 9.9993e-05 - val_mse: 9.9993e-05\n",
      "Epoch 2/16\n",
      "1024/1024 [==============================] - 50s 48ms/step - loss: 1.0015e-04 - mse: 1.0015e-04 - val_loss: 9.8769e-05 - val_mse: 9.8769e-05\n",
      "Epoch 3/16\n",
      "1024/1024 [==============================] - 50s 48ms/step - loss: 9.8883e-05 - mse: 9.8883e-05 - val_loss: 9.7336e-05 - val_mse: 9.7336e-05\n",
      "Epoch 4/16\n",
      "1024/1024 [==============================] - 50s 49ms/step - loss: 9.7533e-05 - mse: 9.7533e-05 - val_loss: 9.6184e-05 - val_mse: 9.6184e-05\n",
      "Epoch 5/16\n",
      "1024/1024 [==============================] - 50s 49ms/step - loss: 9.6246e-05 - mse: 9.6246e-05 - val_loss: 9.5603e-05 - val_mse: 9.5603e-05\n",
      "Epoch 6/16\n",
      "1024/1024 [==============================] - 50s 48ms/step - loss: 9.5035e-05 - mse: 9.5035e-05 - val_loss: 9.5159e-05 - val_mse: 9.5159e-05\n",
      "Epoch 7/16\n",
      "1024/1024 [==============================] - 50s 48ms/step - loss: 9.3870e-05 - mse: 9.3870e-05 - val_loss: 9.3069e-05 - val_mse: 9.3069e-05\n",
      "Epoch 8/16\n",
      "1024/1024 [==============================] - 50s 48ms/step - loss: 9.2759e-05 - mse: 9.2759e-05 - val_loss: 9.3984e-05 - val_mse: 9.3984e-05\n",
      "Epoch 9/16\n",
      "1024/1024 [==============================] - 50s 48ms/step - loss: 9.1645e-05 - mse: 9.1645e-05 - val_loss: 9.0806e-05 - val_mse: 9.0806e-05\n",
      "Epoch 10/16\n",
      "1024/1024 [==============================] - 50s 48ms/step - loss: 9.0675e-05 - mse: 9.0675e-05 - val_loss: 8.9250e-05 - val_mse: 8.9250e-05\n",
      "Epoch 11/16\n",
      "1024/1024 [==============================] - 50s 48ms/step - loss: 8.9636e-05 - mse: 8.9636e-05 - val_loss: 9.1213e-05 - val_mse: 9.1213e-05\n",
      "Epoch 12/16\n",
      "1024/1024 [==============================] - 50s 49ms/step - loss: 8.8722e-05 - mse: 8.8722e-05 - val_loss: 8.8420e-05 - val_mse: 8.8420e-05\n",
      "Epoch 13/16\n",
      "1024/1024 [==============================] - 50s 48ms/step - loss: 8.7782e-05 - mse: 8.7782e-05 - val_loss: 8.7444e-05 - val_mse: 8.7444e-05\n",
      "Epoch 14/16\n",
      "1024/1024 [==============================] - 50s 49ms/step - loss: 8.6815e-05 - mse: 8.6815e-05 - val_loss: 8.5537e-05 - val_mse: 8.5537e-05\n",
      "Epoch 15/16\n",
      "1024/1024 [==============================] - 50s 48ms/step - loss: 8.6104e-05 - mse: 8.6104e-05 - val_loss: 8.4933e-05 - val_mse: 8.4933e-05\n",
      "Epoch 16/16\n",
      "1024/1024 [==============================] - 50s 49ms/step - loss: 8.5158e-05 - mse: 8.5158e-05 - val_loss: 8.7817e-05 - val_mse: 8.7817e-05\n"
     ]
    }
   ],
   "source": [
    "history = model.fit(\n",
    "    dataset_train,\n",
    "    validation_data=dataset_valid,\n",
    "    epochs=16,\n",
    "    callbacks=[early_stopping])"
   ]
  },
  {
   "cell_type": "code",
   "execution_count": 26,
   "id": "4ca32477-b308-434f-ab78-e630bf51d820",
   "metadata": {
    "scrolled": true
   },
   "outputs": [
    {
     "name": "stdout",
     "output_type": "stream",
     "text": [
      "Model: \"model\"\n",
      "__________________________________________________________________________________________________\n",
      " Layer (type)                   Output Shape         Param #     Connected to                     \n",
      "==================================================================================================\n",
      " input_1 (InputLayer)           [(None, 1024)]       0           []                               \n",
      "                                                                                                  \n",
      " lambda (Lambda)                multiple             0           ['input_1[0][0]',                \n",
      "                                                                  'bidirectional[0][0]']          \n",
      "                                                                                                  \n",
      " bidirectional (Bidirectional)  (None, 1024, 32)     1824        ['lambda[0][0]']                 \n",
      "                                                                                                  \n",
      " conv2d (Conv2D)                (None, 1024, 1, 128  4224        ['lambda[1][0]']                 \n",
      "                                )                                                                 \n",
      "                                                                                                  \n",
      " lambda_1 (Lambda)              multiple             0           ['conv2d[0][0]',                 \n",
      "                                                                  'conv2d_1[0][0]']               \n",
      "                                                                                                  \n",
      " conv2d_1 (Conv2D)              (None, 1024, 1, 64)  8256        ['lambda_1[0][0]']               \n",
      "                                                                                                  \n",
      " conv2d_2 (Conv2D)              (None, 1024, 1, 1)   65          ['lambda_1[1][0]']               \n",
      "                                                                                                  \n",
      " flatten (Flatten)              (None, 1024)         0           ['conv2d_2[0][0]']               \n",
      "                                                                                                  \n",
      " add (Add)                      (None, 1024)         0           ['input_1[0][0]',                \n",
      "                                                                  'flatten[0][0]']                \n",
      "                                                                                                  \n",
      "==================================================================================================\n",
      "Total params: 14,369\n",
      "Trainable params: 14,369\n",
      "Non-trainable params: 0\n",
      "__________________________________________________________________________________________________\n"
     ]
    }
   ],
   "source": [
    "model.summary()"
   ]
  },
  {
   "cell_type": "code",
   "execution_count": 27,
   "id": "80ff6b6d-7e02-430e-8cf5-9a43bf040731",
   "metadata": {},
   "outputs": [],
   "source": [
    "X_test = next(iter(dataset_test))[0].numpy()\n",
    "y_test = next(iter(dataset_test))[1].numpy()"
   ]
  },
  {
   "cell_type": "code",
   "execution_count": 59,
   "id": "25506fc8-e61f-4e55-a053-3a787f9590bd",
   "metadata": {
    "scrolled": true
   },
   "outputs": [
    {
     "name": "stdout",
     "output_type": "stream",
     "text": [
      "4/4 [==============================] - 0s 14ms/step\n"
     ]
    }
   ],
   "source": [
    "y_pred = model.predict(X_test)"
   ]
  },
  {
   "cell_type": "code",
   "execution_count": 29,
   "id": "c11471ce-9654-457f-a55d-7f6b7a60de30",
   "metadata": {},
   "outputs": [],
   "source": [
    "spec = ftnmr.spectrometer(shift_maximum=128.0)\n",
    "input_size = 2**10\n",
    "rescale_ratio = int(spec.nf/input_size)\n",
    "rescaled_shift = spec.shift[::rescale_ratio]"
   ]
  },
  {
   "cell_type": "code",
   "execution_count": 71,
   "id": "7f3385d6-ad25-4ebf-9848-5727549e35e0",
   "metadata": {},
   "outputs": [
    {
     "name": "stdout",
     "output_type": "stream",
     "text": [
      "58\n"
     ]
    }
   ],
   "source": [
    "ind = np.random.choice(range(len(y_pred)))\n",
    "x_t = X_test[ind]\n",
    "y_true = y_test[ind]\n",
    "y_p = y_pred[ind]\n",
    "print(ind)"
   ]
  },
  {
   "cell_type": "code",
   "execution_count": 72,
   "id": "d565b60c-109a-4ec9-b0a2-04b2c8c826d5",
   "metadata": {},
   "outputs": [
    {
     "data": {
      "image/png": "[encoded data removed]",
      "text/plain": [
       "<Figure size 640x480 with 1 Axes>"
      ]
     },
     "metadata": {},
     "output_type": "display_data"
    }
   ],
   "source": [
    "# TRUE plot\n",
    "plt.plot(rescaled_shift, y_true, label='ACTUAL', color='red')\n",
    "\n",
    "# PREDICTED plot\n",
    "plt.plot(rescaled_shift, y_p, label='PREDICTED', color='blue', alpha=0.75)\n",
    "\n",
    "# MEASURED plot\n",
    "plt.plot(rescaled_shift, x_t, label='MEASURED', color='yellow', alpha=0.75)\n",
    "\n",
    "# Set the labels and title\n",
    "plt.xlabel('chemical shift range')\n",
    "plt.ylabel('abundance')\n",
    "plt.title('true and predicted signal')\n",
    "plt.grid(True)\n",
    "\n",
    "# Add a legend\n",
    "plt.legend()\n",
    "\n",
    "# Show the plot\n",
    "plt.show()"
   ]
  },
  {
   "cell_type": "code",
   "execution_count": 41,
   "id": "51f9f601-3448-4bba-86cb-85baa2e302df",
   "metadata": {},
   "outputs": [],
   "source": [
    "model.save('prototype.jan.23.2024.hdf5')"
   ]
  },
  {
   "cell_type": "markdown",
   "id": "a103f26d-4645-4693-b313-b6f0a65dd3a8",
   "metadata": {
    "jp-MarkdownHeadingCollapsed": true
   },
   "source": [
    "## loading baseline model"
   ]
  },
  {
   "cell_type": "code",
   "execution_count": 15,
   "id": "36000879-a577-4f33-97b6-f165ce683f28",
   "metadata": {},
   "outputs": [],
   "source": [
    "loaded_model_baseline = keras.models.load_model(\n",
    "    'model_baseline.jan.23.2024.hdf5', \n",
    "    compile=False)"
   ]
  },
  {
   "cell_type": "code",
   "execution_count": 16,
   "id": "30d15577-7b7a-45ce-bf73-c19045c6cf7c",
   "metadata": {},
   "outputs": [
    {
     "data": {
      "text/plain": [
       "TensorShape([128, 1024])"
      ]
     },
     "metadata": {},
     "output_type": "display_data"
    }
   ],
   "source": [
    "data_dir = Path.home() / Path('NMR.data/data.918708/')\n",
    "datasets = ftnmr.load_spec_data(data_dir, batch_size=128, numpy_array=False)\n",
    "data_shape = next(iter(datasets[0]))[0].shape\n",
    "display(data_shape)\n",
    "\n",
    "dataset_train = datasets[0]\n",
    "dataset_valid = datasets[1]\n",
    "dataset_test = datasets[2]\n",
    "\n",
    "X_test = next(iter(dataset_test))[0].numpy()\n",
    "y_test = next(iter(dataset_test))[1].numpy()"
   ]
  },
  {
   "cell_type": "code",
   "execution_count": 18,
   "id": "6fb70bad-5bd0-4009-96be-d61a2616ea73",
   "metadata": {
    "scrolled": true
   },
   "outputs": [
    {
     "name": "stdout",
     "output_type": "stream",
     "text": [
      "4/4 [==============================] - 0s 17ms/step\n"
     ]
    }
   ],
   "source": [
    "y_pred = loaded_model_baseline.predict(X_test)\n",
    "range_path = Path.home() / Path('NMR.data/chemical_shift.918708.hdf5')\n",
    "with h5py.File(range_path, 'r') as f:\n",
    "    chemical_shift = f['shift'][:]"
   ]
  },
  {
   "cell_type": "code",
   "execution_count": 51,
   "id": "f2a8a253-0c3f-4470-9130-0e427f86a1a6",
   "metadata": {},
   "outputs": [
    {
     "name": "stdout",
     "output_type": "stream",
     "text": [
      "64\n"
     ]
    },
    {
     "data": {
      "application/vnd.jupyter.widget-view+json": {
       "model_id": "cde7a1e34fb14b61acccf119a191da30",
       "version_major": 2,
       "version_minor": 0
      },
      "text/plain": [
       "HBox(children=(FloatSlider(value=1.0, description='x scale', max=1.0, min=0.01, step=0.01), FloatSlider(value=…"
      ]
     },
     "metadata": {},
     "output_type": "display_data"
    },
    {
     "data": {
      "application/vnd.jupyter.widget-view+json": {
       "model_id": "4295fd9dff1d4d63ae99d9be27fb8137",
       "version_major": 2,
       "version_minor": 0
      },
      "text/plain": [
       "HBox(children=(FloatSlider(value=0.0, description='x pos', max=1.0, min=-1.0, step=0.02), FloatSlider(value=0.…"
      ]
     },
     "metadata": {},
     "output_type": "display_data"
    },
    {
     "data": {
      "application/vnd.jupyter.widget-view+json": {
       "model_id": "1bb234c2326b416bb89007a4a4d5e42e",
       "version_major": 2,
       "version_minor": 0
      },
      "text/plain": [
       "Output()"
      ]
     },
     "metadata": {},
     "output_type": "display_data"
    },
    {
     "data": {
      "application/vnd.jupyter.widget-view+json": {
       "model_id": "ddef6a2edc2740969eb8cd65423da68d",
       "version_major": 2,
       "version_minor": 0
      },
      "text/plain": [
       "HBox(children=(Checkbox(value=True, description='grid', indent=False, layout=Layout(height='50px', width='100p…"
      ]
     },
     "metadata": {},
     "output_type": "display_data"
    }
   ],
   "source": [
    "ind = np.random.choice(range(len(y_pred)))\n",
    "x_t = X_test[ind]\n",
    "y_true = y_test[ind]\n",
    "y_p = y_pred[ind]\n",
    "print(ind)\n",
    "\n",
    "Y = [x_t, y_true, y_p]\n",
    "Y_names = ['MEASURE', 'ACTUAL', 'PREDICTED'] \n",
    "mods.interactive_graph(chemical_shift, Y, Y_names=Y_names)"
   ]
  },
  {
   "cell_type": "code",
   "execution_count": 79,
   "id": "6f4d033e-e910-4c9e-a8d3-57d5d132b32b",
   "metadata": {},
   "outputs": [
    {
     "data": {
      "application/vnd.jupyter.widget-view+json": {
       "model_id": "b14bdb6c2840419ca595e6ebc101080d",
       "version_major": 2,
       "version_minor": 0
      },
      "text/plain": [
       "HBox(children=(FloatSlider(value=1.0, description='x scale', max=1.0, min=0.01, step=0.01), FloatSlider(value=…"
      ]
     },
     "metadata": {},
     "output_type": "display_data"
    },
    {
     "data": {
      "application/vnd.jupyter.widget-view+json": {
       "model_id": "218bc394560d491790e1c6acf00353e8",
       "version_major": 2,
       "version_minor": 0
      },
      "text/plain": [
       "HBox(children=(FloatSlider(value=0.0, description='x pos', max=1.0, min=-1.0, step=0.02), FloatSlider(value=0.…"
      ]
     },
     "metadata": {},
     "output_type": "display_data"
    },
    {
     "data": {
      "application/vnd.jupyter.widget-view+json": {
       "model_id": "963ad797862e4468a6373fa95639deba",
       "version_major": 2,
       "version_minor": 0
      },
      "text/plain": [
       "Output()"
      ]
     },
     "metadata": {},
     "output_type": "display_data"
    },
    {
     "data": {
      "application/vnd.jupyter.widget-view+json": {
       "model_id": "47d92a41d47143c69bd6dee3ff38a38c",
       "version_major": 2,
       "version_minor": 0
      },
      "text/plain": [
       "HBox(children=(Checkbox(value=True, description='grid', indent=False, layout=Layout(height='50px', width='100p…"
      ]
     },
     "metadata": {},
     "output_type": "display_data"
    }
   ],
   "source": [
    "x = np.linspace(0, 2*np.pi, 101) # x domain\n",
    "RD = np.random.random # numpy random generator fn\n",
    "N = 4 # number of plots\n",
    "Y = [RD()*np.sin(4*RD()*x + 2*np.pi*RD()) for _ in range(N)] # N graphs\n",
    "Y_names = ['first', 'second', 'third', 'forth'] # names for each y graph\n",
    "mods.interactive_graph(x, Y, Y_names=Y_names)"
   ]
  },
  {
   "cell_type": "markdown",
   "id": "06576caa-492d-45f7-939d-ddb76c41ccd9",
   "metadata": {},
   "source": [
    "## phase shift model"
   ]
  },
  {
   "cell_type": "code",
   "execution_count": 81,
   "id": "703c2be5-48b9-4a5d-8152-794f17f9e5f5",
   "metadata": {},
   "outputs": [
    {
     "data": {
      "text/plain": [
       "TensorShape([128, 1024])"
      ]
     },
     "metadata": {},
     "output_type": "display_data"
    }
   ],
   "source": [
    "phase_data_dir = Path.home() / Path('NMR.data/data.918707/')\n",
    "phase_datasets = ftnmr.load_spec_data(\n",
    "    phase_data_dir, \n",
    "    batch_size=128, \n",
    "    numpy_array=False)\n",
    "data_shape = next(iter(phase_datasets[0]))[0].shape\n",
    "display(data_shape)"
   ]
  },
  {
   "cell_type": "code",
   "execution_count": 82,
   "id": "f1f310fa-72a2-472f-9224-a083f870bc1f",
   "metadata": {},
   "outputs": [],
   "source": [
    "dataset_train = phase_datasets[0]\n",
    "dataset_valid = phase_datasets[1]\n",
    "dataset_test = phase_datasets[2]"
   ]
  },
  {
   "cell_type": "code",
   "execution_count": 102,
   "id": "960cabb4-e153-4b0c-ad32-57331d04b170",
   "metadata": {},
   "outputs": [],
   "source": [
    "input_length = data_shape[1]\n",
    "GRU_unit = 16\n",
    "first_filter_num = 128\n",
    "second_filter_num = 64"
   ]
  },
  {
   "cell_type": "code",
   "execution_count": 104,
   "id": "99ef4755-621d-42a2-a84f-81dd77eef384",
   "metadata": {},
   "outputs": [],
   "source": [
    "model_phase = NN_models.model_NMR(\n",
    "    input_length, \n",
    "    GRU_unit, \n",
    "    first_filter_num, \n",
    "    second_filter_num)"
   ]
  },
  {
   "cell_type": "code",
   "execution_count": 105,
   "id": "f6bad224-11cb-4f63-bcf8-a6fa017a4fd2",
   "metadata": {},
   "outputs": [],
   "source": [
    "early_stopping = tf.keras.callbacks.EarlyStopping(\n",
    "    monitor='val_mse',\n",
    "    patience=10,\n",
    "    min_delta=0,\n",
    "    verbose=1,\n",
    "    mode='auto',\n",
    "    restore_best_weights=True\n",
    ")"
   ]
  },
  {
   "cell_type": "code",
   "execution_count": 106,
   "id": "af01326e-59f2-4a6c-9c4b-b21f34b43ede",
   "metadata": {},
   "outputs": [],
   "source": [
    "model_phase.compile(\n",
    "    loss=\"mse\", \n",
    "    optimizer=keras.optimizers.Nadam(learning_rate=0.005),\n",
    "    metrics=['mse'])"
   ]
  },
  {
   "cell_type": "code",
   "execution_count": 107,
   "id": "671e9ade-8e0d-40e2-acf3-f2d3c38d9e51",
   "metadata": {},
   "outputs": [
    {
     "name": "stdout",
     "output_type": "stream",
     "text": [
      "Epoch 1/16\n",
      "1024/1024 [==============================] - 64s 56ms/step - loss: 0.0023 - mse: 0.0023 - val_loss: 0.0014 - val_mse: 0.0014\n",
      "Epoch 2/16\n",
      "1024/1024 [==============================] - 58s 56ms/step - loss: 0.0011 - mse: 0.0011 - val_loss: 8.8941e-04 - val_mse: 8.8941e-04\n",
      "Epoch 3/16\n",
      "1024/1024 [==============================] - 59s 57ms/step - loss: 0.0010 - mse: 0.0010 - val_loss: 8.5669e-04 - val_mse: 8.5669e-04\n",
      "Epoch 4/16\n",
      "1024/1024 [==============================] - 56s 55ms/step - loss: 8.3056e-04 - mse: 8.3056e-04 - val_loss: 7.8516e-04 - val_mse: 7.8516e-04\n",
      "Epoch 5/16\n",
      "1024/1024 [==============================] - 59s 58ms/step - loss: 7.8545e-04 - mse: 7.8545e-04 - val_loss: 7.3079e-04 - val_mse: 7.3079e-04\n",
      "Epoch 6/16\n",
      "1024/1024 [==============================] - 56s 55ms/step - loss: 7.4980e-04 - mse: 7.4980e-04 - val_loss: 8.1481e-04 - val_mse: 8.1481e-04\n",
      "Epoch 7/16\n",
      "1024/1024 [==============================] - 57s 56ms/step - loss: 7.1836e-04 - mse: 7.1836e-04 - val_loss: 6.7774e-04 - val_mse: 6.7774e-04\n",
      "Epoch 8/16\n",
      "1024/1024 [==============================] - 56s 55ms/step - loss: 0.0027 - mse: 0.0027 - val_loss: 0.0016 - val_mse: 0.0016\n",
      "Epoch 9/16\n",
      "1024/1024 [==============================] - 59s 57ms/step - loss: 0.0014 - mse: 0.0014 - val_loss: 0.0012 - val_mse: 0.0012\n",
      "Epoch 10/16\n",
      "1024/1024 [==============================] - 56s 54ms/step - loss: 9.7197e-04 - mse: 9.7197e-04 - val_loss: 8.4138e-04 - val_mse: 8.4138e-04\n",
      "Epoch 11/16\n",
      "1024/1024 [==============================] - 58s 57ms/step - loss: 8.1349e-04 - mse: 8.1349e-04 - val_loss: 7.6339e-04 - val_mse: 7.6339e-04\n",
      "Epoch 12/16\n",
      "1024/1024 [==============================] - 57s 56ms/step - loss: 7.5470e-04 - mse: 7.5470e-04 - val_loss: 7.0756e-04 - val_mse: 7.0756e-04\n",
      "Epoch 13/16\n",
      "1024/1024 [==============================] - 56s 55ms/step - loss: 7.1667e-04 - mse: 7.1667e-04 - val_loss: 7.0609e-04 - val_mse: 7.0609e-04\n",
      "Epoch 14/16\n",
      "1024/1024 [==============================] - 58s 57ms/step - loss: 6.9084e-04 - mse: 6.9084e-04 - val_loss: 6.4776e-04 - val_mse: 6.4776e-04\n",
      "Epoch 15/16\n",
      "1024/1024 [==============================] - 56s 54ms/step - loss: 6.7061e-04 - mse: 6.7061e-04 - val_loss: 6.5101e-04 - val_mse: 6.5101e-04\n",
      "Epoch 16/16\n",
      "1024/1024 [==============================] - 58s 56ms/step - loss: 6.5500e-04 - mse: 6.5500e-04 - val_loss: 6.2924e-04 - val_mse: 6.2924e-04\n"
     ]
    }
   ],
   "source": [
    "history = model_phase.fit(\n",
    "    dataset_train,\n",
    "    validation_data=dataset_valid,\n",
    "    epochs=16,\n",
    "    callbacks=[early_stopping])"
   ]
  },
  {
   "cell_type": "code",
   "execution_count": 108,
   "id": "5995f2f5-5933-425d-9710-dbc41c6bc706",
   "metadata": {},
   "outputs": [],
   "source": [
    "model_phase.save('model_phase.feb.05.2024.hdf5')"
   ]
  },
  {
   "cell_type": "code",
   "execution_count": 109,
   "id": "7b60d3a2-c09d-45a6-b6a2-01386ad9f08d",
   "metadata": {},
   "outputs": [],
   "source": [
    "X_test = next(iter(dataset_test))[0].numpy()\n",
    "y_test = next(iter(dataset_test))[1].numpy()"
   ]
  },
  {
   "cell_type": "code",
   "execution_count": 110,
   "id": "c023e55a-92a4-46a5-96e0-4247a2392cf4",
   "metadata": {
    "scrolled": true
   },
   "outputs": [
    {
     "name": "stdout",
     "output_type": "stream",
     "text": [
      "4/4 [==============================] - 1s 19ms/step\n"
     ]
    }
   ],
   "source": [
    "y_pred = model_phase.predict(X_test)"
   ]
  },
  {
   "cell_type": "code",
   "execution_count": 159,
   "id": "a59fded3-fbe4-44d4-955d-b032acfe9ebc",
   "metadata": {},
   "outputs": [
    {
     "name": "stdout",
     "output_type": "stream",
     "text": [
      "42\n"
     ]
    }
   ],
   "source": [
    "ind = np.random.choice(range(len(y_pred)))\n",
    "x_t = X_test[ind]\n",
    "y_true = y_test[ind]\n",
    "y_p = y_pred[ind]\n",
    "print(ind)"
   ]
  },
  {
   "cell_type": "code",
   "execution_count": 125,
   "id": "a4d66c64-596b-4cc7-bb77-00478ec58dfd",
   "metadata": {},
   "outputs": [
    {
     "name": "stdout",
     "output_type": "stream",
     "text": [
      "30\n"
     ]
    },
    {
     "data": {
      "application/vnd.jupyter.widget-view+json": {
       "model_id": "cf2a94d15ea545c794a613742534cdf2",
       "version_major": 2,
       "version_minor": 0
      },
      "text/plain": [
       "HBox(children=(FloatSlider(value=1.0, description='x scale', max=1.0, min=0.01, step=0.01), FloatSlider(value=…"
      ]
     },
     "metadata": {},
     "output_type": "display_data"
    },
    {
     "data": {
      "application/vnd.jupyter.widget-view+json": {
       "model_id": "229fb184cd764cebbcffc838f15d4c89",
       "version_major": 2,
       "version_minor": 0
      },
      "text/plain": [
       "HBox(children=(FloatSlider(value=0.0, description='x pos', max=1.0, min=-1.0, step=0.02), FloatSlider(value=0.…"
      ]
     },
     "metadata": {},
     "output_type": "display_data"
    },
    {
     "data": {
      "application/vnd.jupyter.widget-view+json": {
       "model_id": "ca06f585e620406f85e771d2c34347c4",
       "version_major": 2,
       "version_minor": 0
      },
      "text/plain": [
       "Output()"
      ]
     },
     "metadata": {},
     "output_type": "display_data"
    },
    {
     "data": {
      "application/vnd.jupyter.widget-view+json": {
       "model_id": "ddb1ef570ea2473381c00e144276c197",
       "version_major": 2,
       "version_minor": 0
      },
      "text/plain": [
       "HBox(children=(Checkbox(value=True, description='grid', indent=False, layout=Layout(height='50px', width='100p…"
      ]
     },
     "metadata": {},
     "output_type": "display_data"
    }
   ],
   "source": [
    "ind = np.random.choice(range(len(y_pred)))\n",
    "x_t = X_test[ind]\n",
    "y_true = y_test[ind]\n",
    "y_p = y_pred[ind]\n",
    "print(ind)\n",
    "\n",
    "Y = [x_t, y_true, y_p]\n",
    "Y_names = ['MEASURE', 'ACTUAL', 'PREDICTED'] \n",
    "mods.interactive_graph(chemical_shift, Y, Y_names=Y_names)"
   ]
  },
  {
   "cell_type": "code",
   "execution_count": null,
   "id": "89987833-9bd1-4958-9bb4-122a16c258d0",
   "metadata": {},
   "outputs": [],
   "source": []
  }
 ],
 "metadata": {
  "kernelspec": {
   "display_name": "Python 3 (ipykernel)",
   "language": "python",
   "name": "python3"
  },
  "language_info": {
   "codemirror_mode": {
    "name": "ipython",
    "version": 3
   },
   "file_extension": ".py",
   "mimetype": "text/x-python",
   "name": "python",
   "nbconvert_exporter": "python",
   "pygments_lexer": "ipython3",
   "version": "3.10.12"
  }
 },
 "nbformat": 4,
 "nbformat_minor": 5
}
