{
 "cells": [
  {
   "cell_type": "markdown",
   "id": "d60e768f-e826-429c-976d-3fbb93865c1b",
   "metadata": {
    "jp-MarkdownHeadingCollapsed": true,
    "tags": []
   },
   "source": [
    "## initial configuration"
   ]
  },
  {
   "cell_type": "code",
   "execution_count": 1,
   "id": "9e876ad7-4aee-471a-a033-491035f3b92e",
   "metadata": {},
   "outputs": [],
   "source": [
    "import sys\n",
    "from pathlib import Path\n",
    "from importlib import reload"
   ]
  },
  {
   "cell_type": "code",
   "execution_count": 2,
   "id": "2cfb2951-fc40-425e-8a9b-b3d5e8c01fe1",
   "metadata": {},
   "outputs": [],
   "source": [
    "project_path = str(Path.home()/'gd'/'projects')\n",
    "\n",
    "sys.path.insert(0, project_path + '/ftnmr/scripts')\n",
    "sys.path.insert(0, project_path + '/projnmr/scripts')\n",
    "sys.path.insert(0, project_path + '/handson/scripts/part2')\n",
    "sys.path.insert(0, project_path + '/mods/scripts')"
   ]
  },
  {
   "cell_type": "code",
   "execution_count": 3,
   "id": "edcee921-6af7-4b79-b9ee-71ce1676e1fe",
   "metadata": {},
   "outputs": [],
   "source": [
    "import ftnmr\n",
    "import projnmr\n",
    "import handson\n",
    "import mods\n",
    "from projnmr import metaboliteGenerator as mg\n",
    "from string import ascii_letters as al"
   ]
  },
  {
   "cell_type": "code",
   "execution_count": 4,
   "id": "c1131cc7-2c85-4887-bc41-3a27cc5aca95",
   "metadata": {},
   "outputs": [],
   "source": [
    "import os\n",
    "# for error \"not creating xla devices tf_xla_enable_xla_devices not set\"\n",
    "os.environ['TF_XLA_FLAGS'] = '--tf_xla_enable_xla_devices'\n",
    "#TF_XLA_FLAGS is an environment variable used by TensorFlow's XLA \n",
    "#compiler to control its behavior. In this case, setting TF_XLA_FLAGS to \n",
    "#--tf_xla_enable_xla_devices enables the XLA compiler to use all available XLA devices, \n",
    "#such as GPUs or TPUs, for faster execution of TensorFlow computations.\n",
    "\n",
    "# for error \"Successfully opened dynamic library libcudart.so.10.1\"\n",
    "os.environ['TF_CPP_MIN_LOG_LEVEL'] = '2'"
   ]
  },
  {
   "cell_type": "code",
   "execution_count": 5,
   "id": "811d66ff-27dc-409b-b241-2943739396af",
   "metadata": {
    "scrolled": true
   },
   "outputs": [],
   "source": [
    "import inspect\n",
    "import random\n",
    "import psutil\n",
    "import gc\n",
    "\n",
    "from functools import partial\n",
    "\n",
    "import numpy as np\n",
    "import matplotlib.pyplot as plt\n",
    "import pandas as pd\n",
    "import h5py\n",
    "\n",
    "import tensorflow as tf\n",
    "from tensorflow import keras"
   ]
  },
  {
   "cell_type": "code",
   "execution_count": 6,
   "id": "ec33189b-a8ac-480a-88b8-db055dd1ef62",
   "metadata": {},
   "outputs": [
    {
     "data": {
      "text/plain": [
       "'2.11.1'"
      ]
     },
     "execution_count": 6,
     "metadata": {},
     "output_type": "execute_result"
    }
   ],
   "source": [
    "# similar to os.environ['TF_XLA_FLAGS'], but preferred way to enable XLA\n",
    "tf.config.optimizer.set_jit(True) \n",
    "\n",
    "tf.__version__ # TF version"
   ]
  },
  {
   "cell_type": "code",
   "execution_count": 7,
   "id": "2876b85d-bd5a-4ac6-bead-eef5f1a781ca",
   "metadata": {},
   "outputs": [
    {
     "name": "stdout",
     "output_type": "stream",
     "text": [
      "/physical_device:CPU:0\n",
      "/physical_device:XLA_CPU:0\n",
      "/physical_device:GPU:0\n",
      "/physical_device:XLA_GPU:0\n"
     ]
    }
   ],
   "source": [
    "devices = tf.config.get_visible_devices()\n",
    "for dev in devices:\n",
    "    print(dev.name)"
   ]
  },
  {
   "cell_type": "code",
   "execution_count": 8,
   "id": "a1b1d3c0-11fa-4b65-a93c-c017397e26d5",
   "metadata": {},
   "outputs": [
    {
     "data": {
      "text/plain": [
       "True"
      ]
     },
     "execution_count": 8,
     "metadata": {},
     "output_type": "execute_result"
    }
   ],
   "source": [
    "tf.test.is_built_with_cuda()"
   ]
  },
  {
   "cell_type": "code",
   "execution_count": 9,
   "id": "444c8ab6-8efa-4928-91bf-1547225d9933",
   "metadata": {},
   "outputs": [
    {
     "name": "stdout",
     "output_type": "stream",
     "text": [
      "GPU 0: Total memory: 16384.0 MB\n",
      "       Free memory: 16113.4375 MB\n"
     ]
    }
   ],
   "source": [
    "import pynvml\n",
    "pynvml.nvmlInit()\n",
    "\n",
    "gpus = pynvml.nvmlDeviceGetCount()\n",
    "for i in range(gpus):\n",
    "    handle = pynvml.nvmlDeviceGetHandleByIndex(i)\n",
    "    info = pynvml.nvmlDeviceGetMemoryInfo(handle)\n",
    "    print(f\"GPU {i}: Total memory: {info.total / (1024**2)} MB\")\n",
    "    print(f\"       Free memory: {info.free / (1024**2)} MB\")\n",
    "\n",
    "pynvml.nvmlShutdown()"
   ]
  },
  {
   "cell_type": "code",
   "execution_count": 10,
   "id": "dbe0251d-f01f-4d4e-9fb6-4e67ff4b6246",
   "metadata": {},
   "outputs": [
    {
     "name": "stdout",
     "output_type": "stream",
     "text": [
      "Jupyter Lab memory usage: 109.6484375MB\n"
     ]
    }
   ],
   "source": [
    "# Get the Jupyter Lab process ID\n",
    "jupyter_pid = !pgrep jupyter-lab\n",
    "jupyter_pid = int(jupyter_pid[0])\n",
    "\n",
    "# get memory usage of jupyter lab\n",
    "process = psutil.Process(jupyter_pid)\n",
    "memory_info = process.memory_info()\n",
    "print(f\"Jupyter Lab memory usage: {memory_info.rss/(1024**2)}MB\")"
   ]
  },
  {
   "cell_type": "code",
   "execution_count": null,
   "id": "cb57e586-dfe6-46f8-ab04-224bb6cf988a",
   "metadata": {},
   "outputs": [],
   "source": []
  },
  {
   "cell_type": "markdown",
   "id": "374b967c-4cc2-4d51-b755-0ce070fe1181",
   "metadata": {
    "tags": []
   },
   "source": [
    "## creating dataset (VRAM is not taken up for this)"
   ]
  },
  {
   "cell_type": "code",
   "execution_count": 14,
   "id": "515cf9c6-f804-4403-b1b1-bf58bbaa9424",
   "metadata": {},
   "outputs": [
    {
     "data": {
      "text/plain": [
       "<generator object Path.glob at 0x154d254adc40>"
      ]
     },
     "execution_count": 14,
     "metadata": {},
     "output_type": "execute_result"
    }
   ],
   "source": [
    "Path.home().glob('baseline/data.16MB/data*/*.hdf5')"
   ]
  },
  {
   "cell_type": "code",
   "execution_count": 17,
   "id": "5f70c4d2-19c0-4809-b265-e943a6363ca3",
   "metadata": {
    "tags": []
   },
   "outputs": [
    {
     "data": {
      "text/plain": [
       "['/home/sejinnam/baseline/data/data.16MB/baseline08.hdf5',\n",
       " '/home/sejinnam/baseline/data/data.16MB/baseline04.hdf5',\n",
       " '/home/sejinnam/baseline/data/data.16MB/baseline15.hdf5',\n",
       " '/home/sejinnam/baseline/data/data.16MB/baseline05.hdf5',\n",
       " '/home/sejinnam/baseline/data/data.16MB/baseline02.hdf5',\n",
       " '/home/sejinnam/baseline/data/data.16MB/baseline03.hdf5',\n",
       " '/home/sejinnam/baseline/data/data.16MB/baseline14.hdf5',\n",
       " '/home/sejinnam/baseline/data/data.16MB/baseline12.hdf5',\n",
       " '/home/sejinnam/baseline/data/data.16MB/baseline00.hdf5',\n",
       " '/home/sejinnam/baseline/data/data.16MB/baseline06.hdf5',\n",
       " '/home/sejinnam/baseline/data/data.16MB/baseline13.hdf5',\n",
       " '/home/sejinnam/baseline/data/data.16MB/baseline07.hdf5',\n",
       " '/home/sejinnam/baseline/data/data.16MB/baseline10.hdf5',\n",
       " '/home/sejinnam/baseline/data/data.16MB/baseline11.hdf5',\n",
       " '/home/sejinnam/baseline/data/data.16MB/baseline09.hdf5',\n",
       " '/home/sejinnam/baseline/data/data.16MB/baseline01.hdf5']"
      ]
     },
     "execution_count": 17,
     "metadata": {},
     "output_type": "execute_result"
    }
   ],
   "source": [
    "# use the glob() method to find all HDF5 files in subdirectories of the current directory\n",
    "# hdf5_files = Path('./').glob('data*/*.hdf5')\n",
    "hdf5_files = Path.home().glob('baseline/data/data.16MB/*.hdf5')\n",
    "\n",
    "# transform PosixPath type into string type\n",
    "hdf5_files = [str(file) for file in hdf5_files if 'baseline' in str(file)]\n",
    "random.shuffle(hdf5_files)\n",
    "hdf5_files"
   ]
  },
  {
   "cell_type": "code",
   "execution_count": 18,
   "id": "e6a63dfd-5449-47d8-8a99-b7f13500f84f",
   "metadata": {},
   "outputs": [
    {
     "data": {
      "text/plain": [
       "(2048, 1024)"
      ]
     },
     "metadata": {},
     "output_type": "display_data"
    },
    {
     "data": {
      "text/plain": [
       "<Closed HDF5 dataset>"
      ]
     },
     "execution_count": 18,
     "metadata": {},
     "output_type": "execute_result"
    }
   ],
   "source": [
    "with h5py.File(hdf5_files[0], 'r') as f:\n",
    "    dataset = f['data'][:]\n",
    "    target = f['target']\n",
    "\n",
    "display(dataset.shape)\n",
    "num_samples = dataset.shape[0]\n",
    "len_input = dataset.shape[1]\n",
    "target"
   ]
  },
  {
   "cell_type": "code",
   "execution_count": 22,
   "id": "310b2acc-9f46-4e9f-8495-307030403c97",
   "metadata": {},
   "outputs": [
    {
     "data": {
      "text/plain": [
       "32768"
      ]
     },
     "execution_count": 22,
     "metadata": {},
     "output_type": "execute_result"
    }
   ],
   "source": [
    "total_num_samples = len(hdf5_files)*num_samples\n",
    "total_num_samples"
   ]
  },
  {
   "cell_type": "code",
   "execution_count": 28,
   "id": "48cf660e-d4c3-4731-9db8-6a919831aed7",
   "metadata": {},
   "outputs": [
    {
     "data": {
      "text/plain": [
       "array([0.0000000e+00, 1.5625000e-02, 3.1250000e-02, ..., 1.5953125e+01,\n",
       "       1.5968750e+01, 1.5984375e+01], dtype=float32)"
      ]
     },
     "execution_count": 28,
     "metadata": {},
     "output_type": "execute_result"
    }
   ],
   "source": [
    "shift_path = str(Path.home() / 'baseline/data/chemical_shift.hdf5')\n",
    "\n",
    "with h5py.File(shift_path, 'r') as f:\n",
    "    shift_range = f['shift'][:]\n",
    "\n",
    "shift_range"
   ]
  },
  {
   "cell_type": "code",
   "execution_count": 35,
   "id": "79655e56-f7fc-44bb-aa3a-445c7b3e599c",
   "metadata": {},
   "outputs": [
    {
     "data": {
      "text/plain": [
       "2048"
      ]
     },
     "execution_count": 35,
     "metadata": {},
     "output_type": "execute_result"
    }
   ],
   "source": [
    "sample_chunk = int(total_num_samples/16)\n",
    "sample_chunk"
   ]
  },
  {
   "cell_type": "code",
   "execution_count": 36,
   "id": "e9ddaf58-2eaf-45af-93ab-ef69635520b0",
   "metadata": {},
   "outputs": [],
   "source": [
    "X_train = np.zeros((sample_chunk*14, len_input))\n",
    "y_train = np.zeros((sample_chunk*14, len_input))\n",
    "\n",
    "X_valid = np.zeros((sample_chunk, len_input))\n",
    "y_valid = np.zeros((sample_chunk, len_input))\n",
    "\n",
    "X_test = np.zeros((sample_chunk, len_input))\n",
    "y_test = np.zeros((sample_chunk, len_input))"
   ]
  },
  {
   "cell_type": "code",
   "execution_count": 38,
   "id": "de9273fe-13d6-40f5-95ea-b67507cf544c",
   "metadata": {},
   "outputs": [
    {
     "data": {
      "text/plain": [
       "['/home/sejinnam/baseline/data/data.16MB/baseline01.hdf5']"
      ]
     },
     "execution_count": 38,
     "metadata": {},
     "output_type": "execute_result"
    }
   ],
   "source": [
    "hdf5_files_train = hdf5_files[:14]\n",
    "hdf5_files_valid = hdf5_files[14:15]\n",
    "hdf5_files_test = hdf5_files[15:]\n",
    "hdf5_files_test"
   ]
  },
  {
   "cell_type": "code",
   "execution_count": 39,
   "id": "0cb60c20-96b5-450a-b807-a39fd2152318",
   "metadata": {},
   "outputs": [
    {
     "data": {
      "text/plain": [
       "(28672, 1024)"
      ]
     },
     "execution_count": 39,
     "metadata": {},
     "output_type": "execute_result"
    }
   ],
   "source": [
    "for index, file_path in enumerate(hdf5_files_train):\n",
    "    start = num_samples*index\n",
    "    with h5py.File(file_path, 'r') as f:\n",
    "        X_train[start:start+num_samples] = f['data'][:]\n",
    "        y_train[start:start+num_samples] = f['target'][:]\n",
    "\n",
    "X_train.shape"
   ]
  },
  {
   "cell_type": "code",
   "execution_count": 40,
   "id": "121e19d4-e7a0-4ace-9c21-d9ca71d93bf6",
   "metadata": {},
   "outputs": [
    {
     "data": {
      "text/plain": [
       "(2048, 1024)"
      ]
     },
     "execution_count": 40,
     "metadata": {},
     "output_type": "execute_result"
    }
   ],
   "source": [
    "for index, file_path in enumerate(hdf5_files_valid):\n",
    "    start = num_samples*index\n",
    "    with h5py.File(file_path, 'r') as f:\n",
    "        X_valid[start:start+num_samples] = f['data'][:]\n",
    "        y_valid[start:start+num_samples] = f['target'][:]\n",
    "\n",
    "for index, file_path in enumerate(hdf5_files_test):\n",
    "    start = num_samples*index\n",
    "    with h5py.File(file_path, 'r') as f:\n",
    "        X_test[start:start+num_samples] = f['data'][:]\n",
    "        y_test[start:start+num_samples] = f['target'][:]\n",
    "\n",
    "X_test.shape"
   ]
  },
  {
   "cell_type": "code",
   "execution_count": 41,
   "id": "bc1ccdbe-9123-49e1-abab-a33846f32de9",
   "metadata": {},
   "outputs": [
    {
     "data": {
      "image/png": "[encoded data removed]",
      "text/plain": [
       "<Figure size 640x480 with 1 Axes>"
      ]
     },
     "metadata": {},
     "output_type": "display_data"
    }
   ],
   "source": [
    "plt.plot(shift_range, X_train[14])\n",
    "plt.show()"
   ]
  },
  {
   "cell_type": "code",
   "execution_count": 42,
   "id": "fb0cbaf0-64dd-404c-b28d-0b7ad4946994",
   "metadata": {},
   "outputs": [
    {
     "data": {
      "image/png": "[encoded data removed]",
      "text/plain": [
       "<Figure size 640x480 with 1 Axes>"
      ]
     },
     "metadata": {},
     "output_type": "display_data"
    }
   ],
   "source": [
    "plt.plot(shift_range, y_train[14])\n",
    "plt.show()"
   ]
  },
  {
   "cell_type": "code",
   "execution_count": 43,
   "id": "cd8ec630-68db-49fd-9354-17dac1c03637",
   "metadata": {},
   "outputs": [
    {
     "data": {
      "text/plain": [
       "128"
      ]
     },
     "execution_count": 43,
     "metadata": {},
     "output_type": "execute_result"
    }
   ],
   "source": [
    "buffer_size = int(X_valid.shape[0]/16)\n",
    "buffer_size"
   ]
  },
  {
   "cell_type": "code",
   "execution_count": 44,
   "id": "8c1acb38-e629-45cb-b8a3-5c1107a2bfbd",
   "metadata": {},
   "outputs": [],
   "source": [
    "dataset_train = tf.data.Dataset \\\n",
    "    .from_tensor_slices((X_train, y_train)) \\\n",
    "    .shuffle(buffer_size=buffer_size, seed=42) \\\n",
    "    .batch(32) \\\n",
    "    .prefetch(tf.data.AUTOTUNE)\n",
    "\n",
    "dataset_valid = tf.data.Dataset \\\n",
    "    .from_tensor_slices((X_valid, y_valid)) \\\n",
    "    .shuffle(buffer_size=buffer_size, seed=42) \\\n",
    "    .batch(32) \\\n",
    "    .prefetch(tf.data.AUTOTUNE)"
   ]
  },
  {
   "cell_type": "markdown",
   "id": "4da0ba4c-679f-4eb1-9a30-e235c49cdc91",
   "metadata": {
    "jp-MarkdownHeadingCollapsed": true,
    "tags": []
   },
   "source": [
    "## testing MaxPool1D"
   ]
  },
  {
   "cell_type": "code",
   "execution_count": null,
   "id": "01e0b68b-6015-4c40-b667-805f70d29f9a",
   "metadata": {},
   "outputs": [],
   "source": [
    "with h5py.File('chemical_shift.hdf5', 'r') as f:\n",
    "    # Access the dataset\n",
    "    dataset = f['shift']\n",
    "    # Load the dataset into memory as a NumPy array\n",
    "    shift = dataset[:]\n",
    "\n",
    "shift.shape\n",
    "\n",
    "with h5py.File('data.2022-03-06~01:42PM/baseline00.hdf5', 'r') as f:\n",
    "    X = f['data'][:]\n",
    "    y = f['target'][:]\n",
    "\n",
    "X.shape"
   ]
  },
  {
   "cell_type": "code",
   "execution_count": null,
   "id": "fa4b14e8-3e7b-4e1e-8f15-c0034fe8282b",
   "metadata": {},
   "outputs": [],
   "source": [
    "plt.plot(shift, X[4])\n",
    "plt.show()"
   ]
  },
  {
   "cell_type": "code",
   "execution_count": null,
   "id": "33d22c9a-4fe5-4536-b14c-2af2d3a19b39",
   "metadata": {},
   "outputs": [],
   "source": [
    "test_intput = np.expand_dims(X[4], axis=-1)\n",
    "print(test_intput.shape)\n",
    "\n",
    "test_intput = np.expand_dims(test_intput, axis=0)\n",
    "print(test_intput.shape)\n",
    "\n",
    "input_tensor = tf.convert_to_tensor(test_intput, dtype=tf.float32)\n",
    "input_tensor"
   ]
  },
  {
   "cell_type": "code",
   "execution_count": null,
   "id": "0140b45a-1564-4ea3-abb5-e3330321eb25",
   "metadata": {},
   "outputs": [],
   "source": [
    "input_vector = keras.layers.Input([65536, 1])\n",
    "input_vector"
   ]
  },
  {
   "cell_type": "code",
   "execution_count": null,
   "id": "0aac3b3b-7b04-44e4-a51a-4e4c4d4b2da4",
   "metadata": {},
   "outputs": [],
   "source": [
    "pool_output = keras.layers.MaxPool1D(16)(input_vector)\n",
    "pool_output"
   ]
  },
  {
   "cell_type": "code",
   "execution_count": null,
   "id": "55034444-4790-4979-9081-f7cadf02d0a7",
   "metadata": {},
   "outputs": [],
   "source": [
    "test_output = keras.layers.MaxPool1D(32)(input_tensor)\n",
    "test_output"
   ]
  },
  {
   "cell_type": "code",
   "execution_count": null,
   "id": "842e26cb-2136-488c-9dc6-994c1a681334",
   "metadata": {},
   "outputs": [],
   "source": [
    "reduced_shift = shift[::32]\n",
    "reduced_shift.shape"
   ]
  },
  {
   "cell_type": "code",
   "execution_count": null,
   "id": "578a2b18-b5c8-4f62-8809-6ea0c02fecb3",
   "metadata": {},
   "outputs": [],
   "source": [
    "numpy_output = test_output.numpy()\n",
    "numpy_output.shape"
   ]
  },
  {
   "cell_type": "code",
   "execution_count": null,
   "id": "daf6fc89-6c04-480c-8eb8-b208cf955c09",
   "metadata": {},
   "outputs": [],
   "source": [
    "reshape_output = numpy_output.reshape(2048)\n",
    "reshape_output.shape"
   ]
  },
  {
   "cell_type": "code",
   "execution_count": null,
   "id": "f034aca9-ea12-4b57-8e40-5ece66fc0c3c",
   "metadata": {
    "tags": []
   },
   "outputs": [],
   "source": [
    "plt.plot(reduced_shift, reshape_output)\n",
    "plt.show()"
   ]
  },
  {
   "cell_type": "markdown",
   "id": "22bc4895-1263-458f-8928-88e3b9399357",
   "metadata": {
    "jp-MarkdownHeadingCollapsed": true,
    "tags": []
   },
   "source": [
    "## getting file paths"
   ]
  },
  {
   "cell_type": "code",
   "execution_count": null,
   "id": "dda0709b-0730-4c0f-a1e2-ffd35357a09b",
   "metadata": {},
   "outputs": [],
   "source": [
    "# use the glob() method to find all HDF5 files in subdirectories of the current directory\n",
    "hdf5_files = Path('.').glob('**/*.hdf5')\n",
    "\n",
    "# transform PosixPath type into string type\n",
    "hdf5_files = [str(file) for file in hdf5_files if 'baseline' in str(file)]\n",
    "hdf5_files"
   ]
  },
  {
   "cell_type": "code",
   "execution_count": null,
   "id": "1515906d-c19a-4e3f-8215-0d2f0ab86f35",
   "metadata": {
    "tags": []
   },
   "outputs": [],
   "source": [
    "# split the datasets into train, valid, test\n",
    "files_train = hdf5_files[:-2]\n",
    "files_valid = hdf5_files[-2:-1]\n",
    "files_test = hdf5_files[-1:]\n",
    "\n",
    "files_train"
   ]
  },
  {
   "cell_type": "code",
   "execution_count": null,
   "id": "818f29c2-36dd-4726-9a5a-0497f572c757",
   "metadata": {},
   "outputs": [],
   "source": [
    "def data_generator(file_paths, num_samples=512, batch_size=64):\n",
    "    np.random.shuffle(file_paths)\n",
    "    for file_path in file_paths:\n",
    "        with h5py.File(file_path, 'r') as f:\n",
    "            idx = np.random.permutation(num_samples)\n",
    "            data = f['data'][:][idx]\n",
    "            target = f['target'][:][idx]\n",
    "            \n",
    "            for i in range(0, num_samples, batch_size):\n",
    "                data = f['data'][i:i+batch_size]\n",
    "                target = f['target'][i:i+batch_size]\n",
    "                yield f['data'][i:i+batch_size], f['target'][i:i+batch_size]"
   ]
  },
  {
   "cell_type": "markdown",
   "id": "f6c25a15-d0a8-46b3-b385-47ac45aab8c8",
   "metadata": {
    "jp-MarkdownHeadingCollapsed": true,
    "tags": []
   },
   "source": [
    "## transposed convolution layer"
   ]
  },
  {
   "cell_type": "code",
   "execution_count": null,
   "id": "924bc122-5a11-4037-ac02-359abe0f59ea",
   "metadata": {},
   "outputs": [],
   "source": [
    "input_shape = (2, 2)\n",
    "kernel_size = (2, 2)\n",
    "stride = 1\n",
    "num_filters = 1\n",
    "\n",
    "sqm = lambda n: np.expand_dims(np.arange(n**2).reshape(n, n), axis=-1)\n",
    "lins = lambda n: np.array([np.expand_dims(np.linspace(0, n-1, n), axis=-1)])"
   ]
  },
  {
   "cell_type": "code",
   "execution_count": null,
   "id": "7c804f05-b580-44a3-a7db-2b0ef3019e1b",
   "metadata": {},
   "outputs": [],
   "source": [
    "input_tensor = tf.constant([lins(4)], dtype=tf.float32)\n",
    "matd(input_tensor[0][:, :, 0].numpy())"
   ]
  },
  {
   "cell_type": "code",
   "execution_count": null,
   "id": "e9db5567-f441-42db-affe-14437f6df39d",
   "metadata": {},
   "outputs": [],
   "source": [
    "input_tensor = tf.constant([sqm(3)], dtype=tf.float32)\n",
    "matd(input_tensor[0][:, :, 0].numpy())"
   ]
  },
  {
   "cell_type": "code",
   "execution_count": null,
   "id": "b960e744-2703-4d03-9b94-6c7f5e3feb08",
   "metadata": {},
   "outputs": [],
   "source": [
    "kernel_weights = sqm(4)[:1, :, 0]\n",
    "matd(kernel_weights)\n",
    "print('kernel_weights')"
   ]
  },
  {
   "cell_type": "code",
   "execution_count": null,
   "id": "5effd449-0866-4907-a19c-274be9a3ef28",
   "metadata": {
    "tags": []
   },
   "outputs": [],
   "source": [
    "?keras.layers.Conv2DTranspose"
   ]
  },
  {
   "cell_type": "code",
   "execution_count": null,
   "id": "361e157b-4678-4c83-ae53-4ef34786c106",
   "metadata": {},
   "outputs": [],
   "source": [
    "output_shape = (None, 3, 3, 1)\n",
    "\n",
    "# Define the transposed Conv2D layer\n",
    "tc2_layer = tf.keras.layers.Conv2DTranspose(\n",
    "    filters=num_filters,\n",
    "    kernel_size=kernel_weights.shape,\n",
    "    strides=(1, 2),\n",
    "    padding='valid',\n",
    "    kernel_initializer=tf.constant_initializer(kernel_weights),\n",
    "    #output_padding=\n",
    ")\n",
    "\n",
    "# Apply tc2_layer to the input tensor\n",
    "output_tensor = tc2_layer(input_tensor)\n",
    "matd(output_tensor[0][:, :, 0].numpy())"
   ]
  },
  {
   "cell_type": "markdown",
   "id": "e2eb6a2e-0c67-4b9e-a11d-4c10acdaedbd",
   "metadata": {
    "jp-MarkdownHeadingCollapsed": true
   },
   "source": [
    "## Dynamic Data Generation"
   ]
  },
  {
   "cell_type": "code",
   "execution_count": 89,
   "id": "1a8ca13a-e03d-4c5b-9847-3ffec422f12c",
   "metadata": {},
   "outputs": [
    {
     "name": "stdout",
     "output_type": "stream",
     "text": [
      "065.5k    0006.8    002.4k    0213.0\n",
      "\n",
      "103.9μ    131.1k    018.3m    0054.5    0019.0    0003.0\n"
     ]
    }
   ],
   "source": [
    "spec = ftnmr.spectrometer(shift_maximum=128.0)\n",
    "\n",
    "mods.print_formatted(spec.nf, spec.nf*spec.df, spec.t[-1], 213)\n",
    "print()\n",
    "mods.print_formatted(spec.df, spec.ns, spec.dt, spec.f_s, spec.p, spec.p_l)"
   ]
  },
  {
   "cell_type": "code",
   "execution_count": 90,
   "id": "4bfb6da7-8066-404c-8f1d-6c103f1d032f",
   "metadata": {},
   "outputs": [
    {
     "data": {
      "text/plain": [
       "{'A': (<ftnmr.molecule at 0x14554030ed40>, 39.216652249667966)}"
      ]
     },
     "execution_count": 90,
     "metadata": {},
     "output_type": "execute_result"
    }
   ],
   "source": [
    "ru = np.random.uniform\n",
    "rr = np.random.randint\n",
    "moles = {al[26+k]:(mg(), ru(0, 50)) for k in range(0, rr(1, 15))}\n",
    "moles"
   ]
  },
  {
   "cell_type": "code",
   "execution_count": 91,
   "id": "56883cc3-83ce-414f-8f75-705080c8b569",
   "metadata": {},
   "outputs": [],
   "source": [
    "spec.artifact(baseline=True)\n",
    "spec.measure(moles=moles)"
   ]
  },
  {
   "cell_type": "code",
   "execution_count": 92,
   "id": "cac460a8-79bd-44b6-b210-298cadb79393",
   "metadata": {},
   "outputs": [
    {
     "data": {
      "image/png": "[encoded data removed]",
      "text/plain": [
       "<Figure size 640x480 with 1 Axes>"
      ]
     },
     "metadata": {},
     "output_type": "display_data"
    }
   ],
   "source": [
    "plt.plot(spec.shift, spec.spectra)\n",
    "plt.show()"
   ]
  },
  {
   "cell_type": "code",
   "execution_count": 93,
   "id": "88061f7d-14a4-430e-8b04-b0e4967f11de",
   "metadata": {},
   "outputs": [
    {
     "data": {
      "image/png": "[encoded data removed]",
      "text/plain": [
       "<Figure size 640x480 with 1 Axes>"
      ]
     },
     "metadata": {},
     "output_type": "display_data"
    }
   ],
   "source": [
    "plt.plot(spec.t[:spec.nf], spec.signal.real[:spec.nf])\n",
    "plt.show()"
   ]
  },
  {
   "cell_type": "code",
   "execution_count": 94,
   "id": "7a5af3c3-cce0-441e-ae6f-babfa3c1c72f",
   "metadata": {},
   "outputs": [
    {
     "name": "stdout",
     "output_type": "stream",
     "text": [
      "input size: 1024\n"
     ]
    }
   ],
   "source": [
    "input_size = 2**10\n",
    "print(f\"input size: {input_size}\")\n",
    "rescale_ratio = int(spec.nf/input_size)\n",
    "target = np.reshape(spec.target, (input_size, rescale_ratio))\n",
    "spectra = np.reshape(spec.spectra, (input_size, rescale_ratio))\n",
    "\n",
    "max_target = np.max(target, axis=1)\n",
    "mean_target = np.mean(target, axis=1)\n",
    "max_spectra = np.max(spectra, axis=1)\n",
    "mean_spectra = np.mean(spectra, axis=1)\n",
    "\n",
    "rescaled_shift = spec.shift[::rescale_ratio]"
   ]
  },
  {
   "cell_type": "code",
   "execution_count": 95,
   "id": "5402b8b7-d39b-4c4d-af42-fe6891e9f753",
   "metadata": {},
   "outputs": [
    {
     "data": {
      "image/png": "[encoded data removed]",
      "text/plain": [
       "<Figure size 640x480 with 1 Axes>"
      ]
     },
     "metadata": {},
     "output_type": "display_data"
    }
   ],
   "source": [
    "plt.plot(rescaled_shift, max_target)\n",
    "plt.show()"
   ]
  },
  {
   "cell_type": "code",
   "execution_count": 97,
   "id": "c2729981-367f-4b1a-9386-6079f6c27d3c",
   "metadata": {},
   "outputs": [
    {
     "data": {
      "image/png": "[encoded data removed]",
      "text/plain": [
       "<Figure size 640x480 with 1 Axes>"
      ]
     },
     "metadata": {},
     "output_type": "display_data"
    }
   ],
   "source": [
    "plt.plot(rescaled_shift, max_spectra)\n",
    "plt.show()"
   ]
  },
  {
   "cell_type": "code",
   "execution_count": 43,
   "id": "f51ed2d0-f15f-4191-9cd1-9b9750e6f18b",
   "metadata": {},
   "outputs": [
    {
     "data": {
      "text/plain": [
       "(array([0.02332669, 0.03691237, 0.03685878, ..., 0.10540522, 0.10804985,\n",
       "        0.1149232 ], dtype=float32),\n",
       " array([0.01653114, 0.01653155, 0.01653214, ..., 0.01598398, 0.01598387,\n",
       "        0.01598382], dtype=float32))"
      ]
     },
     "execution_count": 43,
     "metadata": {},
     "output_type": "execute_result"
    }
   ],
   "source": [
    "# initialize spectrometer with random number of molecules\n",
    "spec = ftnmr.spectrometer(shift_maximum=128.0)\n",
    "num_of_moles = np.random.randint(1, 15)\n",
    "\n",
    "# data generator arguments as tf.Tensors that are fed into tf.data.Dataset.from_generator\n",
    "baseline=True\n",
    "phase_shift=False\n",
    "smoothness=False\n",
    "moles = {al[26+k]:(mg(), np.random.uniform(0, 50)) for k in range(0, num_of_moles)}\n",
    "\n",
    "# set artifact and measure the signal\n",
    "spec.artifact(baseline=baseline, phase_shift=phase_shift, smoothness=smoothness)\n",
    "spec.measure(moles=moles)\n",
    "\n",
    "# sample output\n",
    "output = spec()\n",
    "output"
   ]
  },
  {
   "cell_type": "markdown",
   "id": "70a9dd42-5e6b-414f-abe4-d05d822990bc",
   "metadata": {
    "jp-MarkdownHeadingCollapsed": true
   },
   "source": [
    "## Data Generator"
   ]
  },
  {
   "cell_type": "code",
   "execution_count": 56,
   "id": "142f7e47-f838-459e-8041-41d2b678665e",
   "metadata": {},
   "outputs": [],
   "source": [
    "# data generator internal parameters\n",
    "spec = ftnmr.spectrometer(shift_maximum=128.0)\n",
    "input_size = 2**10\n",
    "rescale_ratio = int(spec.nf/input_size)\n",
    "\n",
    "def data_generator(baseline, phase_shift, smoothness):\n",
    "    while True:\n",
    "        # get number of different types of molecules\n",
    "        rr = np.random.randint\n",
    "        ru = np.random.uniform\n",
    "        num_of_moles = rr(1, 15)\n",
    "        moles = {al[26+k]:(mg(), ru(0, 50)) for k in range(0, num_of_moles)}\n",
    "    \n",
    "        # measure the signal with artifact\n",
    "        spec.artifact(\n",
    "            baseline=baseline, \n",
    "            phase_shift=phase_shift, \n",
    "            smoothness=smoothness)\n",
    "        spec.measure(moles=moles)\n",
    "    \n",
    "        # reshape the output for memory management using reshape and max (or mean)\n",
    "        spectra = np.reshape(spec.spectra, (input_size, rescale_ratio))\n",
    "        target = np.reshape(spec.target, (input_size, rescale_ratio))\n",
    "        max_spectra = np.max(spectra, axis=1) # max or mean\n",
    "        max_target = np.max(target, axis=1) # max or mean\n",
    "    \n",
    "        yield max_spectra, max_target"
   ]
  },
  {
   "cell_type": "code",
   "execution_count": 57,
   "id": "7059a828-1b7e-4a42-a1d7-63a0dbbb7d80",
   "metadata": {},
   "outputs": [
    {
     "data": {
      "text/plain": [
       "(<tf.Tensor: shape=(), dtype=bool, numpy=True>,\n",
       " <tf.Tensor: shape=(), dtype=bool, numpy=False>,\n",
       " <tf.Tensor: shape=(), dtype=bool, numpy=False>)"
      ]
     },
     "metadata": {},
     "output_type": "display_data"
    },
    {
     "data": {
      "text/plain": [
       "<generator object data_generator at 0x154c1c14eb90>"
      ]
     },
     "execution_count": 57,
     "metadata": {},
     "output_type": "execute_result"
    }
   ],
   "source": [
    "# data generator arguments as tf.Tensors that are fed into tf.data.Dataset.from_generator\n",
    "baseline=True\n",
    "phase_shift=False\n",
    "smoothness=False\n",
    "\n",
    "args = [baseline, phase_shift, smoothness]\n",
    "args = tuple(tf.constant(x) for x in args)\n",
    "display(args)\n",
    "\n",
    "data_gen_output = data_generator(baseline, phase_shift, smoothness)\n",
    "data_gen_output"
   ]
  },
  {
   "cell_type": "code",
   "execution_count": 73,
   "id": "58859cbd-1eef-40d7-b625-909a2250397c",
   "metadata": {},
   "outputs": [
    {
     "data": {
      "text/plain": [
       "<PrefetchDataset element_spec=(TensorSpec(shape=(None, 1024), dtype=tf.float32, name=None), TensorSpec(shape=(None, 1024), dtype=tf.float32, name=None))>"
      ]
     },
     "metadata": {},
     "output_type": "display_data"
    },
    {
     "data": {
      "text/plain": [
       "(<tf.Tensor: shape=(8, 1024), dtype=float32, numpy=\n",
       " array([[45.098835, 45.108315, 45.050026, ..., 45.000366, 44.93574 ,\n",
       "         44.8526  ],\n",
       "        [45.473305, 45.439533, 45.429012, ..., 45.154842, 45.08999 ,\n",
       "         45.028805],\n",
       "        [45.564228, 45.557816, 45.514633, ..., 45.220005, 45.143497,\n",
       "         45.077328],\n",
       "        ...,\n",
       "        [46.017487, 45.94809 , 45.92479 , ..., 45.571323, 45.512283,\n",
       "         45.423103],\n",
       "        [46.264072, 46.23345 , 46.16962 , ..., 45.653385, 45.58164 ,\n",
       "         45.501972],\n",
       "        [46.400356, 46.336567, 46.299034, ..., 45.8601  , 45.80394 ,\n",
       "         45.72599 ]], dtype=float32)>,\n",
       " <tf.Tensor: shape=(8, 1024), dtype=float32, numpy=\n",
       " array([[0.01058638, 0.01059614, 0.01060649, ..., 0.01027915, 0.01027913,\n",
       "         0.01027912],\n",
       "        [0.00131609, 0.00131823, 0.00132052, ..., 0.00126396, 0.00126396,\n",
       "         0.00126396],\n",
       "        [0.01311748, 0.0131321 , 0.01314764, ..., 0.01271258, 0.01271256,\n",
       "         0.01271254],\n",
       "        ...,\n",
       "        [0.01516165, 0.01517743, 0.01519408, ..., 0.01465458, 0.01465455,\n",
       "         0.01465453],\n",
       "        [0.01709769, 0.01710832, 0.0171195 , ..., 0.01671783, 0.01671779,\n",
       "         0.01671776],\n",
       "        [0.00716753, 0.00717113, 0.0071749 , ..., 0.00702914, 0.00702913,\n",
       "         0.00702912]], dtype=float32)>)"
      ]
     },
     "execution_count": 73,
     "metadata": {},
     "output_type": "execute_result"
    }
   ],
   "source": [
    "# dataset from generator\n",
    "size = input_size\n",
    "batch_size = 8\n",
    "\n",
    "dataset = tf.data.Dataset.from_generator(\n",
    "    data_generator,\n",
    "    args=args,\n",
    "    output_signature=(\n",
    "        tf.TensorSpec(shape=(size,), dtype=tf.float32),\n",
    "        tf.TensorSpec(shape=(size,), dtype=tf.float32)))\n",
    "\n",
    "dataset = dataset.batch(batch_size).prefetch(tf.data.AUTOTUNE)\n",
    "\n",
    "validation_dataset = tf.data.Dataset.from_generator(\n",
    "    data_generator,\n",
    "    args=args,\n",
    "    output_signature=(\n",
    "        tf.TensorSpec(shape=(size,), dtype=tf.float32),\n",
    "        tf.TensorSpec(shape=(size,), dtype=tf.float32)))\n",
    "\n",
    "validation_dataset = validation_dataset.batch(batch_size).prefetch(tf.data.AUTOTUNE)\n",
    "\n",
    "display(dataset)\n",
    "\n",
    "first_output = next(iter(dataset))\n",
    "first_output"
   ]
  },
  {
   "cell_type": "markdown",
   "id": "6766e28d-efb5-44e1-bef1-6b54ed2ca24a",
   "metadata": {},
   "source": [
    "### from generator to data"
   ]
  },
  {
   "cell_type": "code",
   "execution_count": 71,
   "id": "6faed1fd-d29f-4dcd-b11f-1cbba4428c5b",
   "metadata": {},
   "outputs": [],
   "source": [
    "def data_from_generator(generator, num_val_power, batch_size_power):\n",
    "    \"\"\"\n",
    "    The generator must return both target and label data\n",
    "    \"\"\"\n",
    "    assert_info = \"batch_size_power is greater than num_val_power\"\n",
    "    assert batch_size_power < num_val_power, assert_info\n",
    "\n",
    "    # number of validation+train dataset and sample data, batch size\n",
    "    num_val = 2**num_val_power\n",
    "    num_tra = 8*num_val\n",
    "    sample_target, sample_label = next(iter(generator))\n",
    "    batch_size = 2**batch_size_power\n",
    "\n",
    "    # shapes for output tensors\n",
    "    train_target_shape = (num_tra, *sample_target.shape)\n",
    "    train_label_shape = (num_tra, *sample_label.shape)\n",
    "    valid_target_shape = (num_val, *sample_target.shape)\n",
    "    valid_label_shape = (num_val, *sample_label.shape)\n",
    "\n",
    "    # preallocate output tensors\n",
    "    target_tra = np.zeros(train_target_shape, dtype=sample_target.dtype)\n",
    "    label_tra = np.zeros(train_label_shape, dtype=sample_label.dtype)\n",
    "    target_val = np.zeros(valid_target_shape, dtype=sample_target.dtype)\n",
    "    label_val = np.zeros(valid_label_shape, dtype=sample_label.dtype)\n",
    "\n",
    "    # target dataset\n",
    "    for index, data in zip(range(num_tra), generator):\n",
    "        target_tra[index], label_tra[index] = data\n",
    "        \n",
    "    # validation dataset\n",
    "    for index, data in zip(range(num_val), generator):\n",
    "        target_val[index], label_val[index] = data\n",
    "\n",
    "    # obtain tf.data.Dataset\n",
    "    train_dataset = tf.data.Dataset.from_tensor_slices((train_images, label_tra))\n",
    "    train_dataset = train_dataset.batch(batch_size)\n",
    "    valid_dataset = tf.data.Dataset.from_tensor_slices((target_val, label_val))\n",
    "    valid_dataset = test_dataset.batch(batch_size)\n",
    "\n",
    "    return train_dataset, valid_dataset"
   ]
  },
  {
   "cell_type": "code",
   "execution_count": null,
   "id": "227ed41e-9c46-4eb6-be2d-dccfdad24cc0",
   "metadata": {},
   "outputs": [],
   "source": []
  },
  {
   "cell_type": "markdown",
   "id": "0c2ff9fc-4218-4db9-ad84-d87a7eb071be",
   "metadata": {
    "tags": []
   },
   "source": [
    "## Testing Model"
   ]
  },
  {
   "cell_type": "markdown",
   "id": "1898857c-f057-4e14-9db5-5cc22022a9f0",
   "metadata": {
    "jp-MarkdownHeadingCollapsed": true
   },
   "source": [
    "### recurrent NN structures in multiple cells"
   ]
  },
  {
   "cell_type": "code",
   "execution_count": 65,
   "id": "9d3fb89b-74a3-4f20-be12-c83515aa9399",
   "metadata": {},
   "outputs": [],
   "source": [
    "# configuration\n",
    "input_length = input_size\n",
    "expand_layer = keras.layers.Lambda(lambda x: tf.expand_dims(x, axis=-1))\n",
    "GRU_unit = 16\n",
    "first_filter_num = 128\n",
    "transpose_layer = keras.layers.Lambda(lambda x: tf.transpose(x, perm=[0, 1, 3, 2]))\n",
    "second_filter_num = 64"
   ]
  },
  {
   "cell_type": "code",
   "execution_count": null,
   "id": "45800155-0655-4e1e-a72c-d083fe2f7892",
   "metadata": {},
   "outputs": [],
   "source": [
    "seq_input = keras.layers.Input(shape=[input_length])\n",
    "seq_input"
   ]
  },
  {
   "cell_type": "code",
   "execution_count": null,
   "id": "33583f94-8382-4900-9785-7e156ccbfede",
   "metadata": {},
   "outputs": [],
   "source": [
    "expand_output = expand_layer(seq_input)\n",
    "expand_output"
   ]
  },
  {
   "cell_type": "code",
   "execution_count": null,
   "id": "9e6d2b29-f85f-406a-9020-56543ce551ca",
   "metadata": {},
   "outputs": [],
   "source": [
    "#skip\n",
    "pool_output = keras.layers.MaxPool1D(pool_size)(expand_output)\n",
    "pool_output"
   ]
  },
  {
   "cell_type": "code",
   "execution_count": null,
   "id": "13ae4588-206d-445f-8e08-2822b478e55b",
   "metadata": {},
   "outputs": [],
   "source": [
    "GRU_output = keras.layers.Bidirectional(\n",
    "    keras.layers.GRU(GRU_unit, return_sequences=True))(expand_output)\n",
    "GRU_output"
   ]
  },
  {
   "cell_type": "code",
   "execution_count": null,
   "id": "ea884c8c-580a-42d5-b294-e026551a0653",
   "metadata": {},
   "outputs": [],
   "source": [
    "expand_output2 = expand_layer(GRU_output)\n",
    "expand_output2"
   ]
  },
  {
   "cell_type": "code",
   "execution_count": null,
   "id": "e56738c5-3fff-4e39-ac21-45f489aaa018",
   "metadata": {},
   "outputs": [],
   "source": [
    "cnn_layer1 = keras.layers.Conv2D(\n",
    "    filters=first_filter_num, \n",
    "    kernel_size=(1, 2*GRU_unit), \n",
    "    activation='elu')\n",
    "cnn_output1 = cnn_layer1(expand_output2)\n",
    "cnn_output1"
   ]
  },
  {
   "cell_type": "code",
   "execution_count": null,
   "id": "53eac180-f5dc-4170-b0b0-f781a4629602",
   "metadata": {},
   "outputs": [],
   "source": [
    "transpose_output = transpose_layer(cnn_output1)\n",
    "transpose_output"
   ]
  },
  {
   "cell_type": "code",
   "execution_count": null,
   "id": "db9b3294-8e83-4e7f-914b-806b3a9bb844",
   "metadata": {},
   "outputs": [],
   "source": [
    "cnn_layer2 = keras.layers.Conv2D(\n",
    "    filters=second_filter_num, \n",
    "    kernel_size=(1, first_filter_num),\n",
    "    activation='selu')\n",
    "cnn2_output = cnn_layer2(transpose_output)\n",
    "cnn2_output"
   ]
  },
  {
   "cell_type": "code",
   "execution_count": null,
   "id": "2fb447e6-99d2-491d-940c-9e263492559e",
   "metadata": {},
   "outputs": [],
   "source": [
    "transpose2_output = transpose_layer(cnn2_output)\n",
    "transpose2_output"
   ]
  },
  {
   "cell_type": "code",
   "execution_count": null,
   "id": "add74df9-b6f8-4e27-a51f-be2af7eb4597",
   "metadata": {},
   "outputs": [],
   "source": [
    "cnn_layer3 = keras.layers.Conv2D(\n",
    "    filters=1, \n",
    "    kernel_size=(1, second_filter_num),\n",
    "    activation='selu')\n",
    "cnn3_output = cnn_layer3(transpose2_output)\n",
    "cnn3_output"
   ]
  },
  {
   "cell_type": "code",
   "execution_count": null,
   "id": "f4f5a391-0fe3-4dbc-a6da-0c9c1dee29aa",
   "metadata": {},
   "outputs": [],
   "source": [
    "#skip\n",
    "upscale_output = keras.layers.UpSampling2D(\n",
    "    size=(pool_size, 1), \n",
    "    interpolation='bicubic')(cnn3_output)\n",
    "upscale_output"
   ]
  },
  {
   "cell_type": "code",
   "execution_count": null,
   "id": "dc049c1c-cfbb-4f52-a318-ba0a0a85f024",
   "metadata": {},
   "outputs": [],
   "source": [
    "flat_output = keras.layers.Flatten()(cnn3_output)\n",
    "flat_output"
   ]
  },
  {
   "cell_type": "code",
   "execution_count": null,
   "id": "1399c744-3ecb-4f2f-bd87-6febfbcf1d3c",
   "metadata": {},
   "outputs": [],
   "source": [
    "model_output = keras.layers.Add()([seq_input, flat_output])\n",
    "model_output"
   ]
  },
  {
   "cell_type": "code",
   "execution_count": 51,
   "id": "7905c0f9-6866-4343-bcad-a607960267ba",
   "metadata": {},
   "outputs": [
    {
     "data": {
      "text/plain": [
       "<KerasTensor: shape=(None, 512, 1) dtype=float32 (created by layer 'lambda_2')>"
      ]
     },
     "execution_count": 51,
     "metadata": {},
     "output_type": "execute_result"
    }
   ],
   "source": [
    "expand_output"
   ]
  },
  {
   "cell_type": "markdown",
   "id": "46ba91b0-f7f9-44ed-8229-073b71556cd5",
   "metadata": {},
   "source": [
    "### continue..."
   ]
  },
  {
   "cell_type": "code",
   "execution_count": 46,
   "id": "52f950f0-0d03-46d5-b404-ab5344f5042a",
   "metadata": {},
   "outputs": [],
   "source": [
    "# configuration\n",
    "input_length = 2**10\n",
    "expand_layer = keras.layers.Lambda(lambda x: tf.expand_dims(x, axis=-1))\n",
    "GRU_unit = 16\n",
    "first_filter_num = 128\n",
    "transpose_layer = keras.layers.Lambda(lambda x: tf.transpose(x, perm=[0, 1, 3, 2]))\n",
    "second_filter_num = 64\n",
    "\n",
    "# same as above execution of cells, but all the cells are merged\n",
    "seq_input = keras.layers.Input(shape=[input_length])\n",
    "\n",
    "expand_output = expand_layer(seq_input)\n",
    "\n",
    "GRU_output = keras.layers.Bidirectional(\n",
    "    keras.layers.GRU(GRU_unit, return_sequences=True))(expand_output)\n",
    "\n",
    "expand_output2 = expand_layer(GRU_output)\n",
    "\n",
    "cnn_layer1 = keras.layers.Conv2D(\n",
    "    filters=first_filter_num, \n",
    "    kernel_size=(1, 2*GRU_unit), \n",
    "    activation='elu')\n",
    "cnn_output1 = cnn_layer1(expand_output2)\n",
    "\n",
    "transpose_output = transpose_layer(cnn_output1)\n",
    "\n",
    "cnn_layer2 = keras.layers.Conv2D(\n",
    "    filters=second_filter_num, \n",
    "    kernel_size=(1, first_filter_num),\n",
    "    activation='selu')\n",
    "cnn2_output = cnn_layer2(transpose_output)\n",
    "\n",
    "transpose2_output = transpose_layer(cnn2_output)\n",
    "\n",
    "cnn_layer3 = keras.layers.Conv2D(\n",
    "    filters=1, \n",
    "    kernel_size=(1, second_filter_num),\n",
    "    activation='selu')\n",
    "cnn3_output = cnn_layer3(transpose2_output)\n",
    "\n",
    "flat_output = keras.layers.Flatten()(cnn3_output)\n",
    "\n",
    "model_output = keras.layers.Add()([seq_input, flat_output])"
   ]
  },
  {
   "cell_type": "code",
   "execution_count": 47,
   "id": "a7c65e83-d10f-4487-9373-5618f504b161",
   "metadata": {},
   "outputs": [],
   "source": [
    "model = keras.Model(inputs=[seq_input], outputs=[model_output])"
   ]
  },
  {
   "cell_type": "code",
   "execution_count": 48,
   "id": "56050bd6-8e13-446e-b3a7-13a092f4e542",
   "metadata": {},
   "outputs": [],
   "source": [
    "early_stopping = tf.keras.callbacks.EarlyStopping(\n",
    "    monitor='val_mse',\n",
    "    min_delta=0.01,\n",
    "    patience=10,\n",
    "    verbose=1,\n",
    "    mode='auto',\n",
    "    restore_best_weights=True\n",
    ")"
   ]
  },
  {
   "cell_type": "code",
   "execution_count": 49,
   "id": "8d19830d-931f-4a2f-a0a7-2b9722c51817",
   "metadata": {},
   "outputs": [],
   "source": [
    "model.compile(\n",
    "    loss=\"mse\", \n",
    "    optimizer=keras.optimizers.Nadam(),\n",
    "    metrics=['mse'])"
   ]
  },
  {
   "cell_type": "code",
   "execution_count": 52,
   "id": "55fa7fbd-4d60-4013-9d3a-4981aa8c6563",
   "metadata": {
    "scrolled": true
   },
   "outputs": [
    {
     "name": "stdout",
     "output_type": "stream",
     "text": [
      "Epoch 1/128\n",
      "896/896 [==============================] - 37s 41ms/step - loss: 30140.3867 - mse: 30140.3867 - val_loss: 30140.3809 - val_mse: 30140.3809\n",
      "Epoch 2/128\n",
      "896/896 [==============================] - 37s 41ms/step - loss: 30140.3926 - mse: 30140.3926 - val_loss: 30140.3848 - val_mse: 30140.3848\n",
      "Epoch 3/128\n",
      "896/896 [==============================] - 37s 41ms/step - loss: 30140.3848 - mse: 30140.3848 - val_loss: 30140.3848 - val_mse: 30140.3848\n",
      "Epoch 4/128\n",
      "896/896 [==============================] - 37s 41ms/step - loss: 30140.3906 - mse: 30140.3906 - val_loss: 30140.3828 - val_mse: 30140.3828\n",
      "Epoch 5/128\n",
      "896/896 [==============================] - 37s 41ms/step - loss: 30140.3770 - mse: 30140.3770 - val_loss: 30140.3828 - val_mse: 30140.3828\n",
      "Epoch 6/128\n",
      "896/896 [==============================] - 37s 41ms/step - loss: 30140.3574 - mse: 30140.3574 - val_loss: 30140.3770 - val_mse: 30140.3770\n",
      "Epoch 7/128\n",
      "896/896 [==============================] - 37s 41ms/step - loss: 30140.3633 - mse: 30140.3633 - val_loss: 30140.3828 - val_mse: 30140.3828\n",
      "Epoch 8/128\n",
      "896/896 [==============================] - 37s 41ms/step - loss: 30140.3750 - mse: 30140.3750 - val_loss: 30140.3789 - val_mse: 30140.3789\n",
      "Epoch 9/128\n",
      "896/896 [==============================] - 37s 41ms/step - loss: 30140.3730 - mse: 30140.3730 - val_loss: 30140.3770 - val_mse: 30140.3770\n",
      "Epoch 10/128\n",
      "896/896 [==============================] - 37s 41ms/step - loss: 30140.3750 - mse: 30140.3750 - val_loss: 30140.3789 - val_mse: 30140.3789\n",
      "Epoch 11/128\n",
      "895/896 [============================>.] - ETA: 0s - loss: 30080.2207 - mse: 30080.2207Restoring model weights from the end of the best epoch: 1.\n",
      "896/896 [==============================] - 37s 41ms/step - loss: 30140.3535 - mse: 30140.3535 - val_loss: 30140.3789 - val_mse: 30140.3789\n",
      "Epoch 11: early stopping\n"
     ]
    }
   ],
   "source": [
    "history = model.fit(\n",
    "    dataset_train,\n",
    "    validation_data=dataset_valid,\n",
    "    epochs=128,\n",
    "    callbacks=[early_stopping])"
   ]
  },
  {
   "cell_type": "code",
   "execution_count": 60,
   "id": "4ca32477-b308-434f-ab78-e630bf51d820",
   "metadata": {
    "collapsed": true,
    "jupyter": {
     "outputs_hidden": true
    },
    "scrolled": true
   },
   "outputs": [
    {
     "name": "stdout",
     "output_type": "stream",
     "text": [
      "Model: \"model\"\n",
      "__________________________________________________________________________________________________\n",
      " Layer (type)                   Output Shape         Param #     Connected to                     \n",
      "==================================================================================================\n",
      " input_1 (InputLayer)           [(None, 1024)]       0           []                               \n",
      "                                                                                                  \n",
      " lambda (Lambda)                multiple             0           ['input_1[0][0]',                \n",
      "                                                                  'bidirectional[0][0]']          \n",
      "                                                                                                  \n",
      " bidirectional (Bidirectional)  (None, 1024, 32)     1824        ['lambda[0][0]']                 \n",
      "                                                                                                  \n",
      " conv2d (Conv2D)                (None, 1024, 1, 128  4224        ['lambda[1][0]']                 \n",
      "                                )                                                                 \n",
      "                                                                                                  \n",
      " lambda_1 (Lambda)              multiple             0           ['conv2d[0][0]',                 \n",
      "                                                                  'conv2d_1[0][0]']               \n",
      "                                                                                                  \n",
      " conv2d_1 (Conv2D)              (None, 1024, 1, 64)  8256        ['lambda_1[0][0]']               \n",
      "                                                                                                  \n",
      " conv2d_2 (Conv2D)              (None, 1024, 1, 1)   65          ['lambda_1[1][0]']               \n",
      "                                                                                                  \n",
      " flatten (Flatten)              (None, 1024)         0           ['conv2d_2[0][0]']               \n",
      "                                                                                                  \n",
      " add (Add)                      (None, 1024)         0           ['input_1[0][0]',                \n",
      "                                                                  'flatten[0][0]']                \n",
      "                                                                                                  \n",
      "==================================================================================================\n",
      "Total params: 14,369\n",
      "Trainable params: 14,369\n",
      "Non-trainable params: 0\n",
      "__________________________________________________________________________________________________\n"
     ]
    }
   ],
   "source": [
    "model.summary()"
   ]
  },
  {
   "cell_type": "code",
   "execution_count": 53,
   "id": "51f9f601-3448-4bba-86cb-85baa2e302df",
   "metadata": {},
   "outputs": [],
   "source": [
    "model.save('prototype02.hdf5')"
   ]
  },
  {
   "cell_type": "code",
   "execution_count": 71,
   "id": "36000879-a577-4f33-97b6-f165ce683f28",
   "metadata": {},
   "outputs": [],
   "source": [
    "loaded_model = keras.models.load_model('prototype01.hdf5', compile=False)"
   ]
  },
  {
   "cell_type": "code",
   "execution_count": 58,
   "id": "2b8ca29b-1e61-4151-b6b9-7d0598e7642f",
   "metadata": {},
   "outputs": [],
   "source": [
    "sample_num = 2**4\n",
    "target, label = next(iter(data_gen_output))\n",
    "X_test = np.zeros((sample_num, *target.shape), dtype=target.dtype)\n",
    "y_test = np.zeros((sample_num, *label.shape), dtype=label.dtype)\n",
    "\n",
    "for index, data in zip(range(sample_num), data_gen_output):\n",
    "    X_test[index], y_test[index] = data"
   ]
  },
  {
   "cell_type": "code",
   "execution_count": 72,
   "id": "6fb70bad-5bd0-4009-96be-d61a2616ea73",
   "metadata": {
    "scrolled": true
   },
   "outputs": [
    {
     "name": "stdout",
     "output_type": "stream",
     "text": [
      "1/1 [==============================] - 1s 608ms/step\n"
     ]
    }
   ],
   "source": [
    "y_pred = loaded_model.predict(X_test)"
   ]
  },
  {
   "cell_type": "code",
   "execution_count": 81,
   "id": "2a69194e-8c29-4083-9dbc-0155001e5af3",
   "metadata": {},
   "outputs": [
    {
     "name": "stdout",
     "output_type": "stream",
     "text": [
      "1/1 [==============================] - 0s 33ms/step\n",
      "1/1 [==============================] - 0s 33ms/step\n",
      "1/1 [==============================] - 0s 33ms/step\n",
      "1/1 [==============================] - 0s 33ms/step\n",
      "1/1 [==============================] - 0s 32ms/step\n",
      "1/1 [==============================] - 0s 33ms/step\n",
      "1/1 [==============================] - 0s 32ms/step\n",
      "1/1 [==============================] - 0s 33ms/step\n",
      "1/1 [==============================] - 0s 32ms/step\n",
      "1/1 [==============================] - 0s 32ms/step\n"
     ]
    }
   ],
   "source": [
    "for x in range(10):\n",
    "    y_pred = loaded_model.predict(y_pred)"
   ]
  },
  {
   "cell_type": "code",
   "execution_count": 82,
   "id": "73e5af8b-370b-4bcc-9ab6-30d0bdf9149f",
   "metadata": {},
   "outputs": [
    {
     "name": "stdout",
     "output_type": "stream",
     "text": [
      "11\n"
     ]
    },
    {
     "data": {
      "image/png": "[encoded data removed]",
      "text/plain": [
       "<Figure size 640x480 with 1 Axes>"
      ]
     },
     "metadata": {},
     "output_type": "display_data"
    }
   ],
   "source": [
    "shift_range = spec.shift[::rescale_ratio]\n",
    "ind = np.random.choice(range(len(y_pred)))\n",
    "x_t = X_test[ind]\n",
    "y_true = y_test[ind]\n",
    "y_p = y_pred[ind]\n",
    "print(ind)\n",
    "\n",
    "# Plot the first graph\n",
    "plt.plot(shift_range, y_true, label='y_true', color='red')\n",
    "\n",
    "# Plot the second graph\n",
    "plt.plot(shift_range, y_p, label='y_pred', color='blue', alpha=0.50)\n",
    "\n",
    "# Plot the third graph\n",
    "plt.plot(shift_range, x_t, label='X_test', color='grey', alpha=0.75)\n",
    "\n",
    "# Set the labels and title\n",
    "plt.xlabel('chemical shift range')\n",
    "plt.ylabel('abundance')\n",
    "plt.title('true and predicted signal')\n",
    "plt.grid(True)\n",
    "\n",
    "# Add a legend\n",
    "plt.legend()\n",
    "\n",
    "# Show the plot\n",
    "plt.show()"
   ]
  },
  {
   "cell_type": "code",
   "execution_count": 64,
   "id": "0e2f3e3f-a19f-4da8-be44-197db514282d",
   "metadata": {},
   "outputs": [
    {
     "data": {
      "image/png": "[encoded data removed]",
      "text/plain": [
       "<Figure size 640x480 with 1 Axes>"
      ]
     },
     "metadata": {},
     "output_type": "display_data"
    }
   ],
   "source": [
    "# Plot the first graph\n",
    "plt.plot(shift_range, y_true, label='y_true')\n",
    "plt.show()"
   ]
  },
  {
   "cell_type": "code",
   "execution_count": 65,
   "id": "ba886668-bbfc-44c9-b128-12b07b44e226",
   "metadata": {},
   "outputs": [
    {
     "data": {
      "image/png": "[encoded data removed]",
      "text/plain": [
       "<Figure size 640x480 with 1 Axes>"
      ]
     },
     "metadata": {},
     "output_type": "display_data"
    }
   ],
   "source": [
    "# Plot the second graph\n",
    "plt.plot(shift_range, y_p, label='y_pred', color='orange')\n",
    "plt.show()"
   ]
  },
  {
   "cell_type": "code",
   "execution_count": 66,
   "id": "c5edf0c4-afa6-4c5f-ba70-9698b07abd90",
   "metadata": {},
   "outputs": [
    {
     "data": {
      "image/png": "[encoded data removed]",
      "text/plain": [
       "<Figure size 640x480 with 1 Axes>"
      ]
     },
     "metadata": {},
     "output_type": "display_data"
    }
   ],
   "source": [
    "# Plot the third graph\n",
    "plt.plot(shift_range, x_t, label='X_test', color='green')\n",
    "plt.show()"
   ]
  },
  {
   "cell_type": "code",
   "execution_count": null,
   "id": "218a2e95-57a4-4487-b758-82f18aa6c9f6",
   "metadata": {},
   "outputs": [],
   "source": []
  }
 ],
 "metadata": {
  "kernelspec": {
   "display_name": "Python 3 (ipykernel)",
   "language": "python",
   "name": "python3"
  },
  "language_info": {
   "codemirror_mode": {
    "name": "ipython",
    "version": 3
   },
   "file_extension": ".py",
   "mimetype": "text/x-python",
   "name": "python",
   "nbconvert_exporter": "python",
   "pygments_lexer": "ipython3",
   "version": "3.10.12"
  }
 },
 "nbformat": 4,
 "nbformat_minor": 5
}
